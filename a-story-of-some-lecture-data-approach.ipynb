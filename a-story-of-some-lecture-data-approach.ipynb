{
 "cells": [
  {
   "cell_type": "code",
   "execution_count": 1,
   "id": "9ae16e63",
   "metadata": {
    "_kg_hide-input": true,
    "execution": {
     "iopub.execute_input": "2023-07-15T20:56:07.444860Z",
     "iopub.status.busy": "2023-07-15T20:56:07.443623Z",
     "iopub.status.idle": "2023-07-15T20:56:07.456087Z",
     "shell.execute_reply": "2023-07-15T20:56:07.455358Z"
    },
    "jupyter": {
     "source_hidden": true
    },
    "papermill": {
     "duration": 0.026224,
     "end_time": "2023-07-15T20:56:07.458059",
     "exception": false,
     "start_time": "2023-07-15T20:56:07.431835",
     "status": "completed"
    },
    "tags": []
   },
   "outputs": [],
   "source": [
    "import numpy as np # linear algebra\n",
    "import pandas as pd # data processing, CSV file I/O (e.g. pd.read_csv)"
   ]
  },
  {
   "cell_type": "code",
   "execution_count": 2,
   "id": "6cdcbffe",
   "metadata": {
    "_kg_hide-input": true,
    "_kg_hide-output": true,
    "execution": {
     "iopub.execute_input": "2023-07-15T20:56:07.479119Z",
     "iopub.status.busy": "2023-07-15T20:56:07.478731Z",
     "iopub.status.idle": "2023-07-15T20:56:08.960803Z",
     "shell.execute_reply": "2023-07-15T20:56:08.959686Z"
    },
    "papermill": {
     "duration": 1.495639,
     "end_time": "2023-07-15T20:56:08.963456",
     "exception": false,
     "start_time": "2023-07-15T20:56:07.467817",
     "status": "completed"
    },
    "slideshow": {
     "slide_type": "skip"
    },
    "tags": []
   },
   "outputs": [
    {
     "name": "stderr",
     "output_type": "stream",
     "text": [
      "/opt/conda/lib/python3.10/site-packages/scipy/__init__.py:146: UserWarning: A NumPy version >=1.16.5 and <1.23.0 is required for this version of SciPy (detected version 1.23.5\n",
      "  warnings.warn(f\"A NumPy version >={np_minversion} and <{np_maxversion}\"\n"
     ]
    }
   ],
   "source": [
    "from datetime import timedelta\n",
    "import matplotlib.pyplot as plt\n",
    "import pandas as pd\n",
    "import seaborn as sns\n",
    "import plotly.graph_objects as go\n",
    "from plotly.subplots import make_subplots"
   ]
  },
  {
   "cell_type": "markdown",
   "id": "c07b0601",
   "metadata": {
    "papermill": {
     "duration": 0.00963,
     "end_time": "2023-07-15T20:56:08.983183",
     "exception": false,
     "start_time": "2023-07-15T20:56:08.973553",
     "status": "completed"
    },
    "tags": []
   },
   "source": [
    "## This is an analysis of how trainees handled solving their first AI problem.\n",
    "### A few days ago I attended a training where as one example of the use of artificial intelligence, users solved their first data analysis and modeling problem - the Titanic disaster. I collected the solutions they sent (user_name, score (after solution evaluation), file, timestamp)."
   ]
  },
  {
   "cell_type": "code",
   "execution_count": 3,
   "id": "70f033e3",
   "metadata": {
    "_kg_hide-input": true,
    "execution": {
     "iopub.execute_input": "2023-07-15T20:56:09.003958Z",
     "iopub.status.busy": "2023-07-15T20:56:09.003533Z",
     "iopub.status.idle": "2023-07-15T20:56:09.029064Z",
     "shell.execute_reply": "2023-07-15T20:56:09.028246Z"
    },
    "papermill": {
     "duration": 0.038797,
     "end_time": "2023-07-15T20:56:09.031579",
     "exception": false,
     "start_time": "2023-07-15T20:56:08.992782",
     "status": "completed"
    },
    "tags": []
   },
   "outputs": [],
   "source": [
    "df = pd.read_csv(\"/kaggle/input/a-story-of-some-lecture/users_titanic_scores.csv\")\n",
    "df['timestamp'] = pd.to_datetime(df['timestamp'])"
   ]
  },
  {
   "cell_type": "markdown",
   "id": "2fe89322",
   "metadata": {
    "papermill": {
     "duration": 0.009587,
     "end_time": "2023-07-15T20:56:09.052568",
     "exception": false,
     "start_time": "2023-07-15T20:56:09.042981",
     "status": "completed"
    },
    "tags": []
   },
   "source": [
    "## Basic exploration"
   ]
  },
  {
   "cell_type": "code",
   "execution_count": 4,
   "id": "436c81de",
   "metadata": {
    "_kg_hide-input": true,
    "execution": {
     "iopub.execute_input": "2023-07-15T20:56:09.074421Z",
     "iopub.status.busy": "2023-07-15T20:56:09.073663Z",
     "iopub.status.idle": "2023-07-15T20:56:09.082472Z",
     "shell.execute_reply": "2023-07-15T20:56:09.081259Z"
    },
    "papermill": {
     "duration": 0.022256,
     "end_time": "2023-07-15T20:56:09.084707",
     "exception": false,
     "start_time": "2023-07-15T20:56:09.062451",
     "status": "completed"
    },
    "tags": []
   },
   "outputs": [
    {
     "name": "stdout",
     "output_type": "stream",
     "text": [
      "Number of participants: 21\n",
      "Number of observations in the dataset: 129\n"
     ]
    }
   ],
   "source": [
    "print(f\"Number of participants: {len(df.user_name.unique())}\")\n",
    "print(f\"Number of observations in the dataset: {df.shape[0]}\")"
   ]
  },
  {
   "cell_type": "markdown",
   "id": "f83c3882",
   "metadata": {
    "papermill": {
     "duration": 0.009486,
     "end_time": "2023-07-15T20:56:09.104285",
     "exception": false,
     "start_time": "2023-07-15T20:56:09.094799",
     "status": "completed"
    },
    "tags": []
   },
   "source": [
    "### 21 participants sent a total of 129 solutions! Let's see how long the participants struggled with the RMS Titanic passenger classification problem."
   ]
  },
  {
   "cell_type": "code",
   "execution_count": 5,
   "id": "1211e39e",
   "metadata": {
    "_kg_hide-input": true,
    "execution": {
     "iopub.execute_input": "2023-07-15T20:56:09.125662Z",
     "iopub.status.busy": "2023-07-15T20:56:09.124942Z",
     "iopub.status.idle": "2023-07-15T20:56:09.135437Z",
     "shell.execute_reply": "2023-07-15T20:56:09.134192Z"
    },
    "papermill": {
     "duration": 0.023393,
     "end_time": "2023-07-15T20:56:09.137482",
     "exception": false,
     "start_time": "2023-07-15T20:56:09.114089",
     "status": "completed"
    },
    "tags": []
   },
   "outputs": [
    {
     "name": "stdout",
     "output_type": "stream",
     "text": [
      "2023-07-13 11:21:17.294000\n",
      "2023-07-13 12:49:02.936000\n",
      "0 days 01:27:45.642000\n"
     ]
    }
   ],
   "source": [
    "print(df.timestamp.min())\n",
    "print(df.timestamp.max())\n",
    "print(df.timestamp.max() - df.timestamp.min())"
   ]
  },
  {
   "cell_type": "markdown",
   "id": "e63fc371",
   "metadata": {
    "papermill": {
     "duration": 0.009318,
     "end_time": "2023-07-15T20:56:09.156701",
     "exception": false,
     "start_time": "2023-07-15T20:56:09.147383",
     "status": "completed"
    },
    "tags": []
   },
   "source": [
    "### The first solutions were sent at 11:21 a.m., while the last solutions were sent at 12:49 p.m. Thus, the participants were committedly trying to improve their results for almost 1.5 hours.\n",
    "\n",
    "### On the other hand, what is the number of solutions sent by individual participants? Did a small group of people send most of the solutions, or did everyone send a similar number of solutions?"
   ]
  },
  {
   "cell_type": "code",
   "execution_count": 6,
   "id": "cdfaf6dc",
   "metadata": {
    "_kg_hide-input": true,
    "execution": {
     "iopub.execute_input": "2023-07-15T20:56:09.177992Z",
     "iopub.status.busy": "2023-07-15T20:56:09.177065Z",
     "iopub.status.idle": "2023-07-15T20:56:09.422713Z",
     "shell.execute_reply": "2023-07-15T20:56:09.421494Z"
    },
    "papermill": {
     "duration": 0.259032,
     "end_time": "2023-07-15T20:56:09.425236",
     "exception": false,
     "start_time": "2023-07-15T20:56:09.166204",
     "status": "completed"
    },
    "tags": []
   },
   "outputs": [
    {
     "data": {
      "text/html": [
       "        <script type=\"text/javascript\">\n",
       "        window.PlotlyConfig = {MathJaxConfig: 'local'};\n",
       "        if (window.MathJax && window.MathJax.Hub && window.MathJax.Hub.Config) {window.MathJax.Hub.Config({SVG: {font: \"STIX-Web\"}});}\n",
       "        if (typeof require !== 'undefined') {\n",
       "        require.undef(\"plotly\");\n",
       "        requirejs.config({\n",
       "            paths: {\n",
       "                'plotly': ['https://cdn.plot.ly/plotly-2.24.1.min']\n",
       "            }\n",
       "        });\n",
       "        require(['plotly'], function(Plotly) {\n",
       "            window._Plotly = Plotly;\n",
       "        });\n",
       "        }\n",
       "        </script>\n",
       "        "
      ]
     },
     "metadata": {},
     "output_type": "display_data"
    },
    {
     "data": {
      "text/html": [
       "<div>                            <div id=\"6ce7d207-6d51-4e4d-b967-3bd88b2a010e\" class=\"plotly-graph-div\" style=\"height:500px; width:800px;\"></div>            <script type=\"text/javascript\">                require([\"plotly\"], function(Plotly) {                    window.PLOTLYENV=window.PLOTLYENV || {};                                    if (document.getElementById(\"6ce7d207-6d51-4e4d-b967-3bd88b2a010e\")) {                    Plotly.newPlot(                        \"6ce7d207-6d51-4e4d-b967-3bd88b2a010e\",                        [{\"text\":[18.0,10.0,10.0,9.0,8.0,7.0,7.0,6.0,6.0,6.0,5.0,5.0,5.0,4.0,4.0,4.0,3.0,3.0,3.0,3.0,3.0],\"textposition\":\"auto\",\"x\":[\"Uczestnik 6\",\"Uczestnik 1\",\"Uczestnik 13\",\"Uczestnik 21\",\"Uczestnik 5\",\"Uczestnik 19\",\"Uczestnik 18\",\"Uczestnik 8\",\"Uczestnik 2\",\"Uczestnik 15\",\"Uczestnik 7\",\"Uczestnik 9\",\"Uczestnik 12\",\"Uczestnik 17\",\"Uczestnik 20\",\"Uczestnik 4\",\"Uczestnik 3\",\"Uczestnik 16\",\"Uczestnik 14\",\"Uczestnik 10\",\"Uczestnik 11\"],\"y\":[18,10,10,9,8,7,7,6,6,6,5,5,5,4,4,4,3,3,3,3,3],\"type\":\"bar\"}],                        {\"template\":{\"data\":{\"histogram2dcontour\":[{\"type\":\"histogram2dcontour\",\"colorbar\":{\"outlinewidth\":0,\"ticks\":\"\"},\"colorscale\":[[0.0,\"#0d0887\"],[0.1111111111111111,\"#46039f\"],[0.2222222222222222,\"#7201a8\"],[0.3333333333333333,\"#9c179e\"],[0.4444444444444444,\"#bd3786\"],[0.5555555555555556,\"#d8576b\"],[0.6666666666666666,\"#ed7953\"],[0.7777777777777778,\"#fb9f3a\"],[0.8888888888888888,\"#fdca26\"],[1.0,\"#f0f921\"]]}],\"choropleth\":[{\"type\":\"choropleth\",\"colorbar\":{\"outlinewidth\":0,\"ticks\":\"\"}}],\"histogram2d\":[{\"type\":\"histogram2d\",\"colorbar\":{\"outlinewidth\":0,\"ticks\":\"\"},\"colorscale\":[[0.0,\"#0d0887\"],[0.1111111111111111,\"#46039f\"],[0.2222222222222222,\"#7201a8\"],[0.3333333333333333,\"#9c179e\"],[0.4444444444444444,\"#bd3786\"],[0.5555555555555556,\"#d8576b\"],[0.6666666666666666,\"#ed7953\"],[0.7777777777777778,\"#fb9f3a\"],[0.8888888888888888,\"#fdca26\"],[1.0,\"#f0f921\"]]}],\"heatmap\":[{\"type\":\"heatmap\",\"colorbar\":{\"outlinewidth\":0,\"ticks\":\"\"},\"colorscale\":[[0.0,\"#0d0887\"],[0.1111111111111111,\"#46039f\"],[0.2222222222222222,\"#7201a8\"],[0.3333333333333333,\"#9c179e\"],[0.4444444444444444,\"#bd3786\"],[0.5555555555555556,\"#d8576b\"],[0.6666666666666666,\"#ed7953\"],[0.7777777777777778,\"#fb9f3a\"],[0.8888888888888888,\"#fdca26\"],[1.0,\"#f0f921\"]]}],\"heatmapgl\":[{\"type\":\"heatmapgl\",\"colorbar\":{\"outlinewidth\":0,\"ticks\":\"\"},\"colorscale\":[[0.0,\"#0d0887\"],[0.1111111111111111,\"#46039f\"],[0.2222222222222222,\"#7201a8\"],[0.3333333333333333,\"#9c179e\"],[0.4444444444444444,\"#bd3786\"],[0.5555555555555556,\"#d8576b\"],[0.6666666666666666,\"#ed7953\"],[0.7777777777777778,\"#fb9f3a\"],[0.8888888888888888,\"#fdca26\"],[1.0,\"#f0f921\"]]}],\"contourcarpet\":[{\"type\":\"contourcarpet\",\"colorbar\":{\"outlinewidth\":0,\"ticks\":\"\"}}],\"contour\":[{\"type\":\"contour\",\"colorbar\":{\"outlinewidth\":0,\"ticks\":\"\"},\"colorscale\":[[0.0,\"#0d0887\"],[0.1111111111111111,\"#46039f\"],[0.2222222222222222,\"#7201a8\"],[0.3333333333333333,\"#9c179e\"],[0.4444444444444444,\"#bd3786\"],[0.5555555555555556,\"#d8576b\"],[0.6666666666666666,\"#ed7953\"],[0.7777777777777778,\"#fb9f3a\"],[0.8888888888888888,\"#fdca26\"],[1.0,\"#f0f921\"]]}],\"surface\":[{\"type\":\"surface\",\"colorbar\":{\"outlinewidth\":0,\"ticks\":\"\"},\"colorscale\":[[0.0,\"#0d0887\"],[0.1111111111111111,\"#46039f\"],[0.2222222222222222,\"#7201a8\"],[0.3333333333333333,\"#9c179e\"],[0.4444444444444444,\"#bd3786\"],[0.5555555555555556,\"#d8576b\"],[0.6666666666666666,\"#ed7953\"],[0.7777777777777778,\"#fb9f3a\"],[0.8888888888888888,\"#fdca26\"],[1.0,\"#f0f921\"]]}],\"mesh3d\":[{\"type\":\"mesh3d\",\"colorbar\":{\"outlinewidth\":0,\"ticks\":\"\"}}],\"scatter\":[{\"fillpattern\":{\"fillmode\":\"overlay\",\"size\":10,\"solidity\":0.2},\"type\":\"scatter\"}],\"parcoords\":[{\"type\":\"parcoords\",\"line\":{\"colorbar\":{\"outlinewidth\":0,\"ticks\":\"\"}}}],\"scatterpolargl\":[{\"type\":\"scatterpolargl\",\"marker\":{\"colorbar\":{\"outlinewidth\":0,\"ticks\":\"\"}}}],\"bar\":[{\"error_x\":{\"color\":\"#2a3f5f\"},\"error_y\":{\"color\":\"#2a3f5f\"},\"marker\":{\"line\":{\"color\":\"#E5ECF6\",\"width\":0.5},\"pattern\":{\"fillmode\":\"overlay\",\"size\":10,\"solidity\":0.2}},\"type\":\"bar\"}],\"scattergeo\":[{\"type\":\"scattergeo\",\"marker\":{\"colorbar\":{\"outlinewidth\":0,\"ticks\":\"\"}}}],\"scatterpolar\":[{\"type\":\"scatterpolar\",\"marker\":{\"colorbar\":{\"outlinewidth\":0,\"ticks\":\"\"}}}],\"histogram\":[{\"marker\":{\"pattern\":{\"fillmode\":\"overlay\",\"size\":10,\"solidity\":0.2}},\"type\":\"histogram\"}],\"scattergl\":[{\"type\":\"scattergl\",\"marker\":{\"colorbar\":{\"outlinewidth\":0,\"ticks\":\"\"}}}],\"scatter3d\":[{\"type\":\"scatter3d\",\"line\":{\"colorbar\":{\"outlinewidth\":0,\"ticks\":\"\"}},\"marker\":{\"colorbar\":{\"outlinewidth\":0,\"ticks\":\"\"}}}],\"scattermapbox\":[{\"type\":\"scattermapbox\",\"marker\":{\"colorbar\":{\"outlinewidth\":0,\"ticks\":\"\"}}}],\"scatterternary\":[{\"type\":\"scatterternary\",\"marker\":{\"colorbar\":{\"outlinewidth\":0,\"ticks\":\"\"}}}],\"scattercarpet\":[{\"type\":\"scattercarpet\",\"marker\":{\"colorbar\":{\"outlinewidth\":0,\"ticks\":\"\"}}}],\"carpet\":[{\"aaxis\":{\"endlinecolor\":\"#2a3f5f\",\"gridcolor\":\"white\",\"linecolor\":\"white\",\"minorgridcolor\":\"white\",\"startlinecolor\":\"#2a3f5f\"},\"baxis\":{\"endlinecolor\":\"#2a3f5f\",\"gridcolor\":\"white\",\"linecolor\":\"white\",\"minorgridcolor\":\"white\",\"startlinecolor\":\"#2a3f5f\"},\"type\":\"carpet\"}],\"table\":[{\"cells\":{\"fill\":{\"color\":\"#EBF0F8\"},\"line\":{\"color\":\"white\"}},\"header\":{\"fill\":{\"color\":\"#C8D4E3\"},\"line\":{\"color\":\"white\"}},\"type\":\"table\"}],\"barpolar\":[{\"marker\":{\"line\":{\"color\":\"#E5ECF6\",\"width\":0.5},\"pattern\":{\"fillmode\":\"overlay\",\"size\":10,\"solidity\":0.2}},\"type\":\"barpolar\"}],\"pie\":[{\"automargin\":true,\"type\":\"pie\"}]},\"layout\":{\"autotypenumbers\":\"strict\",\"colorway\":[\"#636efa\",\"#EF553B\",\"#00cc96\",\"#ab63fa\",\"#FFA15A\",\"#19d3f3\",\"#FF6692\",\"#B6E880\",\"#FF97FF\",\"#FECB52\"],\"font\":{\"color\":\"#2a3f5f\"},\"hovermode\":\"closest\",\"hoverlabel\":{\"align\":\"left\"},\"paper_bgcolor\":\"white\",\"plot_bgcolor\":\"#E5ECF6\",\"polar\":{\"bgcolor\":\"#E5ECF6\",\"angularaxis\":{\"gridcolor\":\"white\",\"linecolor\":\"white\",\"ticks\":\"\"},\"radialaxis\":{\"gridcolor\":\"white\",\"linecolor\":\"white\",\"ticks\":\"\"}},\"ternary\":{\"bgcolor\":\"#E5ECF6\",\"aaxis\":{\"gridcolor\":\"white\",\"linecolor\":\"white\",\"ticks\":\"\"},\"baxis\":{\"gridcolor\":\"white\",\"linecolor\":\"white\",\"ticks\":\"\"},\"caxis\":{\"gridcolor\":\"white\",\"linecolor\":\"white\",\"ticks\":\"\"}},\"coloraxis\":{\"colorbar\":{\"outlinewidth\":0,\"ticks\":\"\"}},\"colorscale\":{\"sequential\":[[0.0,\"#0d0887\"],[0.1111111111111111,\"#46039f\"],[0.2222222222222222,\"#7201a8\"],[0.3333333333333333,\"#9c179e\"],[0.4444444444444444,\"#bd3786\"],[0.5555555555555556,\"#d8576b\"],[0.6666666666666666,\"#ed7953\"],[0.7777777777777778,\"#fb9f3a\"],[0.8888888888888888,\"#fdca26\"],[1.0,\"#f0f921\"]],\"sequentialminus\":[[0.0,\"#0d0887\"],[0.1111111111111111,\"#46039f\"],[0.2222222222222222,\"#7201a8\"],[0.3333333333333333,\"#9c179e\"],[0.4444444444444444,\"#bd3786\"],[0.5555555555555556,\"#d8576b\"],[0.6666666666666666,\"#ed7953\"],[0.7777777777777778,\"#fb9f3a\"],[0.8888888888888888,\"#fdca26\"],[1.0,\"#f0f921\"]],\"diverging\":[[0,\"#8e0152\"],[0.1,\"#c51b7d\"],[0.2,\"#de77ae\"],[0.3,\"#f1b6da\"],[0.4,\"#fde0ef\"],[0.5,\"#f7f7f7\"],[0.6,\"#e6f5d0\"],[0.7,\"#b8e186\"],[0.8,\"#7fbc41\"],[0.9,\"#4d9221\"],[1,\"#276419\"]]},\"xaxis\":{\"gridcolor\":\"white\",\"linecolor\":\"white\",\"ticks\":\"\",\"title\":{\"standoff\":15},\"zerolinecolor\":\"white\",\"automargin\":true,\"zerolinewidth\":2},\"yaxis\":{\"gridcolor\":\"white\",\"linecolor\":\"white\",\"ticks\":\"\",\"title\":{\"standoff\":15},\"zerolinecolor\":\"white\",\"automargin\":true,\"zerolinewidth\":2},\"scene\":{\"xaxis\":{\"backgroundcolor\":\"#E5ECF6\",\"gridcolor\":\"white\",\"linecolor\":\"white\",\"showbackground\":true,\"ticks\":\"\",\"zerolinecolor\":\"white\",\"gridwidth\":2},\"yaxis\":{\"backgroundcolor\":\"#E5ECF6\",\"gridcolor\":\"white\",\"linecolor\":\"white\",\"showbackground\":true,\"ticks\":\"\",\"zerolinecolor\":\"white\",\"gridwidth\":2},\"zaxis\":{\"backgroundcolor\":\"#E5ECF6\",\"gridcolor\":\"white\",\"linecolor\":\"white\",\"showbackground\":true,\"ticks\":\"\",\"zerolinecolor\":\"white\",\"gridwidth\":2}},\"shapedefaults\":{\"line\":{\"color\":\"#2a3f5f\"}},\"annotationdefaults\":{\"arrowcolor\":\"#2a3f5f\",\"arrowhead\":0,\"arrowwidth\":1},\"geo\":{\"bgcolor\":\"white\",\"landcolor\":\"#E5ECF6\",\"subunitcolor\":\"white\",\"showland\":true,\"showlakes\":true,\"lakecolor\":\"white\"},\"title\":{\"x\":0.05},\"mapbox\":{\"style\":\"light\"}}},\"xaxis\":{\"title\":{\"text\":\"Participant name\"}},\"yaxis\":{\"title\":{\"text\":\"Number of solutions sent\"}},\"title\":{\"text\":\"Number of solutions sent by each participant\"},\"margin\":{\"l\":50,\"r\":50,\"b\":100,\"t\":100,\"pad\":4},\"autosize\":false,\"width\":800,\"height\":500,\"paper_bgcolor\":\"LightSteelBlue\"},                        {\"responsive\": true}                    ).then(function(){\n",
       "                            \n",
       "var gd = document.getElementById('6ce7d207-6d51-4e4d-b967-3bd88b2a010e');\n",
       "var x = new MutationObserver(function (mutations, observer) {{\n",
       "        var display = window.getComputedStyle(gd).display;\n",
       "        if (!display || display === 'none') {{\n",
       "            console.log([gd, 'removed!']);\n",
       "            Plotly.purge(gd);\n",
       "            observer.disconnect();\n",
       "        }}\n",
       "}});\n",
       "\n",
       "// Listen for the removal of the full notebook cells\n",
       "var notebookContainer = gd.closest('#notebook-container');\n",
       "if (notebookContainer) {{\n",
       "    x.observe(notebookContainer, {childList: true});\n",
       "}}\n",
       "\n",
       "// Listen for the clearing of the current output cell\n",
       "var outputEl = gd.closest('.output');\n",
       "if (outputEl) {{\n",
       "    x.observe(outputEl, {childList: true});\n",
       "}}\n",
       "\n",
       "                        })                };                });            </script>        </div>"
      ]
     },
     "metadata": {},
     "output_type": "display_data"
    }
   ],
   "source": [
    "user_counts = df['user_name'].value_counts()\n",
    "fig = go.Figure([go.Bar(x=user_counts.index, y=user_counts.values, text=user_counts.values, textposition='auto')])\n",
    "\n",
    "fig.update_xaxes(title_text=\"Participant name\")\n",
    "fig.update_yaxes(title_text=\"Number of solutions sent\")\n",
    "\n",
    "fig.update_layout(\n",
    "    title_text=\"Number of solutions sent by each participant\",\n",
    "    autosize=False,\n",
    "    width=800,\n",
    "    height=500,\n",
    "    margin=dict(\n",
    "        l=50,\n",
    "        r=50,\n",
    "        b=100,\n",
    "        t=100,\n",
    "        pad=4\n",
    "    ),\n",
    "    paper_bgcolor=\"LightSteelBlue\",\n",
    ")\n",
    "\n",
    "fig.show()"
   ]
  },
  {
   "cell_type": "code",
   "execution_count": 7,
   "id": "5e6056c5",
   "metadata": {
    "_kg_hide-input": true,
    "execution": {
     "iopub.execute_input": "2023-07-15T20:56:09.447495Z",
     "iopub.status.busy": "2023-07-15T20:56:09.447121Z",
     "iopub.status.idle": "2023-07-15T20:56:09.455971Z",
     "shell.execute_reply": "2023-07-15T20:56:09.455195Z"
    },
    "papermill": {
     "duration": 0.023196,
     "end_time": "2023-07-15T20:56:09.458949",
     "exception": false,
     "start_time": "2023-07-15T20:56:09.435753",
     "status": "completed"
    },
    "tags": []
   },
   "outputs": [
    {
     "name": "stdout",
     "output_type": "stream",
     "text": [
      "Average number of solutions sent: 6.142857142857143\n",
      "The most common value: 5.0\n"
     ]
    }
   ],
   "source": [
    "print(f'Average number of solutions sent: {df[\"user_name\"].value_counts().mean()}')\n",
    "print(f'The most common value: {df[\"user_name\"].value_counts().median()}')"
   ]
  },
  {
   "cell_type": "markdown",
   "id": "8f0a57b3",
   "metadata": {
    "papermill": {
     "duration": 0.010228,
     "end_time": "2023-07-15T20:56:09.479666",
     "exception": false,
     "start_time": "2023-07-15T20:56:09.469438",
     "status": "completed"
    },
    "tags": []
   },
   "source": [
    "### Each participant rose to the challenge of improving their score, and most did so at least several times. The average number of solutions sent was 6 per person. The most common value in the number of solutions sent was 5.\n",
    "\n",
    "### So let's see what the increase in the total sum of submitted solutions looked like over time."
   ]
  },
  {
   "cell_type": "code",
   "execution_count": 8,
   "id": "7d11e624",
   "metadata": {
    "_kg_hide-input": true,
    "execution": {
     "iopub.execute_input": "2023-07-15T20:56:09.503109Z",
     "iopub.status.busy": "2023-07-15T20:56:09.502154Z",
     "iopub.status.idle": "2023-07-15T20:56:09.544187Z",
     "shell.execute_reply": "2023-07-15T20:56:09.543047Z"
    },
    "papermill": {
     "duration": 0.056098,
     "end_time": "2023-07-15T20:56:09.546584",
     "exception": false,
     "start_time": "2023-07-15T20:56:09.490486",
     "status": "completed"
    },
    "tags": []
   },
   "outputs": [
    {
     "data": {
      "text/html": [
       "<div>                            <div id=\"5be60d5d-91a6-4094-9c09-6b28969f9845\" class=\"plotly-graph-div\" style=\"height:600px; width:800px;\"></div>            <script type=\"text/javascript\">                require([\"plotly\"], function(Plotly) {                    window.PLOTLYENV=window.PLOTLYENV || {};                                    if (document.getElementById(\"5be60d5d-91a6-4094-9c09-6b28969f9845\")) {                    Plotly.newPlot(                        \"5be60d5d-91a6-4094-9c09-6b28969f9845\",                        [{\"mode\":\"lines\",\"name\":\"All Users\",\"x\":[\"2023-07-13T11:21:17.294000\",\"2023-07-13T11:21:55.228000\",\"2023-07-13T11:24:40.041000\",\"2023-07-13T11:24:54.016000\",\"2023-07-13T11:25:16.267000\",\"2023-07-13T11:26:37.676000\",\"2023-07-13T11:26:42.911000\",\"2023-07-13T11:26:44.922000\",\"2023-07-13T11:26:51.131000\",\"2023-07-13T11:27:14.478000\",\"2023-07-13T11:27:25.891000\",\"2023-07-13T11:28:40.012000\",\"2023-07-13T11:28:55.818000\",\"2023-07-13T11:29:26.762000\",\"2023-07-13T11:29:31.140000\",\"2023-07-13T11:29:53.679000\",\"2023-07-13T11:30:05.494000\",\"2023-07-13T11:31:06.967000\",\"2023-07-13T11:31:16.090000\",\"2023-07-13T11:31:16.518000\",\"2023-07-13T11:32:04.955000\",\"2023-07-13T11:32:09.066000\",\"2023-07-13T11:32:11.639000\",\"2023-07-13T11:32:26.419000\",\"2023-07-13T11:32:42.599000\",\"2023-07-13T11:32:47.513000\",\"2023-07-13T11:33:21.189000\",\"2023-07-13T11:33:28.948000\",\"2023-07-13T11:34:07.939000\",\"2023-07-13T11:34:57.997000\",\"2023-07-13T11:35:03.964000\",\"2023-07-13T11:35:39.982000\",\"2023-07-13T11:36:05.892000\",\"2023-07-13T11:36:38.689000\",\"2023-07-13T11:36:57.382000\",\"2023-07-13T11:37:27.398000\",\"2023-07-13T11:38:15.228000\",\"2023-07-13T11:38:21.727000\",\"2023-07-13T11:39:55.346000\",\"2023-07-13T11:40:52.300000\",\"2023-07-13T11:41:13.449000\",\"2023-07-13T11:48:04.686000\",\"2023-07-13T11:48:14.912000\",\"2023-07-13T11:48:19.407000\",\"2023-07-13T11:48:25.760000\",\"2023-07-13T11:48:26.030000\",\"2023-07-13T11:48:46.188000\",\"2023-07-13T11:48:46.571000\",\"2023-07-13T11:49:06.453000\",\"2023-07-13T11:49:08.760000\",\"2023-07-13T11:49:09.383000\",\"2023-07-13T11:49:38.642000\",\"2023-07-13T11:49:45.858000\",\"2023-07-13T11:49:57.970000\",\"2023-07-13T11:49:58.165000\",\"2023-07-13T11:49:58.213000\",\"2023-07-13T11:50:06.972000\",\"2023-07-13T11:50:38.895000\",\"2023-07-13T11:50:39.159000\",\"2023-07-13T11:50:55.784000\",\"2023-07-13T11:50:58.116000\",\"2023-07-13T11:50:58.379000\",\"2023-07-13T11:51:12.910000\",\"2023-07-13T11:51:29.055000\",\"2023-07-13T11:51:44.426000\",\"2023-07-13T11:51:44.625000\",\"2023-07-13T11:52:03.361000\",\"2023-07-13T11:52:16.113000\",\"2023-07-13T11:52:29.509000\",\"2023-07-13T11:52:52.774000\",\"2023-07-13T11:53:05.533000\",\"2023-07-13T11:53:28.818000\",\"2023-07-13T11:53:35.120000\",\"2023-07-13T11:54:45.579000\",\"2023-07-13T11:54:46.392000\",\"2023-07-13T11:55:33.826000\",\"2023-07-13T11:55:38.556000\",\"2023-07-13T11:55:52.662000\",\"2023-07-13T11:55:55.332000\",\"2023-07-13T11:56:18.989000\",\"2023-07-13T11:56:47.251000\",\"2023-07-13T11:57:06.690000\",\"2023-07-13T11:57:26.277000\",\"2023-07-13T11:57:26.601000\",\"2023-07-13T11:57:59.956000\",\"2023-07-13T11:58:08.985000\",\"2023-07-13T11:58:09.236000\",\"2023-07-13T11:58:29.596000\",\"2023-07-13T11:58:36.966000\",\"2023-07-13T11:58:51.980000\",\"2023-07-13T11:59:28.667000\",\"2023-07-13T11:59:28.944000\",\"2023-07-13T11:59:39.789000\",\"2023-07-13T12:00:06.474000\",\"2023-07-13T12:00:27.343000\",\"2023-07-13T12:01:20.877000\",\"2023-07-13T12:01:47.346000\",\"2023-07-13T12:02:25.895000\",\"2023-07-13T12:02:26.120000\",\"2023-07-13T12:02:37.301000\",\"2023-07-13T12:02:40.245000\",\"2023-07-13T12:02:57.895000\",\"2023-07-13T12:03:02.275000\",\"2023-07-13T12:03:30.379000\",\"2023-07-13T12:04:01.132000\",\"2023-07-13T12:04:57.574000\",\"2023-07-13T12:05:00.524000\",\"2023-07-13T12:05:45.495000\",\"2023-07-13T12:06:50.389000\",\"2023-07-13T12:06:50.619000\",\"2023-07-13T12:07:24.190000\",\"2023-07-13T12:07:24.454000\",\"2023-07-13T12:07:39.907000\",\"2023-07-13T12:07:59.043000\",\"2023-07-13T12:08:57.973000\",\"2023-07-13T12:09:49.128000\",\"2023-07-13T12:13:42.256000\",\"2023-07-13T12:15:59.657000\",\"2023-07-13T12:22:53.836000\",\"2023-07-13T12:23:08.930000\",\"2023-07-13T12:23:49.570000\",\"2023-07-13T12:26:05.216000\",\"2023-07-13T12:28:48.344000\",\"2023-07-13T12:29:01.735000\",\"2023-07-13T12:32:08.345000\",\"2023-07-13T12:32:47.954000\",\"2023-07-13T12:33:40.150000\",\"2023-07-13T12:47:16.834000\",\"2023-07-13T12:49:02.936000\"],\"y\":[1,2,3,4,5,6,7,8,9,10,11,12,13,14,15,16,17,18,19,20,21,22,23,24,25,26,27,28,29,30,31,32,33,34,35,36,37,38,39,40,41,42,43,44,45,46,47,48,49,50,51,52,53,54,55,56,57,58,59,60,61,62,63,64,65,66,67,68,69,70,71,72,73,74,75,76,77,78,79,80,81,82,83,84,85,86,87,88,89,90,91,92,93,94,95,96,97,98,99,100,101,102,103,104,105,106,107,108,109,110,111,112,113,114,115,116,117,118,119,120,121,122,123,124,125,126,127,128,129],\"type\":\"scatter\"}],                        {\"template\":{\"data\":{\"histogram2dcontour\":[{\"type\":\"histogram2dcontour\",\"colorbar\":{\"outlinewidth\":0,\"ticks\":\"\"},\"colorscale\":[[0.0,\"#0d0887\"],[0.1111111111111111,\"#46039f\"],[0.2222222222222222,\"#7201a8\"],[0.3333333333333333,\"#9c179e\"],[0.4444444444444444,\"#bd3786\"],[0.5555555555555556,\"#d8576b\"],[0.6666666666666666,\"#ed7953\"],[0.7777777777777778,\"#fb9f3a\"],[0.8888888888888888,\"#fdca26\"],[1.0,\"#f0f921\"]]}],\"choropleth\":[{\"type\":\"choropleth\",\"colorbar\":{\"outlinewidth\":0,\"ticks\":\"\"}}],\"histogram2d\":[{\"type\":\"histogram2d\",\"colorbar\":{\"outlinewidth\":0,\"ticks\":\"\"},\"colorscale\":[[0.0,\"#0d0887\"],[0.1111111111111111,\"#46039f\"],[0.2222222222222222,\"#7201a8\"],[0.3333333333333333,\"#9c179e\"],[0.4444444444444444,\"#bd3786\"],[0.5555555555555556,\"#d8576b\"],[0.6666666666666666,\"#ed7953\"],[0.7777777777777778,\"#fb9f3a\"],[0.8888888888888888,\"#fdca26\"],[1.0,\"#f0f921\"]]}],\"heatmap\":[{\"type\":\"heatmap\",\"colorbar\":{\"outlinewidth\":0,\"ticks\":\"\"},\"colorscale\":[[0.0,\"#0d0887\"],[0.1111111111111111,\"#46039f\"],[0.2222222222222222,\"#7201a8\"],[0.3333333333333333,\"#9c179e\"],[0.4444444444444444,\"#bd3786\"],[0.5555555555555556,\"#d8576b\"],[0.6666666666666666,\"#ed7953\"],[0.7777777777777778,\"#fb9f3a\"],[0.8888888888888888,\"#fdca26\"],[1.0,\"#f0f921\"]]}],\"heatmapgl\":[{\"type\":\"heatmapgl\",\"colorbar\":{\"outlinewidth\":0,\"ticks\":\"\"},\"colorscale\":[[0.0,\"#0d0887\"],[0.1111111111111111,\"#46039f\"],[0.2222222222222222,\"#7201a8\"],[0.3333333333333333,\"#9c179e\"],[0.4444444444444444,\"#bd3786\"],[0.5555555555555556,\"#d8576b\"],[0.6666666666666666,\"#ed7953\"],[0.7777777777777778,\"#fb9f3a\"],[0.8888888888888888,\"#fdca26\"],[1.0,\"#f0f921\"]]}],\"contourcarpet\":[{\"type\":\"contourcarpet\",\"colorbar\":{\"outlinewidth\":0,\"ticks\":\"\"}}],\"contour\":[{\"type\":\"contour\",\"colorbar\":{\"outlinewidth\":0,\"ticks\":\"\"},\"colorscale\":[[0.0,\"#0d0887\"],[0.1111111111111111,\"#46039f\"],[0.2222222222222222,\"#7201a8\"],[0.3333333333333333,\"#9c179e\"],[0.4444444444444444,\"#bd3786\"],[0.5555555555555556,\"#d8576b\"],[0.6666666666666666,\"#ed7953\"],[0.7777777777777778,\"#fb9f3a\"],[0.8888888888888888,\"#fdca26\"],[1.0,\"#f0f921\"]]}],\"surface\":[{\"type\":\"surface\",\"colorbar\":{\"outlinewidth\":0,\"ticks\":\"\"},\"colorscale\":[[0.0,\"#0d0887\"],[0.1111111111111111,\"#46039f\"],[0.2222222222222222,\"#7201a8\"],[0.3333333333333333,\"#9c179e\"],[0.4444444444444444,\"#bd3786\"],[0.5555555555555556,\"#d8576b\"],[0.6666666666666666,\"#ed7953\"],[0.7777777777777778,\"#fb9f3a\"],[0.8888888888888888,\"#fdca26\"],[1.0,\"#f0f921\"]]}],\"mesh3d\":[{\"type\":\"mesh3d\",\"colorbar\":{\"outlinewidth\":0,\"ticks\":\"\"}}],\"scatter\":[{\"fillpattern\":{\"fillmode\":\"overlay\",\"size\":10,\"solidity\":0.2},\"type\":\"scatter\"}],\"parcoords\":[{\"type\":\"parcoords\",\"line\":{\"colorbar\":{\"outlinewidth\":0,\"ticks\":\"\"}}}],\"scatterpolargl\":[{\"type\":\"scatterpolargl\",\"marker\":{\"colorbar\":{\"outlinewidth\":0,\"ticks\":\"\"}}}],\"bar\":[{\"error_x\":{\"color\":\"#2a3f5f\"},\"error_y\":{\"color\":\"#2a3f5f\"},\"marker\":{\"line\":{\"color\":\"#E5ECF6\",\"width\":0.5},\"pattern\":{\"fillmode\":\"overlay\",\"size\":10,\"solidity\":0.2}},\"type\":\"bar\"}],\"scattergeo\":[{\"type\":\"scattergeo\",\"marker\":{\"colorbar\":{\"outlinewidth\":0,\"ticks\":\"\"}}}],\"scatterpolar\":[{\"type\":\"scatterpolar\",\"marker\":{\"colorbar\":{\"outlinewidth\":0,\"ticks\":\"\"}}}],\"histogram\":[{\"marker\":{\"pattern\":{\"fillmode\":\"overlay\",\"size\":10,\"solidity\":0.2}},\"type\":\"histogram\"}],\"scattergl\":[{\"type\":\"scattergl\",\"marker\":{\"colorbar\":{\"outlinewidth\":0,\"ticks\":\"\"}}}],\"scatter3d\":[{\"type\":\"scatter3d\",\"line\":{\"colorbar\":{\"outlinewidth\":0,\"ticks\":\"\"}},\"marker\":{\"colorbar\":{\"outlinewidth\":0,\"ticks\":\"\"}}}],\"scattermapbox\":[{\"type\":\"scattermapbox\",\"marker\":{\"colorbar\":{\"outlinewidth\":0,\"ticks\":\"\"}}}],\"scatterternary\":[{\"type\":\"scatterternary\",\"marker\":{\"colorbar\":{\"outlinewidth\":0,\"ticks\":\"\"}}}],\"scattercarpet\":[{\"type\":\"scattercarpet\",\"marker\":{\"colorbar\":{\"outlinewidth\":0,\"ticks\":\"\"}}}],\"carpet\":[{\"aaxis\":{\"endlinecolor\":\"#2a3f5f\",\"gridcolor\":\"white\",\"linecolor\":\"white\",\"minorgridcolor\":\"white\",\"startlinecolor\":\"#2a3f5f\"},\"baxis\":{\"endlinecolor\":\"#2a3f5f\",\"gridcolor\":\"white\",\"linecolor\":\"white\",\"minorgridcolor\":\"white\",\"startlinecolor\":\"#2a3f5f\"},\"type\":\"carpet\"}],\"table\":[{\"cells\":{\"fill\":{\"color\":\"#EBF0F8\"},\"line\":{\"color\":\"white\"}},\"header\":{\"fill\":{\"color\":\"#C8D4E3\"},\"line\":{\"color\":\"white\"}},\"type\":\"table\"}],\"barpolar\":[{\"marker\":{\"line\":{\"color\":\"#E5ECF6\",\"width\":0.5},\"pattern\":{\"fillmode\":\"overlay\",\"size\":10,\"solidity\":0.2}},\"type\":\"barpolar\"}],\"pie\":[{\"automargin\":true,\"type\":\"pie\"}]},\"layout\":{\"autotypenumbers\":\"strict\",\"colorway\":[\"#636efa\",\"#EF553B\",\"#00cc96\",\"#ab63fa\",\"#FFA15A\",\"#19d3f3\",\"#FF6692\",\"#B6E880\",\"#FF97FF\",\"#FECB52\"],\"font\":{\"color\":\"#2a3f5f\"},\"hovermode\":\"closest\",\"hoverlabel\":{\"align\":\"left\"},\"paper_bgcolor\":\"white\",\"plot_bgcolor\":\"#E5ECF6\",\"polar\":{\"bgcolor\":\"#E5ECF6\",\"angularaxis\":{\"gridcolor\":\"white\",\"linecolor\":\"white\",\"ticks\":\"\"},\"radialaxis\":{\"gridcolor\":\"white\",\"linecolor\":\"white\",\"ticks\":\"\"}},\"ternary\":{\"bgcolor\":\"#E5ECF6\",\"aaxis\":{\"gridcolor\":\"white\",\"linecolor\":\"white\",\"ticks\":\"\"},\"baxis\":{\"gridcolor\":\"white\",\"linecolor\":\"white\",\"ticks\":\"\"},\"caxis\":{\"gridcolor\":\"white\",\"linecolor\":\"white\",\"ticks\":\"\"}},\"coloraxis\":{\"colorbar\":{\"outlinewidth\":0,\"ticks\":\"\"}},\"colorscale\":{\"sequential\":[[0.0,\"#0d0887\"],[0.1111111111111111,\"#46039f\"],[0.2222222222222222,\"#7201a8\"],[0.3333333333333333,\"#9c179e\"],[0.4444444444444444,\"#bd3786\"],[0.5555555555555556,\"#d8576b\"],[0.6666666666666666,\"#ed7953\"],[0.7777777777777778,\"#fb9f3a\"],[0.8888888888888888,\"#fdca26\"],[1.0,\"#f0f921\"]],\"sequentialminus\":[[0.0,\"#0d0887\"],[0.1111111111111111,\"#46039f\"],[0.2222222222222222,\"#7201a8\"],[0.3333333333333333,\"#9c179e\"],[0.4444444444444444,\"#bd3786\"],[0.5555555555555556,\"#d8576b\"],[0.6666666666666666,\"#ed7953\"],[0.7777777777777778,\"#fb9f3a\"],[0.8888888888888888,\"#fdca26\"],[1.0,\"#f0f921\"]],\"diverging\":[[0,\"#8e0152\"],[0.1,\"#c51b7d\"],[0.2,\"#de77ae\"],[0.3,\"#f1b6da\"],[0.4,\"#fde0ef\"],[0.5,\"#f7f7f7\"],[0.6,\"#e6f5d0\"],[0.7,\"#b8e186\"],[0.8,\"#7fbc41\"],[0.9,\"#4d9221\"],[1,\"#276419\"]]},\"xaxis\":{\"gridcolor\":\"white\",\"linecolor\":\"white\",\"ticks\":\"\",\"title\":{\"standoff\":15},\"zerolinecolor\":\"white\",\"automargin\":true,\"zerolinewidth\":2},\"yaxis\":{\"gridcolor\":\"white\",\"linecolor\":\"white\",\"ticks\":\"\",\"title\":{\"standoff\":15},\"zerolinecolor\":\"white\",\"automargin\":true,\"zerolinewidth\":2},\"scene\":{\"xaxis\":{\"backgroundcolor\":\"#E5ECF6\",\"gridcolor\":\"white\",\"linecolor\":\"white\",\"showbackground\":true,\"ticks\":\"\",\"zerolinecolor\":\"white\",\"gridwidth\":2},\"yaxis\":{\"backgroundcolor\":\"#E5ECF6\",\"gridcolor\":\"white\",\"linecolor\":\"white\",\"showbackground\":true,\"ticks\":\"\",\"zerolinecolor\":\"white\",\"gridwidth\":2},\"zaxis\":{\"backgroundcolor\":\"#E5ECF6\",\"gridcolor\":\"white\",\"linecolor\":\"white\",\"showbackground\":true,\"ticks\":\"\",\"zerolinecolor\":\"white\",\"gridwidth\":2}},\"shapedefaults\":{\"line\":{\"color\":\"#2a3f5f\"}},\"annotationdefaults\":{\"arrowcolor\":\"#2a3f5f\",\"arrowhead\":0,\"arrowwidth\":1},\"geo\":{\"bgcolor\":\"white\",\"landcolor\":\"#E5ECF6\",\"subunitcolor\":\"white\",\"showland\":true,\"showlakes\":true,\"lakecolor\":\"white\"},\"title\":{\"x\":0.05},\"mapbox\":{\"style\":\"light\"}}},\"title\":{\"text\":\"Total number of solutions sent over time\"},\"xaxis\":{\"title\":{\"text\":\"Time\"}},\"yaxis\":{\"title\":{\"text\":\"Total number of solutions sent\"}},\"autosize\":false,\"width\":800,\"height\":600},                        {\"responsive\": true}                    ).then(function(){\n",
       "                            \n",
       "var gd = document.getElementById('5be60d5d-91a6-4094-9c09-6b28969f9845');\n",
       "var x = new MutationObserver(function (mutations, observer) {{\n",
       "        var display = window.getComputedStyle(gd).display;\n",
       "        if (!display || display === 'none') {{\n",
       "            console.log([gd, 'removed!']);\n",
       "            Plotly.purge(gd);\n",
       "            observer.disconnect();\n",
       "        }}\n",
       "}});\n",
       "\n",
       "// Listen for the removal of the full notebook cells\n",
       "var notebookContainer = gd.closest('#notebook-container');\n",
       "if (notebookContainer) {{\n",
       "    x.observe(notebookContainer, {childList: true});\n",
       "}}\n",
       "\n",
       "// Listen for the clearing of the current output cell\n",
       "var outputEl = gd.closest('.output');\n",
       "if (outputEl) {{\n",
       "    x.observe(outputEl, {childList: true});\n",
       "}}\n",
       "\n",
       "                        })                };                });            </script>        </div>"
      ]
     },
     "metadata": {},
     "output_type": "display_data"
    }
   ],
   "source": [
    "df_sorted = df.sort_values('timestamp')\n",
    "df_sorted['cumulative_count'] = np.arange(1, len(df_sorted) + 1)\n",
    "\n",
    "fig = go.Figure()\n",
    "\n",
    "fig.add_trace(go.Scatter(\n",
    "    x=df_sorted['timestamp'], \n",
    "    y=df_sorted['cumulative_count'], \n",
    "    mode='lines',\n",
    "    name='All Users'\n",
    "))\n",
    "\n",
    "fig.update_layout(\n",
    "    title='Total number of solutions sent over time',\n",
    "    xaxis_title='Time',\n",
    "    yaxis_title='Total number of solutions sent',\n",
    "    autosize=False,\n",
    "    width=800,\n",
    "    height=600,\n",
    ")\n",
    "\n",
    "fig.show()\n",
    "\n"
   ]
  },
  {
   "cell_type": "markdown",
   "id": "a440b411",
   "metadata": {
    "papermill": {
     "duration": 0.010624,
     "end_time": "2023-07-15T20:56:09.567596",
     "exception": false,
     "start_time": "2023-07-15T20:56:09.556972",
     "status": "completed"
    },
    "tags": []
   },
   "source": [
    "### Let's split it down into 20-minute time intervals."
   ]
  },
  {
   "cell_type": "code",
   "execution_count": 9,
   "id": "1a9d8605",
   "metadata": {
    "_kg_hide-input": true,
    "execution": {
     "iopub.execute_input": "2023-07-15T20:56:09.591029Z",
     "iopub.status.busy": "2023-07-15T20:56:09.590620Z",
     "iopub.status.idle": "2023-07-15T20:56:09.631728Z",
     "shell.execute_reply": "2023-07-15T20:56:09.630615Z"
    },
    "papermill": {
     "duration": 0.055688,
     "end_time": "2023-07-15T20:56:09.634271",
     "exception": false,
     "start_time": "2023-07-15T20:56:09.578583",
     "status": "completed"
    },
    "tags": []
   },
   "outputs": [
    {
     "data": {
      "text/html": [
       "<div>                            <div id=\"d8e72306-c422-404b-b453-f19af01e85d4\" class=\"plotly-graph-div\" style=\"height:500px; width:800px;\"></div>            <script type=\"text/javascript\">                require([\"plotly\"], function(Plotly) {                    window.PLOTLYENV=window.PLOTLYENV || {};                                    if (document.getElementById(\"d8e72306-c422-404b-b453-f19af01e85d4\")) {                    Plotly.newPlot(                        \"d8e72306-c422-404b-b453-f19af01e85d4\",                        [{\"name\":\"Scores\",\"x\":[\"2023-07-13T11:20:00\",\"2023-07-13T11:40:00\",\"2023-07-13T12:00:00\",\"2023-07-13T12:20:00\",\"2023-07-13T12:40:00\"],\"y\":[39,54,25,9,2],\"type\":\"bar\"}],                        {\"template\":{\"data\":{\"histogram2dcontour\":[{\"type\":\"histogram2dcontour\",\"colorbar\":{\"outlinewidth\":0,\"ticks\":\"\"},\"colorscale\":[[0.0,\"#0d0887\"],[0.1111111111111111,\"#46039f\"],[0.2222222222222222,\"#7201a8\"],[0.3333333333333333,\"#9c179e\"],[0.4444444444444444,\"#bd3786\"],[0.5555555555555556,\"#d8576b\"],[0.6666666666666666,\"#ed7953\"],[0.7777777777777778,\"#fb9f3a\"],[0.8888888888888888,\"#fdca26\"],[1.0,\"#f0f921\"]]}],\"choropleth\":[{\"type\":\"choropleth\",\"colorbar\":{\"outlinewidth\":0,\"ticks\":\"\"}}],\"histogram2d\":[{\"type\":\"histogram2d\",\"colorbar\":{\"outlinewidth\":0,\"ticks\":\"\"},\"colorscale\":[[0.0,\"#0d0887\"],[0.1111111111111111,\"#46039f\"],[0.2222222222222222,\"#7201a8\"],[0.3333333333333333,\"#9c179e\"],[0.4444444444444444,\"#bd3786\"],[0.5555555555555556,\"#d8576b\"],[0.6666666666666666,\"#ed7953\"],[0.7777777777777778,\"#fb9f3a\"],[0.8888888888888888,\"#fdca26\"],[1.0,\"#f0f921\"]]}],\"heatmap\":[{\"type\":\"heatmap\",\"colorbar\":{\"outlinewidth\":0,\"ticks\":\"\"},\"colorscale\":[[0.0,\"#0d0887\"],[0.1111111111111111,\"#46039f\"],[0.2222222222222222,\"#7201a8\"],[0.3333333333333333,\"#9c179e\"],[0.4444444444444444,\"#bd3786\"],[0.5555555555555556,\"#d8576b\"],[0.6666666666666666,\"#ed7953\"],[0.7777777777777778,\"#fb9f3a\"],[0.8888888888888888,\"#fdca26\"],[1.0,\"#f0f921\"]]}],\"heatmapgl\":[{\"type\":\"heatmapgl\",\"colorbar\":{\"outlinewidth\":0,\"ticks\":\"\"},\"colorscale\":[[0.0,\"#0d0887\"],[0.1111111111111111,\"#46039f\"],[0.2222222222222222,\"#7201a8\"],[0.3333333333333333,\"#9c179e\"],[0.4444444444444444,\"#bd3786\"],[0.5555555555555556,\"#d8576b\"],[0.6666666666666666,\"#ed7953\"],[0.7777777777777778,\"#fb9f3a\"],[0.8888888888888888,\"#fdca26\"],[1.0,\"#f0f921\"]]}],\"contourcarpet\":[{\"type\":\"contourcarpet\",\"colorbar\":{\"outlinewidth\":0,\"ticks\":\"\"}}],\"contour\":[{\"type\":\"contour\",\"colorbar\":{\"outlinewidth\":0,\"ticks\":\"\"},\"colorscale\":[[0.0,\"#0d0887\"],[0.1111111111111111,\"#46039f\"],[0.2222222222222222,\"#7201a8\"],[0.3333333333333333,\"#9c179e\"],[0.4444444444444444,\"#bd3786\"],[0.5555555555555556,\"#d8576b\"],[0.6666666666666666,\"#ed7953\"],[0.7777777777777778,\"#fb9f3a\"],[0.8888888888888888,\"#fdca26\"],[1.0,\"#f0f921\"]]}],\"surface\":[{\"type\":\"surface\",\"colorbar\":{\"outlinewidth\":0,\"ticks\":\"\"},\"colorscale\":[[0.0,\"#0d0887\"],[0.1111111111111111,\"#46039f\"],[0.2222222222222222,\"#7201a8\"],[0.3333333333333333,\"#9c179e\"],[0.4444444444444444,\"#bd3786\"],[0.5555555555555556,\"#d8576b\"],[0.6666666666666666,\"#ed7953\"],[0.7777777777777778,\"#fb9f3a\"],[0.8888888888888888,\"#fdca26\"],[1.0,\"#f0f921\"]]}],\"mesh3d\":[{\"type\":\"mesh3d\",\"colorbar\":{\"outlinewidth\":0,\"ticks\":\"\"}}],\"scatter\":[{\"fillpattern\":{\"fillmode\":\"overlay\",\"size\":10,\"solidity\":0.2},\"type\":\"scatter\"}],\"parcoords\":[{\"type\":\"parcoords\",\"line\":{\"colorbar\":{\"outlinewidth\":0,\"ticks\":\"\"}}}],\"scatterpolargl\":[{\"type\":\"scatterpolargl\",\"marker\":{\"colorbar\":{\"outlinewidth\":0,\"ticks\":\"\"}}}],\"bar\":[{\"error_x\":{\"color\":\"#2a3f5f\"},\"error_y\":{\"color\":\"#2a3f5f\"},\"marker\":{\"line\":{\"color\":\"#E5ECF6\",\"width\":0.5},\"pattern\":{\"fillmode\":\"overlay\",\"size\":10,\"solidity\":0.2}},\"type\":\"bar\"}],\"scattergeo\":[{\"type\":\"scattergeo\",\"marker\":{\"colorbar\":{\"outlinewidth\":0,\"ticks\":\"\"}}}],\"scatterpolar\":[{\"type\":\"scatterpolar\",\"marker\":{\"colorbar\":{\"outlinewidth\":0,\"ticks\":\"\"}}}],\"histogram\":[{\"marker\":{\"pattern\":{\"fillmode\":\"overlay\",\"size\":10,\"solidity\":0.2}},\"type\":\"histogram\"}],\"scattergl\":[{\"type\":\"scattergl\",\"marker\":{\"colorbar\":{\"outlinewidth\":0,\"ticks\":\"\"}}}],\"scatter3d\":[{\"type\":\"scatter3d\",\"line\":{\"colorbar\":{\"outlinewidth\":0,\"ticks\":\"\"}},\"marker\":{\"colorbar\":{\"outlinewidth\":0,\"ticks\":\"\"}}}],\"scattermapbox\":[{\"type\":\"scattermapbox\",\"marker\":{\"colorbar\":{\"outlinewidth\":0,\"ticks\":\"\"}}}],\"scatterternary\":[{\"type\":\"scatterternary\",\"marker\":{\"colorbar\":{\"outlinewidth\":0,\"ticks\":\"\"}}}],\"scattercarpet\":[{\"type\":\"scattercarpet\",\"marker\":{\"colorbar\":{\"outlinewidth\":0,\"ticks\":\"\"}}}],\"carpet\":[{\"aaxis\":{\"endlinecolor\":\"#2a3f5f\",\"gridcolor\":\"white\",\"linecolor\":\"white\",\"minorgridcolor\":\"white\",\"startlinecolor\":\"#2a3f5f\"},\"baxis\":{\"endlinecolor\":\"#2a3f5f\",\"gridcolor\":\"white\",\"linecolor\":\"white\",\"minorgridcolor\":\"white\",\"startlinecolor\":\"#2a3f5f\"},\"type\":\"carpet\"}],\"table\":[{\"cells\":{\"fill\":{\"color\":\"#EBF0F8\"},\"line\":{\"color\":\"white\"}},\"header\":{\"fill\":{\"color\":\"#C8D4E3\"},\"line\":{\"color\":\"white\"}},\"type\":\"table\"}],\"barpolar\":[{\"marker\":{\"line\":{\"color\":\"#E5ECF6\",\"width\":0.5},\"pattern\":{\"fillmode\":\"overlay\",\"size\":10,\"solidity\":0.2}},\"type\":\"barpolar\"}],\"pie\":[{\"automargin\":true,\"type\":\"pie\"}]},\"layout\":{\"autotypenumbers\":\"strict\",\"colorway\":[\"#636efa\",\"#EF553B\",\"#00cc96\",\"#ab63fa\",\"#FFA15A\",\"#19d3f3\",\"#FF6692\",\"#B6E880\",\"#FF97FF\",\"#FECB52\"],\"font\":{\"color\":\"#2a3f5f\"},\"hovermode\":\"closest\",\"hoverlabel\":{\"align\":\"left\"},\"paper_bgcolor\":\"white\",\"plot_bgcolor\":\"#E5ECF6\",\"polar\":{\"bgcolor\":\"#E5ECF6\",\"angularaxis\":{\"gridcolor\":\"white\",\"linecolor\":\"white\",\"ticks\":\"\"},\"radialaxis\":{\"gridcolor\":\"white\",\"linecolor\":\"white\",\"ticks\":\"\"}},\"ternary\":{\"bgcolor\":\"#E5ECF6\",\"aaxis\":{\"gridcolor\":\"white\",\"linecolor\":\"white\",\"ticks\":\"\"},\"baxis\":{\"gridcolor\":\"white\",\"linecolor\":\"white\",\"ticks\":\"\"},\"caxis\":{\"gridcolor\":\"white\",\"linecolor\":\"white\",\"ticks\":\"\"}},\"coloraxis\":{\"colorbar\":{\"outlinewidth\":0,\"ticks\":\"\"}},\"colorscale\":{\"sequential\":[[0.0,\"#0d0887\"],[0.1111111111111111,\"#46039f\"],[0.2222222222222222,\"#7201a8\"],[0.3333333333333333,\"#9c179e\"],[0.4444444444444444,\"#bd3786\"],[0.5555555555555556,\"#d8576b\"],[0.6666666666666666,\"#ed7953\"],[0.7777777777777778,\"#fb9f3a\"],[0.8888888888888888,\"#fdca26\"],[1.0,\"#f0f921\"]],\"sequentialminus\":[[0.0,\"#0d0887\"],[0.1111111111111111,\"#46039f\"],[0.2222222222222222,\"#7201a8\"],[0.3333333333333333,\"#9c179e\"],[0.4444444444444444,\"#bd3786\"],[0.5555555555555556,\"#d8576b\"],[0.6666666666666666,\"#ed7953\"],[0.7777777777777778,\"#fb9f3a\"],[0.8888888888888888,\"#fdca26\"],[1.0,\"#f0f921\"]],\"diverging\":[[0,\"#8e0152\"],[0.1,\"#c51b7d\"],[0.2,\"#de77ae\"],[0.3,\"#f1b6da\"],[0.4,\"#fde0ef\"],[0.5,\"#f7f7f7\"],[0.6,\"#e6f5d0\"],[0.7,\"#b8e186\"],[0.8,\"#7fbc41\"],[0.9,\"#4d9221\"],[1,\"#276419\"]]},\"xaxis\":{\"gridcolor\":\"white\",\"linecolor\":\"white\",\"ticks\":\"\",\"title\":{\"standoff\":15},\"zerolinecolor\":\"white\",\"automargin\":true,\"zerolinewidth\":2},\"yaxis\":{\"gridcolor\":\"white\",\"linecolor\":\"white\",\"ticks\":\"\",\"title\":{\"standoff\":15},\"zerolinecolor\":\"white\",\"automargin\":true,\"zerolinewidth\":2},\"scene\":{\"xaxis\":{\"backgroundcolor\":\"#E5ECF6\",\"gridcolor\":\"white\",\"linecolor\":\"white\",\"showbackground\":true,\"ticks\":\"\",\"zerolinecolor\":\"white\",\"gridwidth\":2},\"yaxis\":{\"backgroundcolor\":\"#E5ECF6\",\"gridcolor\":\"white\",\"linecolor\":\"white\",\"showbackground\":true,\"ticks\":\"\",\"zerolinecolor\":\"white\",\"gridwidth\":2},\"zaxis\":{\"backgroundcolor\":\"#E5ECF6\",\"gridcolor\":\"white\",\"linecolor\":\"white\",\"showbackground\":true,\"ticks\":\"\",\"zerolinecolor\":\"white\",\"gridwidth\":2}},\"shapedefaults\":{\"line\":{\"color\":\"#2a3f5f\"}},\"annotationdefaults\":{\"arrowcolor\":\"#2a3f5f\",\"arrowhead\":0,\"arrowwidth\":1},\"geo\":{\"bgcolor\":\"white\",\"landcolor\":\"#E5ECF6\",\"subunitcolor\":\"white\",\"showland\":true,\"showlakes\":true,\"lakecolor\":\"white\"},\"title\":{\"x\":0.05},\"mapbox\":{\"style\":\"light\"}}},\"xaxis\":{\"dtick\":1200000,\"title\":{\"text\":\"Time\"}},\"margin\":{\"l\":50,\"r\":50,\"b\":100,\"t\":100,\"pad\":4},\"title\":{\"text\":\"Number of solutions submitted over time, 20-minute interval\"},\"yaxis\":{\"title\":{\"text\":\"Number of solutions sent\"}},\"autosize\":false,\"width\":800,\"height\":500,\"paper_bgcolor\":\"LightSteelBlue\"},                        {\"responsive\": true}                    ).then(function(){\n",
       "                            \n",
       "var gd = document.getElementById('d8e72306-c422-404b-b453-f19af01e85d4');\n",
       "var x = new MutationObserver(function (mutations, observer) {{\n",
       "        var display = window.getComputedStyle(gd).display;\n",
       "        if (!display || display === 'none') {{\n",
       "            console.log([gd, 'removed!']);\n",
       "            Plotly.purge(gd);\n",
       "            observer.disconnect();\n",
       "        }}\n",
       "}});\n",
       "\n",
       "// Listen for the removal of the full notebook cells\n",
       "var notebookContainer = gd.closest('#notebook-container');\n",
       "if (notebookContainer) {{\n",
       "    x.observe(notebookContainer, {childList: true});\n",
       "}}\n",
       "\n",
       "// Listen for the clearing of the current output cell\n",
       "var outputEl = gd.closest('.output');\n",
       "if (outputEl) {{\n",
       "    x.observe(outputEl, {childList: true});\n",
       "}}\n",
       "\n",
       "                        })                };                });            </script>        </div>"
      ]
     },
     "metadata": {},
     "output_type": "display_data"
    }
   ],
   "source": [
    "df_resampled = df.resample('20T', on='timestamp').count()\n",
    "\n",
    "\n",
    "most_active_interval = df_resampled['score'].idxmax()\n",
    "\n",
    "fig = go.Figure(data=[\n",
    "    go.Bar(name='Scores', x=df_resampled.index, y=df_resampled['score'])\n",
    "])\n",
    "\n",
    "\n",
    "fig.update_xaxes(\n",
    "    dtick=1200000  \n",
    ")\n",
    "fig.update_layout(\n",
    "    title='Number of solutions submitted over time, 20-minute interval',\n",
    "    xaxis_title='Time',\n",
    "    yaxis_title='Number of solutions sent',\n",
    "    autosize=False,\n",
    "    width=800,\n",
    "    height=500,\n",
    "    margin=dict(\n",
    "        l=50,\n",
    "        r=50,\n",
    "        b=100,\n",
    "        t=100,\n",
    "        pad=4\n",
    "    ),\n",
    "    paper_bgcolor=\"LightSteelBlue\",\n",
    ")\n",
    "\n",
    "fig.show()"
   ]
  },
  {
   "cell_type": "markdown",
   "id": "e7aaf385",
   "metadata": {
    "papermill": {
     "duration": 0.011113,
     "end_time": "2023-07-15T20:56:09.656834",
     "exception": false,
     "start_time": "2023-07-15T20:56:09.645721",
     "status": "completed"
    },
    "tags": []
   },
   "source": [
    "### For the first 20 minutes, almost 40 solutions were submitted. In the next 20-minute interval, the most corrections were sent for the entire time the RMS Titanic passenger classification problem was being wrestled with. In each subsequent time interval, the number of submitted corrections was less than in the previous one."
   ]
  },
  {
   "cell_type": "markdown",
   "id": "e281561b",
   "metadata": {
    "papermill": {
     "duration": 0.010964,
     "end_time": "2023-07-15T20:56:09.679219",
     "exception": false,
     "start_time": "2023-07-15T20:56:09.668255",
     "status": "completed"
    },
    "tags": []
   },
   "source": [
    "## Individual participants"
   ]
  },
  {
   "cell_type": "markdown",
   "id": "6776c25d",
   "metadata": {
    "papermill": {
     "duration": 0.010477,
     "end_time": "2023-07-15T20:56:09.700811",
     "exception": false,
     "start_time": "2023-07-15T20:56:09.690334",
     "status": "completed"
    },
    "tags": []
   },
   "source": [
    "### Let's see how the number of submitted solutions over time looked for individual trainees."
   ]
  },
  {
   "cell_type": "code",
   "execution_count": 10,
   "id": "b6d40adb",
   "metadata": {
    "_kg_hide-input": true,
    "execution": {
     "iopub.execute_input": "2023-07-15T20:56:09.723990Z",
     "iopub.status.busy": "2023-07-15T20:56:09.723140Z",
     "iopub.status.idle": "2023-07-15T20:56:09.776383Z",
     "shell.execute_reply": "2023-07-15T20:56:09.775313Z"
    },
    "papermill": {
     "duration": 0.066919,
     "end_time": "2023-07-15T20:56:09.778637",
     "exception": false,
     "start_time": "2023-07-15T20:56:09.711718",
     "status": "completed"
    },
    "tags": []
   },
   "outputs": [
    {
     "data": {
      "text/html": [
       "<div>                            <div id=\"ff3fd6bc-35d4-4639-8919-01c58a1c5152\" class=\"plotly-graph-div\" style=\"height:600px; width:800px;\"></div>            <script type=\"text/javascript\">                require([\"plotly\"], function(Plotly) {                    window.PLOTLYENV=window.PLOTLYENV || {};                                    if (document.getElementById(\"ff3fd6bc-35d4-4639-8919-01c58a1c5152\")) {                    Plotly.newPlot(                        \"ff3fd6bc-35d4-4639-8919-01c58a1c5152\",                        [{\"mode\":\"lines+markers\",\"name\":\"Uczestnik 1\",\"x\":[\"2023-07-13T11:29:31.140000\",\"2023-07-13T11:48:19.407000\",\"2023-07-13T11:49:38.642000\",\"2023-07-13T11:50:58.116000\",\"2023-07-13T11:52:03.361000\",\"2023-07-13T11:56:18.989000\",\"2023-07-13T11:57:59.956000\",\"2023-07-13T12:01:20.877000\",\"2023-07-13T12:02:57.895000\",\"2023-07-13T12:05:45.495000\"],\"y\":[0,1,2,3,4,5,6,7,8,9],\"type\":\"scatter\"},{\"mode\":\"lines+markers\",\"name\":\"Uczestnik 2\",\"x\":[\"2023-07-13T11:48:46.571000\",\"2023-07-13T11:50:39.159000\",\"2023-07-13T11:53:05.533000\",\"2023-07-13T11:55:55.332000\",\"2023-07-13T11:59:28.944000\",\"2023-07-13T12:02:26.120000\"],\"y\":[0,1,2,3,4,5],\"type\":\"scatter\"},{\"mode\":\"lines+markers\",\"name\":\"Uczestnik 3\",\"x\":[\"2023-07-13T11:24:54.016000\",\"2023-07-13T11:38:21.727000\",\"2023-07-13T11:53:35.120000\"],\"y\":[0,1,2],\"type\":\"scatter\"},{\"mode\":\"lines+markers\",\"name\":\"Uczestnik 4\",\"x\":[\"2023-07-13T11:32:09.066000\",\"2023-07-13T11:49:45.858000\",\"2023-07-13T11:57:26.277000\",\"2023-07-13T12:00:27.343000\"],\"y\":[0,1,2,3],\"type\":\"scatter\"},{\"mode\":\"lines+markers\",\"name\":\"Uczestnik 5\",\"x\":[\"2023-07-13T11:26:42.911000\",\"2023-07-13T11:40:52.300000\",\"2023-07-13T11:54:46.392000\",\"2023-07-13T12:05:00.524000\",\"2023-07-13T12:09:49.128000\",\"2023-07-13T12:29:01.735000\",\"2023-07-13T12:32:47.954000\",\"2023-07-13T12:47:16.834000\"],\"y\":[0,1,2,3,4,5,6,7],\"type\":\"scatter\"},{\"mode\":\"lines+markers\",\"name\":\"Uczestnik 6\",\"x\":[\"2023-07-13T11:21:55.228000\",\"2023-07-13T11:32:04.955000\",\"2023-07-13T11:35:03.964000\",\"2023-07-13T11:38:15.228000\",\"2023-07-13T11:41:13.449000\",\"2023-07-13T11:49:09.383000\",\"2023-07-13T11:52:52.774000\",\"2023-07-13T11:57:06.690000\",\"2023-07-13T12:00:06.474000\",\"2023-07-13T12:03:30.379000\",\"2023-07-13T12:06:50.619000\",\"2023-07-13T12:13:42.256000\",\"2023-07-13T12:15:59.657000\",\"2023-07-13T12:23:08.930000\",\"2023-07-13T12:26:05.216000\",\"2023-07-13T12:28:48.344000\",\"2023-07-13T12:32:08.345000\",\"2023-07-13T12:49:02.936000\"],\"y\":[0,1,2,3,4,5,6,7,8,9,10,11,12,13,14,15,16,17],\"type\":\"scatter\"},{\"mode\":\"lines+markers\",\"name\":\"Uczestnik 7\",\"x\":[\"2023-07-13T11:31:16.090000\",\"2023-07-13T11:32:26.419000\",\"2023-07-13T11:35:39.982000\",\"2023-07-13T11:59:28.667000\",\"2023-07-13T12:07:59.043000\"],\"y\":[0,1,2,3,4],\"type\":\"scatter\"},{\"mode\":\"lines+markers\",\"name\":\"Uczestnik 8\",\"x\":[\"2023-07-13T11:30:05.494000\",\"2023-07-13T11:32:47.513000\",\"2023-07-13T11:33:28.948000\",\"2023-07-13T11:39:55.346000\",\"2023-07-13T11:50:58.379000\",\"2023-07-13T11:55:38.556000\"],\"y\":[0,1,2,3,4,5],\"type\":\"scatter\"},{\"mode\":\"lines+markers\",\"name\":\"Uczestnik 9\",\"x\":[\"2023-07-13T11:21:17.294000\",\"2023-07-13T11:31:06.967000\",\"2023-07-13T11:48:26.030000\",\"2023-07-13T11:51:44.426000\",\"2023-07-13T12:02:40.245000\"],\"y\":[0,1,2,3,4],\"type\":\"scatter\"},{\"mode\":\"lines+markers\",\"name\":\"Uczestnik 10\",\"x\":[\"2023-07-13T11:24:40.041000\",\"2023-07-13T11:26:37.676000\",\"2023-07-13T12:33:40.150000\"],\"y\":[0,1,2],\"type\":\"scatter\"},{\"mode\":\"lines+markers\",\"name\":\"Uczestnik 11\",\"x\":[\"2023-07-13T11:48:46.188000\",\"2023-07-13T11:58:51.980000\",\"2023-07-13T12:03:02.275000\"],\"y\":[0,1,2],\"type\":\"scatter\"},{\"mode\":\"lines+markers\",\"name\":\"Uczestnik 12\",\"x\":[\"2023-07-13T11:26:51.131000\",\"2023-07-13T11:49:58.213000\",\"2023-07-13T11:54:45.579000\",\"2023-07-13T11:58:29.596000\",\"2023-07-13T12:07:24.454000\"],\"y\":[0,1,2,3,4],\"type\":\"scatter\"},{\"mode\":\"lines+markers\",\"name\":\"Uczestnik 13\",\"x\":[\"2023-07-13T11:29:53.679000\",\"2023-07-13T11:33:21.189000\",\"2023-07-13T11:36:57.382000\",\"2023-07-13T11:37:27.398000\",\"2023-07-13T11:48:04.686000\",\"2023-07-13T11:52:29.509000\",\"2023-07-13T11:55:33.826000\",\"2023-07-13T12:02:37.301000\",\"2023-07-13T12:07:24.190000\",\"2023-07-13T12:23:49.570000\"],\"y\":[0,1,2,3,4,5,6,7,8,9],\"type\":\"scatter\"},{\"mode\":\"lines+markers\",\"name\":\"Uczestnik 14\",\"x\":[\"2023-07-13T11:52:16.113000\",\"2023-07-13T11:55:52.662000\",\"2023-07-13T12:22:53.836000\"],\"y\":[0,1,2],\"type\":\"scatter\"},{\"mode\":\"lines+markers\",\"name\":\"Uczestnik 15\",\"x\":[\"2023-07-13T11:29:26.762000\",\"2023-07-13T11:49:57.970000\",\"2023-07-13T11:53:28.818000\",\"2023-07-13T11:58:08.985000\",\"2023-07-13T12:06:50.389000\",\"2023-07-13T12:08:57.973000\"],\"y\":[0,1,2,3,4,5],\"type\":\"scatter\"},{\"mode\":\"lines+markers\",\"name\":\"Uczestnik 16\",\"x\":[\"2023-07-13T11:26:44.922000\",\"2023-07-13T11:32:11.639000\",\"2023-07-13T11:34:57.997000\"],\"y\":[0,1,2],\"type\":\"scatter\"},{\"mode\":\"lines+markers\",\"name\":\"Uczestnik 17\",\"x\":[\"2023-07-13T11:32:42.599000\",\"2023-07-13T11:50:38.895000\",\"2023-07-13T11:51:44.625000\",\"2023-07-13T11:58:36.966000\"],\"y\":[0,1,2,3],\"type\":\"scatter\"},{\"mode\":\"lines+markers\",\"name\":\"Uczestnik 18\",\"x\":[\"2023-07-13T11:36:05.892000\",\"2023-07-13T11:36:38.689000\",\"2023-07-13T11:50:55.784000\",\"2023-07-13T11:51:29.055000\",\"2023-07-13T11:58:09.236000\",\"2023-07-13T12:01:47.346000\",\"2023-07-13T12:04:57.574000\"],\"y\":[0,1,2,3,4,5,6],\"type\":\"scatter\"},{\"mode\":\"lines+markers\",\"name\":\"Uczestnik 19\",\"x\":[\"2023-07-13T11:27:14.478000\",\"2023-07-13T11:28:40.012000\",\"2023-07-13T11:49:06.453000\",\"2023-07-13T11:49:58.165000\",\"2023-07-13T11:56:47.251000\",\"2023-07-13T11:59:39.789000\",\"2023-07-13T12:02:25.895000\"],\"y\":[0,1,2,3,4,5,6],\"type\":\"scatter\"},{\"mode\":\"lines+markers\",\"name\":\"Uczestnik 20\",\"x\":[\"2023-07-13T11:25:16.267000\",\"2023-07-13T11:48:14.912000\",\"2023-07-13T11:50:06.972000\",\"2023-07-13T11:57:26.601000\"],\"y\":[0,1,2,3],\"type\":\"scatter\"},{\"mode\":\"lines+markers\",\"name\":\"Uczestnik 21\",\"x\":[\"2023-07-13T11:27:25.891000\",\"2023-07-13T11:28:55.818000\",\"2023-07-13T11:31:16.518000\",\"2023-07-13T11:34:07.939000\",\"2023-07-13T11:48:25.760000\",\"2023-07-13T11:49:08.760000\",\"2023-07-13T11:51:12.910000\",\"2023-07-13T12:04:01.132000\",\"2023-07-13T12:07:39.907000\"],\"y\":[0,1,2,3,4,5,6,7,8],\"type\":\"scatter\"}],                        {\"template\":{\"data\":{\"histogram2dcontour\":[{\"type\":\"histogram2dcontour\",\"colorbar\":{\"outlinewidth\":0,\"ticks\":\"\"},\"colorscale\":[[0.0,\"#0d0887\"],[0.1111111111111111,\"#46039f\"],[0.2222222222222222,\"#7201a8\"],[0.3333333333333333,\"#9c179e\"],[0.4444444444444444,\"#bd3786\"],[0.5555555555555556,\"#d8576b\"],[0.6666666666666666,\"#ed7953\"],[0.7777777777777778,\"#fb9f3a\"],[0.8888888888888888,\"#fdca26\"],[1.0,\"#f0f921\"]]}],\"choropleth\":[{\"type\":\"choropleth\",\"colorbar\":{\"outlinewidth\":0,\"ticks\":\"\"}}],\"histogram2d\":[{\"type\":\"histogram2d\",\"colorbar\":{\"outlinewidth\":0,\"ticks\":\"\"},\"colorscale\":[[0.0,\"#0d0887\"],[0.1111111111111111,\"#46039f\"],[0.2222222222222222,\"#7201a8\"],[0.3333333333333333,\"#9c179e\"],[0.4444444444444444,\"#bd3786\"],[0.5555555555555556,\"#d8576b\"],[0.6666666666666666,\"#ed7953\"],[0.7777777777777778,\"#fb9f3a\"],[0.8888888888888888,\"#fdca26\"],[1.0,\"#f0f921\"]]}],\"heatmap\":[{\"type\":\"heatmap\",\"colorbar\":{\"outlinewidth\":0,\"ticks\":\"\"},\"colorscale\":[[0.0,\"#0d0887\"],[0.1111111111111111,\"#46039f\"],[0.2222222222222222,\"#7201a8\"],[0.3333333333333333,\"#9c179e\"],[0.4444444444444444,\"#bd3786\"],[0.5555555555555556,\"#d8576b\"],[0.6666666666666666,\"#ed7953\"],[0.7777777777777778,\"#fb9f3a\"],[0.8888888888888888,\"#fdca26\"],[1.0,\"#f0f921\"]]}],\"heatmapgl\":[{\"type\":\"heatmapgl\",\"colorbar\":{\"outlinewidth\":0,\"ticks\":\"\"},\"colorscale\":[[0.0,\"#0d0887\"],[0.1111111111111111,\"#46039f\"],[0.2222222222222222,\"#7201a8\"],[0.3333333333333333,\"#9c179e\"],[0.4444444444444444,\"#bd3786\"],[0.5555555555555556,\"#d8576b\"],[0.6666666666666666,\"#ed7953\"],[0.7777777777777778,\"#fb9f3a\"],[0.8888888888888888,\"#fdca26\"],[1.0,\"#f0f921\"]]}],\"contourcarpet\":[{\"type\":\"contourcarpet\",\"colorbar\":{\"outlinewidth\":0,\"ticks\":\"\"}}],\"contour\":[{\"type\":\"contour\",\"colorbar\":{\"outlinewidth\":0,\"ticks\":\"\"},\"colorscale\":[[0.0,\"#0d0887\"],[0.1111111111111111,\"#46039f\"],[0.2222222222222222,\"#7201a8\"],[0.3333333333333333,\"#9c179e\"],[0.4444444444444444,\"#bd3786\"],[0.5555555555555556,\"#d8576b\"],[0.6666666666666666,\"#ed7953\"],[0.7777777777777778,\"#fb9f3a\"],[0.8888888888888888,\"#fdca26\"],[1.0,\"#f0f921\"]]}],\"surface\":[{\"type\":\"surface\",\"colorbar\":{\"outlinewidth\":0,\"ticks\":\"\"},\"colorscale\":[[0.0,\"#0d0887\"],[0.1111111111111111,\"#46039f\"],[0.2222222222222222,\"#7201a8\"],[0.3333333333333333,\"#9c179e\"],[0.4444444444444444,\"#bd3786\"],[0.5555555555555556,\"#d8576b\"],[0.6666666666666666,\"#ed7953\"],[0.7777777777777778,\"#fb9f3a\"],[0.8888888888888888,\"#fdca26\"],[1.0,\"#f0f921\"]]}],\"mesh3d\":[{\"type\":\"mesh3d\",\"colorbar\":{\"outlinewidth\":0,\"ticks\":\"\"}}],\"scatter\":[{\"fillpattern\":{\"fillmode\":\"overlay\",\"size\":10,\"solidity\":0.2},\"type\":\"scatter\"}],\"parcoords\":[{\"type\":\"parcoords\",\"line\":{\"colorbar\":{\"outlinewidth\":0,\"ticks\":\"\"}}}],\"scatterpolargl\":[{\"type\":\"scatterpolargl\",\"marker\":{\"colorbar\":{\"outlinewidth\":0,\"ticks\":\"\"}}}],\"bar\":[{\"error_x\":{\"color\":\"#2a3f5f\"},\"error_y\":{\"color\":\"#2a3f5f\"},\"marker\":{\"line\":{\"color\":\"#E5ECF6\",\"width\":0.5},\"pattern\":{\"fillmode\":\"overlay\",\"size\":10,\"solidity\":0.2}},\"type\":\"bar\"}],\"scattergeo\":[{\"type\":\"scattergeo\",\"marker\":{\"colorbar\":{\"outlinewidth\":0,\"ticks\":\"\"}}}],\"scatterpolar\":[{\"type\":\"scatterpolar\",\"marker\":{\"colorbar\":{\"outlinewidth\":0,\"ticks\":\"\"}}}],\"histogram\":[{\"marker\":{\"pattern\":{\"fillmode\":\"overlay\",\"size\":10,\"solidity\":0.2}},\"type\":\"histogram\"}],\"scattergl\":[{\"type\":\"scattergl\",\"marker\":{\"colorbar\":{\"outlinewidth\":0,\"ticks\":\"\"}}}],\"scatter3d\":[{\"type\":\"scatter3d\",\"line\":{\"colorbar\":{\"outlinewidth\":0,\"ticks\":\"\"}},\"marker\":{\"colorbar\":{\"outlinewidth\":0,\"ticks\":\"\"}}}],\"scattermapbox\":[{\"type\":\"scattermapbox\",\"marker\":{\"colorbar\":{\"outlinewidth\":0,\"ticks\":\"\"}}}],\"scatterternary\":[{\"type\":\"scatterternary\",\"marker\":{\"colorbar\":{\"outlinewidth\":0,\"ticks\":\"\"}}}],\"scattercarpet\":[{\"type\":\"scattercarpet\",\"marker\":{\"colorbar\":{\"outlinewidth\":0,\"ticks\":\"\"}}}],\"carpet\":[{\"aaxis\":{\"endlinecolor\":\"#2a3f5f\",\"gridcolor\":\"white\",\"linecolor\":\"white\",\"minorgridcolor\":\"white\",\"startlinecolor\":\"#2a3f5f\"},\"baxis\":{\"endlinecolor\":\"#2a3f5f\",\"gridcolor\":\"white\",\"linecolor\":\"white\",\"minorgridcolor\":\"white\",\"startlinecolor\":\"#2a3f5f\"},\"type\":\"carpet\"}],\"table\":[{\"cells\":{\"fill\":{\"color\":\"#EBF0F8\"},\"line\":{\"color\":\"white\"}},\"header\":{\"fill\":{\"color\":\"#C8D4E3\"},\"line\":{\"color\":\"white\"}},\"type\":\"table\"}],\"barpolar\":[{\"marker\":{\"line\":{\"color\":\"#E5ECF6\",\"width\":0.5},\"pattern\":{\"fillmode\":\"overlay\",\"size\":10,\"solidity\":0.2}},\"type\":\"barpolar\"}],\"pie\":[{\"automargin\":true,\"type\":\"pie\"}]},\"layout\":{\"autotypenumbers\":\"strict\",\"colorway\":[\"#636efa\",\"#EF553B\",\"#00cc96\",\"#ab63fa\",\"#FFA15A\",\"#19d3f3\",\"#FF6692\",\"#B6E880\",\"#FF97FF\",\"#FECB52\"],\"font\":{\"color\":\"#2a3f5f\"},\"hovermode\":\"closest\",\"hoverlabel\":{\"align\":\"left\"},\"paper_bgcolor\":\"white\",\"plot_bgcolor\":\"#E5ECF6\",\"polar\":{\"bgcolor\":\"#E5ECF6\",\"angularaxis\":{\"gridcolor\":\"white\",\"linecolor\":\"white\",\"ticks\":\"\"},\"radialaxis\":{\"gridcolor\":\"white\",\"linecolor\":\"white\",\"ticks\":\"\"}},\"ternary\":{\"bgcolor\":\"#E5ECF6\",\"aaxis\":{\"gridcolor\":\"white\",\"linecolor\":\"white\",\"ticks\":\"\"},\"baxis\":{\"gridcolor\":\"white\",\"linecolor\":\"white\",\"ticks\":\"\"},\"caxis\":{\"gridcolor\":\"white\",\"linecolor\":\"white\",\"ticks\":\"\"}},\"coloraxis\":{\"colorbar\":{\"outlinewidth\":0,\"ticks\":\"\"}},\"colorscale\":{\"sequential\":[[0.0,\"#0d0887\"],[0.1111111111111111,\"#46039f\"],[0.2222222222222222,\"#7201a8\"],[0.3333333333333333,\"#9c179e\"],[0.4444444444444444,\"#bd3786\"],[0.5555555555555556,\"#d8576b\"],[0.6666666666666666,\"#ed7953\"],[0.7777777777777778,\"#fb9f3a\"],[0.8888888888888888,\"#fdca26\"],[1.0,\"#f0f921\"]],\"sequentialminus\":[[0.0,\"#0d0887\"],[0.1111111111111111,\"#46039f\"],[0.2222222222222222,\"#7201a8\"],[0.3333333333333333,\"#9c179e\"],[0.4444444444444444,\"#bd3786\"],[0.5555555555555556,\"#d8576b\"],[0.6666666666666666,\"#ed7953\"],[0.7777777777777778,\"#fb9f3a\"],[0.8888888888888888,\"#fdca26\"],[1.0,\"#f0f921\"]],\"diverging\":[[0,\"#8e0152\"],[0.1,\"#c51b7d\"],[0.2,\"#de77ae\"],[0.3,\"#f1b6da\"],[0.4,\"#fde0ef\"],[0.5,\"#f7f7f7\"],[0.6,\"#e6f5d0\"],[0.7,\"#b8e186\"],[0.8,\"#7fbc41\"],[0.9,\"#4d9221\"],[1,\"#276419\"]]},\"xaxis\":{\"gridcolor\":\"white\",\"linecolor\":\"white\",\"ticks\":\"\",\"title\":{\"standoff\":15},\"zerolinecolor\":\"white\",\"automargin\":true,\"zerolinewidth\":2},\"yaxis\":{\"gridcolor\":\"white\",\"linecolor\":\"white\",\"ticks\":\"\",\"title\":{\"standoff\":15},\"zerolinecolor\":\"white\",\"automargin\":true,\"zerolinewidth\":2},\"scene\":{\"xaxis\":{\"backgroundcolor\":\"#E5ECF6\",\"gridcolor\":\"white\",\"linecolor\":\"white\",\"showbackground\":true,\"ticks\":\"\",\"zerolinecolor\":\"white\",\"gridwidth\":2},\"yaxis\":{\"backgroundcolor\":\"#E5ECF6\",\"gridcolor\":\"white\",\"linecolor\":\"white\",\"showbackground\":true,\"ticks\":\"\",\"zerolinecolor\":\"white\",\"gridwidth\":2},\"zaxis\":{\"backgroundcolor\":\"#E5ECF6\",\"gridcolor\":\"white\",\"linecolor\":\"white\",\"showbackground\":true,\"ticks\":\"\",\"zerolinecolor\":\"white\",\"gridwidth\":2}},\"shapedefaults\":{\"line\":{\"color\":\"#2a3f5f\"}},\"annotationdefaults\":{\"arrowcolor\":\"#2a3f5f\",\"arrowhead\":0,\"arrowwidth\":1},\"geo\":{\"bgcolor\":\"white\",\"landcolor\":\"#E5ECF6\",\"subunitcolor\":\"white\",\"showland\":true,\"showlakes\":true,\"lakecolor\":\"white\"},\"title\":{\"x\":0.05},\"mapbox\":{\"style\":\"light\"}}},\"title\":{\"text\":\"The sum of sent solutions over time\"},\"xaxis\":{\"title\":{\"text\":\"Time\"}},\"yaxis\":{\"title\":{\"text\":\"Total solutions sent\"}},\"autosize\":false,\"width\":800,\"height\":600},                        {\"responsive\": true}                    ).then(function(){\n",
       "                            \n",
       "var gd = document.getElementById('ff3fd6bc-35d4-4639-8919-01c58a1c5152');\n",
       "var x = new MutationObserver(function (mutations, observer) {{\n",
       "        var display = window.getComputedStyle(gd).display;\n",
       "        if (!display || display === 'none') {{\n",
       "            console.log([gd, 'removed!']);\n",
       "            Plotly.purge(gd);\n",
       "            observer.disconnect();\n",
       "        }}\n",
       "}});\n",
       "\n",
       "// Listen for the removal of the full notebook cells\n",
       "var notebookContainer = gd.closest('#notebook-container');\n",
       "if (notebookContainer) {{\n",
       "    x.observe(notebookContainer, {childList: true});\n",
       "}}\n",
       "\n",
       "// Listen for the clearing of the current output cell\n",
       "var outputEl = gd.closest('.output');\n",
       "if (outputEl) {{\n",
       "    x.observe(outputEl, {childList: true});\n",
       "}}\n",
       "\n",
       "                        })                };                });            </script>        </div>"
      ]
     },
     "metadata": {},
     "output_type": "display_data"
    }
   ],
   "source": [
    "df['cumulative_count'] = df.groupby('user_name').cumcount()\n",
    "fig = go.Figure()\n",
    "for user in df['user_name'].unique():\n",
    "    user_df = df[df['user_name'] == user]\n",
    "    fig.add_trace(go.Scatter(\n",
    "        x=user_df['timestamp'], \n",
    "        y=user_df['cumulative_count'], \n",
    "        mode='lines+markers',\n",
    "        name=user\n",
    "    ))\n",
    "\n",
    "fig.update_layout(\n",
    "    title='The sum of sent solutions over time',\n",
    "    xaxis_title='Time',\n",
    "    yaxis_title='Total solutions sent',\n",
    "    autosize=False,\n",
    "    width=800,\n",
    "    height=600,\n",
    ")\n",
    "fig.show()"
   ]
  },
  {
   "cell_type": "markdown",
   "id": "6f4e4ab7",
   "metadata": {
    "papermill": {
     "duration": 0.010843,
     "end_time": "2023-07-15T20:56:09.800714",
     "exception": false,
     "start_time": "2023-07-15T20:56:09.789871",
     "status": "completed"
    },
    "tags": []
   },
   "source": [
    "### Most people finished submitting their corrections a few minutes after 12 p.m. 25% of the participants struggled with the problem until at least 12:20 p.m.\n",
    "### Let's visualize this data in yet another way, so that we can see how the trainees staggered their work on the solution over time."
   ]
  },
  {
   "cell_type": "code",
   "execution_count": 11,
   "id": "8228b95a",
   "metadata": {
    "_kg_hide-input": true,
    "execution": {
     "iopub.execute_input": "2023-07-15T20:56:09.824584Z",
     "iopub.status.busy": "2023-07-15T20:56:09.824184Z",
     "iopub.status.idle": "2023-07-15T20:56:09.898743Z",
     "shell.execute_reply": "2023-07-15T20:56:09.897674Z"
    },
    "papermill": {
     "duration": 0.089349,
     "end_time": "2023-07-15T20:56:09.900972",
     "exception": false,
     "start_time": "2023-07-15T20:56:09.811623",
     "status": "completed"
    },
    "tags": []
   },
   "outputs": [
    {
     "data": {
      "text/html": [
       "<div>                            <div id=\"ee0e99cd-9258-4be9-943f-2267584ae08d\" class=\"plotly-graph-div\" style=\"height:800px; width:1000px;\"></div>            <script type=\"text/javascript\">                require([\"plotly\"], function(Plotly) {                    window.PLOTLYENV=window.PLOTLYENV || {};                                    if (document.getElementById(\"ee0e99cd-9258-4be9-943f-2267584ae08d\")) {                    Plotly.newPlot(                        \"ee0e99cd-9258-4be9-943f-2267584ae08d\",                        [{\"marker\":{\"size\":[9.008187376930254,8.181849587176567,8.347324420492626,9.256226897433242,9.091097523059384,9.338791584620168,8.925622689743324,9.008187376930254,7.851245379486648,9.091097523059384]},\"mode\":\"markers\",\"name\":\"Uczestnik 1\",\"x\":[\"2023-07-13T11:29:31.140000\",\"2023-07-13T11:48:19.407000\",\"2023-07-13T11:49:38.642000\",\"2023-07-13T11:50:58.116000\",\"2023-07-13T11:52:03.361000\",\"2023-07-13T11:56:18.989000\",\"2023-07-13T11:57:59.956000\",\"2023-07-13T12:01:20.877000\",\"2023-07-13T12:02:57.895000\",\"2023-07-13T12:05:45.495000\"],\"y\":[\"Uczestnik 1\",\"Uczestnik 1\",\"Uczestnik 1\",\"Uczestnik 1\",\"Uczestnik 1\",\"Uczestnik 1\",\"Uczestnik 1\",\"Uczestnik 1\",\"Uczestnik 1\",\"Uczestnik 1\"],\"type\":\"scatter\"},{\"marker\":{\"size\":[8.67792862818254,8.512453794866481,9.256226897433242,9.256226897433242,9.256226897433242,8.925622689743324]},\"mode\":\"markers\",\"name\":\"Uczestnik 2\",\"x\":[\"2023-07-13T11:48:46.571000\",\"2023-07-13T11:50:39.159000\",\"2023-07-13T11:53:05.533000\",\"2023-07-13T11:55:55.332000\",\"2023-07-13T11:59:28.944000\",\"2023-07-13T12:02:26.120000\"],\"y\":[\"Uczestnik 2\",\"Uczestnik 2\",\"Uczestnik 2\",\"Uczestnik 2\",\"Uczestnik 2\",\"Uczestnik 2\"],\"type\":\"scatter\"},{\"marker\":{\"size\":[9.091097523059384,8.347324420492626,8.099284899989637]},\"mode\":\"markers\",\"name\":\"Uczestnik 3\",\"x\":[\"2023-07-13T11:24:54.016000\",\"2023-07-13T11:38:21.727000\",\"2023-07-13T11:53:35.120000\"],\"y\":[\"Uczestnik 3\",\"Uczestnik 3\",\"Uczestnik 3\"],\"type\":\"scatter\"},{\"marker\":{\"size\":[9.008187376930254,9.008187376930254,8.181849587176567,8.67792862818254]},\"mode\":\"markers\",\"name\":\"Uczestnik 4\",\"x\":[\"2023-07-13T11:32:09.066000\",\"2023-07-13T11:49:45.858000\",\"2023-07-13T11:57:26.277000\",\"2023-07-13T12:00:27.343000\"],\"y\":[\"Uczestnik 4\",\"Uczestnik 4\",\"Uczestnik 4\",\"Uczestnik 4\"],\"type\":\"scatter\"},{\"marker\":{\"size\":[9.091097523059384,9.669395792310086,9.173662210246313,9.421701730749303,9.586831105123157,9.504266417936227,9.421701730749303,9.586831105123157]},\"mode\":\"markers\",\"name\":\"Uczestnik 5\",\"x\":[\"2023-07-13T11:26:42.911000\",\"2023-07-13T11:40:52.300000\",\"2023-07-13T11:54:46.392000\",\"2023-07-13T12:05:00.524000\",\"2023-07-13T12:09:49.128000\",\"2023-07-13T12:29:01.735000\",\"2023-07-13T12:32:47.954000\",\"2023-07-13T12:47:16.834000\"],\"y\":[\"Uczestnik 5\",\"Uczestnik 5\",\"Uczestnik 5\",\"Uczestnik 5\",\"Uczestnik 5\",\"Uczestnik 5\",\"Uczestnik 5\",\"Uczestnik 5\"],\"type\":\"scatter\"},{\"marker\":{\"size\":[9.008187376930254,9.752305938439218,9.091097523059384,9.338791584620168,8.925622689743324,9.586831105123157,9.586831105123157,9.421701730749303,9.834870625626147,10.0,9.834870625626147,8.67792862818254,9.669395792310086,9.338791584620168,9.586831105123157,9.421701730749303,9.834870625626147,9.256226897433242]},\"mode\":\"markers\",\"name\":\"Uczestnik 6\",\"x\":[\"2023-07-13T11:21:55.228000\",\"2023-07-13T11:32:04.955000\",\"2023-07-13T11:35:03.964000\",\"2023-07-13T11:38:15.228000\",\"2023-07-13T11:41:13.449000\",\"2023-07-13T11:49:09.383000\",\"2023-07-13T11:52:52.774000\",\"2023-07-13T11:57:06.690000\",\"2023-07-13T12:00:06.474000\",\"2023-07-13T12:03:30.379000\",\"2023-07-13T12:06:50.619000\",\"2023-07-13T12:13:42.256000\",\"2023-07-13T12:15:59.657000\",\"2023-07-13T12:23:08.930000\",\"2023-07-13T12:26:05.216000\",\"2023-07-13T12:28:48.344000\",\"2023-07-13T12:32:08.345000\",\"2023-07-13T12:49:02.936000\"],\"y\":[\"Uczestnik 6\",\"Uczestnik 6\",\"Uczestnik 6\",\"Uczestnik 6\",\"Uczestnik 6\",\"Uczestnik 6\",\"Uczestnik 6\",\"Uczestnik 6\",\"Uczestnik 6\",\"Uczestnik 6\",\"Uczestnik 6\",\"Uczestnik 6\",\"Uczestnik 6\",\"Uczestnik 6\",\"Uczestnik 6\",\"Uczestnik 6\",\"Uczestnik 6\",\"Uczestnik 6\"],\"type\":\"scatter\"},{\"marker\":{\"size\":[0.0,9.091097523059384,9.091097523059384,8.67792862818254,8.76049331536947]},\"mode\":\"markers\",\"name\":\"Uczestnik 7\",\"x\":[\"2023-07-13T11:31:16.090000\",\"2023-07-13T11:32:26.419000\",\"2023-07-13T11:35:39.982000\",\"2023-07-13T11:59:28.667000\",\"2023-07-13T12:07:59.043000\"],\"y\":[\"Uczestnik 7\",\"Uczestnik 7\",\"Uczestnik 7\",\"Uczestnik 7\",\"Uczestnik 7\"],\"type\":\"scatter\"},{\"marker\":{\"size\":[8.347324420492626,9.752305938439218,9.752305938439218,9.008187376930254,8.8430580025564,9.504266417936227]},\"mode\":\"markers\",\"name\":\"Uczestnik 8\",\"x\":[\"2023-07-13T11:30:05.494000\",\"2023-07-13T11:32:47.513000\",\"2023-07-13T11:33:28.948000\",\"2023-07-13T11:39:55.346000\",\"2023-07-13T11:50:58.379000\",\"2023-07-13T11:55:38.556000\"],\"y\":[\"Uczestnik 8\",\"Uczestnik 8\",\"Uczestnik 8\",\"Uczestnik 8\",\"Uczestnik 8\",\"Uczestnik 8\"],\"type\":\"scatter\"},{\"marker\":{\"size\":[9.008187376930254,9.256226897433242,8.512453794866481,9.338791584620168,8.59501848205341]},\"mode\":\"markers\",\"name\":\"Uczestnik 9\",\"x\":[\"2023-07-13T11:21:17.294000\",\"2023-07-13T11:31:06.967000\",\"2023-07-13T11:48:26.030000\",\"2023-07-13T11:51:44.426000\",\"2023-07-13T12:02:40.245000\"],\"y\":[\"Uczestnik 9\",\"Uczestnik 9\",\"Uczestnik 9\",\"Uczestnik 9\",\"Uczestnik 9\"],\"type\":\"scatter\"},{\"marker\":{\"size\":[8.264414274363492,8.347324420492626,9.421701730749303]},\"mode\":\"markers\",\"name\":\"Uczestnik 10\",\"x\":[\"2023-07-13T11:24:40.041000\",\"2023-07-13T11:26:37.676000\",\"2023-07-13T12:33:40.150000\"],\"y\":[\"Uczestnik 10\",\"Uczestnik 10\",\"Uczestnik 10\"],\"type\":\"scatter\"},{\"marker\":{\"size\":[9.173662210246313,9.256226897433242,8.59501848205341]},\"mode\":\"markers\",\"name\":\"Uczestnik 11\",\"x\":[\"2023-07-13T11:48:46.188000\",\"2023-07-13T11:58:51.980000\",\"2023-07-13T12:03:02.275000\"],\"y\":[\"Uczestnik 11\",\"Uczestnik 11\",\"Uczestnik 11\"],\"type\":\"scatter\"},{\"marker\":{\"size\":[8.347324420492626,8.8430580025564,9.421701730749303,9.338791584620168,9.421701730749303]},\"mode\":\"markers\",\"name\":\"Uczestnik 12\",\"x\":[\"2023-07-13T11:26:51.131000\",\"2023-07-13T11:49:58.213000\",\"2023-07-13T11:54:45.579000\",\"2023-07-13T11:58:29.596000\",\"2023-07-13T12:07:24.454000\"],\"y\":[\"Uczestnik 12\",\"Uczestnik 12\",\"Uczestnik 12\",\"Uczestnik 12\",\"Uczestnik 12\"],\"type\":\"scatter\"},{\"marker\":{\"size\":[8.67792862818254,9.338791584620168,9.752305938439218,9.752305938439218,9.586831105123157,9.421701730749303,8.67792862818254,8.76049331536947,9.338791584620168,9.752305938439218]},\"mode\":\"markers\",\"name\":\"Uczestnik 13\",\"x\":[\"2023-07-13T11:29:53.679000\",\"2023-07-13T11:33:21.189000\",\"2023-07-13T11:36:57.382000\",\"2023-07-13T11:37:27.398000\",\"2023-07-13T11:48:04.686000\",\"2023-07-13T11:52:29.509000\",\"2023-07-13T11:55:33.826000\",\"2023-07-13T12:02:37.301000\",\"2023-07-13T12:07:24.190000\",\"2023-07-13T12:23:49.570000\"],\"y\":[\"Uczestnik 13\",\"Uczestnik 13\",\"Uczestnik 13\",\"Uczestnik 13\",\"Uczestnik 13\",\"Uczestnik 13\",\"Uczestnik 13\",\"Uczestnik 13\",\"Uczestnik 13\",\"Uczestnik 13\"],\"type\":\"scatter\"},{\"marker\":{\"size\":[8.347324420492626,8.264414274363492,9.421701730749303]},\"mode\":\"markers\",\"name\":\"Uczestnik 14\",\"x\":[\"2023-07-13T11:52:16.113000\",\"2023-07-13T11:55:52.662000\",\"2023-07-13T12:22:53.836000\"],\"y\":[\"Uczestnik 14\",\"Uczestnik 14\",\"Uczestnik 14\"],\"type\":\"scatter\"},{\"marker\":{\"size\":[9.421701730749303,9.008187376930254,9.338791584620168,9.421701730749303,9.256226897433242,9.504266417936227]},\"mode\":\"markers\",\"name\":\"Uczestnik 15\",\"x\":[\"2023-07-13T11:29:26.762000\",\"2023-07-13T11:49:57.970000\",\"2023-07-13T11:53:28.818000\",\"2023-07-13T11:58:08.985000\",\"2023-07-13T12:06:50.389000\",\"2023-07-13T12:08:57.973000\"],\"y\":[\"Uczestnik 15\",\"Uczestnik 15\",\"Uczestnik 15\",\"Uczestnik 15\",\"Uczestnik 15\",\"Uczestnik 15\"],\"type\":\"scatter\"},{\"marker\":{\"size\":[9.091097523059384,8.264414274363492,9.091097523059384]},\"mode\":\"markers\",\"name\":\"Uczestnik 16\",\"x\":[\"2023-07-13T11:26:44.922000\",\"2023-07-13T11:32:11.639000\",\"2023-07-13T11:34:57.997000\"],\"y\":[\"Uczestnik 16\",\"Uczestnik 16\",\"Uczestnik 16\"],\"type\":\"scatter\"},{\"marker\":{\"size\":[9.091097523059384,9.091097523059384,9.091097523059384,8.429889107679552]},\"mode\":\"markers\",\"name\":\"Uczestnik 17\",\"x\":[\"2023-07-13T11:32:42.599000\",\"2023-07-13T11:50:38.895000\",\"2023-07-13T11:51:44.625000\",\"2023-07-13T11:58:36.966000\"],\"y\":[\"Uczestnik 17\",\"Uczestnik 17\",\"Uczestnik 17\",\"Uczestnik 17\"],\"type\":\"scatter\"},{\"marker\":{\"size\":[9.091097523059384,9.091097523059384,8.67792862818254,8.67792862818254,9.256226897433242,8.925622689743324,6.115659653850139]},\"mode\":\"markers\",\"name\":\"Uczestnik 18\",\"x\":[\"2023-07-13T11:36:05.892000\",\"2023-07-13T11:36:38.689000\",\"2023-07-13T11:50:55.784000\",\"2023-07-13T11:51:29.055000\",\"2023-07-13T11:58:09.236000\",\"2023-07-13T12:01:47.346000\",\"2023-07-13T12:04:57.574000\"],\"y\":[\"Uczestnik 18\",\"Uczestnik 18\",\"Uczestnik 18\",\"Uczestnik 18\",\"Uczestnik 18\",\"Uczestnik 18\",\"Uczestnik 18\"],\"type\":\"scatter\"},{\"marker\":{\"size\":[8.925622689743324,8.347324420492626,4.7106781359035494,9.173662210246313,3.471171451273017,8.016720212802708,8.429889107679552]},\"mode\":\"markers\",\"name\":\"Uczestnik 19\",\"x\":[\"2023-07-13T11:27:14.478000\",\"2023-07-13T11:28:40.012000\",\"2023-07-13T11:49:06.453000\",\"2023-07-13T11:49:58.165000\",\"2023-07-13T11:56:47.251000\",\"2023-07-13T11:59:39.789000\",\"2023-07-13T12:02:25.895000\"],\"y\":[\"Uczestnik 19\",\"Uczestnik 19\",\"Uczestnik 19\",\"Uczestnik 19\",\"Uczestnik 19\",\"Uczestnik 19\",\"Uczestnik 19\"],\"type\":\"scatter\"},{\"marker\":{\"size\":[9.008187376930254,8.016720212802708,8.59501848205341,8.347324420492626]},\"mode\":\"markers\",\"name\":\"Uczestnik 20\",\"x\":[\"2023-07-13T11:25:16.267000\",\"2023-07-13T11:48:14.912000\",\"2023-07-13T11:50:06.972000\",\"2023-07-13T11:57:26.601000\"],\"y\":[\"Uczestnik 20\",\"Uczestnik 20\",\"Uczestnik 20\",\"Uczestnik 20\"],\"type\":\"scatter\"},{\"marker\":{\"size\":[9.091097523059384,9.091097523059384,8.347324420492626,8.347324420492626,8.347324420492626,8.347324420492626,9.338791584620168,7.355511797422876,8.512453794866481]},\"mode\":\"markers\",\"name\":\"Uczestnik 21\",\"x\":[\"2023-07-13T11:27:25.891000\",\"2023-07-13T11:28:55.818000\",\"2023-07-13T11:31:16.518000\",\"2023-07-13T11:34:07.939000\",\"2023-07-13T11:48:25.760000\",\"2023-07-13T11:49:08.760000\",\"2023-07-13T11:51:12.910000\",\"2023-07-13T12:04:01.132000\",\"2023-07-13T12:07:39.907000\"],\"y\":[\"Uczestnik 21\",\"Uczestnik 21\",\"Uczestnik 21\",\"Uczestnik 21\",\"Uczestnik 21\",\"Uczestnik 21\",\"Uczestnik 21\",\"Uczestnik 21\",\"Uczestnik 21\"],\"type\":\"scatter\"}],                        {\"template\":{\"data\":{\"histogram2dcontour\":[{\"type\":\"histogram2dcontour\",\"colorbar\":{\"outlinewidth\":0,\"ticks\":\"\"},\"colorscale\":[[0.0,\"#0d0887\"],[0.1111111111111111,\"#46039f\"],[0.2222222222222222,\"#7201a8\"],[0.3333333333333333,\"#9c179e\"],[0.4444444444444444,\"#bd3786\"],[0.5555555555555556,\"#d8576b\"],[0.6666666666666666,\"#ed7953\"],[0.7777777777777778,\"#fb9f3a\"],[0.8888888888888888,\"#fdca26\"],[1.0,\"#f0f921\"]]}],\"choropleth\":[{\"type\":\"choropleth\",\"colorbar\":{\"outlinewidth\":0,\"ticks\":\"\"}}],\"histogram2d\":[{\"type\":\"histogram2d\",\"colorbar\":{\"outlinewidth\":0,\"ticks\":\"\"},\"colorscale\":[[0.0,\"#0d0887\"],[0.1111111111111111,\"#46039f\"],[0.2222222222222222,\"#7201a8\"],[0.3333333333333333,\"#9c179e\"],[0.4444444444444444,\"#bd3786\"],[0.5555555555555556,\"#d8576b\"],[0.6666666666666666,\"#ed7953\"],[0.7777777777777778,\"#fb9f3a\"],[0.8888888888888888,\"#fdca26\"],[1.0,\"#f0f921\"]]}],\"heatmap\":[{\"type\":\"heatmap\",\"colorbar\":{\"outlinewidth\":0,\"ticks\":\"\"},\"colorscale\":[[0.0,\"#0d0887\"],[0.1111111111111111,\"#46039f\"],[0.2222222222222222,\"#7201a8\"],[0.3333333333333333,\"#9c179e\"],[0.4444444444444444,\"#bd3786\"],[0.5555555555555556,\"#d8576b\"],[0.6666666666666666,\"#ed7953\"],[0.7777777777777778,\"#fb9f3a\"],[0.8888888888888888,\"#fdca26\"],[1.0,\"#f0f921\"]]}],\"heatmapgl\":[{\"type\":\"heatmapgl\",\"colorbar\":{\"outlinewidth\":0,\"ticks\":\"\"},\"colorscale\":[[0.0,\"#0d0887\"],[0.1111111111111111,\"#46039f\"],[0.2222222222222222,\"#7201a8\"],[0.3333333333333333,\"#9c179e\"],[0.4444444444444444,\"#bd3786\"],[0.5555555555555556,\"#d8576b\"],[0.6666666666666666,\"#ed7953\"],[0.7777777777777778,\"#fb9f3a\"],[0.8888888888888888,\"#fdca26\"],[1.0,\"#f0f921\"]]}],\"contourcarpet\":[{\"type\":\"contourcarpet\",\"colorbar\":{\"outlinewidth\":0,\"ticks\":\"\"}}],\"contour\":[{\"type\":\"contour\",\"colorbar\":{\"outlinewidth\":0,\"ticks\":\"\"},\"colorscale\":[[0.0,\"#0d0887\"],[0.1111111111111111,\"#46039f\"],[0.2222222222222222,\"#7201a8\"],[0.3333333333333333,\"#9c179e\"],[0.4444444444444444,\"#bd3786\"],[0.5555555555555556,\"#d8576b\"],[0.6666666666666666,\"#ed7953\"],[0.7777777777777778,\"#fb9f3a\"],[0.8888888888888888,\"#fdca26\"],[1.0,\"#f0f921\"]]}],\"surface\":[{\"type\":\"surface\",\"colorbar\":{\"outlinewidth\":0,\"ticks\":\"\"},\"colorscale\":[[0.0,\"#0d0887\"],[0.1111111111111111,\"#46039f\"],[0.2222222222222222,\"#7201a8\"],[0.3333333333333333,\"#9c179e\"],[0.4444444444444444,\"#bd3786\"],[0.5555555555555556,\"#d8576b\"],[0.6666666666666666,\"#ed7953\"],[0.7777777777777778,\"#fb9f3a\"],[0.8888888888888888,\"#fdca26\"],[1.0,\"#f0f921\"]]}],\"mesh3d\":[{\"type\":\"mesh3d\",\"colorbar\":{\"outlinewidth\":0,\"ticks\":\"\"}}],\"scatter\":[{\"fillpattern\":{\"fillmode\":\"overlay\",\"size\":10,\"solidity\":0.2},\"type\":\"scatter\"}],\"parcoords\":[{\"type\":\"parcoords\",\"line\":{\"colorbar\":{\"outlinewidth\":0,\"ticks\":\"\"}}}],\"scatterpolargl\":[{\"type\":\"scatterpolargl\",\"marker\":{\"colorbar\":{\"outlinewidth\":0,\"ticks\":\"\"}}}],\"bar\":[{\"error_x\":{\"color\":\"#2a3f5f\"},\"error_y\":{\"color\":\"#2a3f5f\"},\"marker\":{\"line\":{\"color\":\"#E5ECF6\",\"width\":0.5},\"pattern\":{\"fillmode\":\"overlay\",\"size\":10,\"solidity\":0.2}},\"type\":\"bar\"}],\"scattergeo\":[{\"type\":\"scattergeo\",\"marker\":{\"colorbar\":{\"outlinewidth\":0,\"ticks\":\"\"}}}],\"scatterpolar\":[{\"type\":\"scatterpolar\",\"marker\":{\"colorbar\":{\"outlinewidth\":0,\"ticks\":\"\"}}}],\"histogram\":[{\"marker\":{\"pattern\":{\"fillmode\":\"overlay\",\"size\":10,\"solidity\":0.2}},\"type\":\"histogram\"}],\"scattergl\":[{\"type\":\"scattergl\",\"marker\":{\"colorbar\":{\"outlinewidth\":0,\"ticks\":\"\"}}}],\"scatter3d\":[{\"type\":\"scatter3d\",\"line\":{\"colorbar\":{\"outlinewidth\":0,\"ticks\":\"\"}},\"marker\":{\"colorbar\":{\"outlinewidth\":0,\"ticks\":\"\"}}}],\"scattermapbox\":[{\"type\":\"scattermapbox\",\"marker\":{\"colorbar\":{\"outlinewidth\":0,\"ticks\":\"\"}}}],\"scatterternary\":[{\"type\":\"scatterternary\",\"marker\":{\"colorbar\":{\"outlinewidth\":0,\"ticks\":\"\"}}}],\"scattercarpet\":[{\"type\":\"scattercarpet\",\"marker\":{\"colorbar\":{\"outlinewidth\":0,\"ticks\":\"\"}}}],\"carpet\":[{\"aaxis\":{\"endlinecolor\":\"#2a3f5f\",\"gridcolor\":\"white\",\"linecolor\":\"white\",\"minorgridcolor\":\"white\",\"startlinecolor\":\"#2a3f5f\"},\"baxis\":{\"endlinecolor\":\"#2a3f5f\",\"gridcolor\":\"white\",\"linecolor\":\"white\",\"minorgridcolor\":\"white\",\"startlinecolor\":\"#2a3f5f\"},\"type\":\"carpet\"}],\"table\":[{\"cells\":{\"fill\":{\"color\":\"#EBF0F8\"},\"line\":{\"color\":\"white\"}},\"header\":{\"fill\":{\"color\":\"#C8D4E3\"},\"line\":{\"color\":\"white\"}},\"type\":\"table\"}],\"barpolar\":[{\"marker\":{\"line\":{\"color\":\"#E5ECF6\",\"width\":0.5},\"pattern\":{\"fillmode\":\"overlay\",\"size\":10,\"solidity\":0.2}},\"type\":\"barpolar\"}],\"pie\":[{\"automargin\":true,\"type\":\"pie\"}]},\"layout\":{\"autotypenumbers\":\"strict\",\"colorway\":[\"#636efa\",\"#EF553B\",\"#00cc96\",\"#ab63fa\",\"#FFA15A\",\"#19d3f3\",\"#FF6692\",\"#B6E880\",\"#FF97FF\",\"#FECB52\"],\"font\":{\"color\":\"#2a3f5f\"},\"hovermode\":\"closest\",\"hoverlabel\":{\"align\":\"left\"},\"paper_bgcolor\":\"white\",\"plot_bgcolor\":\"#E5ECF6\",\"polar\":{\"bgcolor\":\"#E5ECF6\",\"angularaxis\":{\"gridcolor\":\"white\",\"linecolor\":\"white\",\"ticks\":\"\"},\"radialaxis\":{\"gridcolor\":\"white\",\"linecolor\":\"white\",\"ticks\":\"\"}},\"ternary\":{\"bgcolor\":\"#E5ECF6\",\"aaxis\":{\"gridcolor\":\"white\",\"linecolor\":\"white\",\"ticks\":\"\"},\"baxis\":{\"gridcolor\":\"white\",\"linecolor\":\"white\",\"ticks\":\"\"},\"caxis\":{\"gridcolor\":\"white\",\"linecolor\":\"white\",\"ticks\":\"\"}},\"coloraxis\":{\"colorbar\":{\"outlinewidth\":0,\"ticks\":\"\"}},\"colorscale\":{\"sequential\":[[0.0,\"#0d0887\"],[0.1111111111111111,\"#46039f\"],[0.2222222222222222,\"#7201a8\"],[0.3333333333333333,\"#9c179e\"],[0.4444444444444444,\"#bd3786\"],[0.5555555555555556,\"#d8576b\"],[0.6666666666666666,\"#ed7953\"],[0.7777777777777778,\"#fb9f3a\"],[0.8888888888888888,\"#fdca26\"],[1.0,\"#f0f921\"]],\"sequentialminus\":[[0.0,\"#0d0887\"],[0.1111111111111111,\"#46039f\"],[0.2222222222222222,\"#7201a8\"],[0.3333333333333333,\"#9c179e\"],[0.4444444444444444,\"#bd3786\"],[0.5555555555555556,\"#d8576b\"],[0.6666666666666666,\"#ed7953\"],[0.7777777777777778,\"#fb9f3a\"],[0.8888888888888888,\"#fdca26\"],[1.0,\"#f0f921\"]],\"diverging\":[[0,\"#8e0152\"],[0.1,\"#c51b7d\"],[0.2,\"#de77ae\"],[0.3,\"#f1b6da\"],[0.4,\"#fde0ef\"],[0.5,\"#f7f7f7\"],[0.6,\"#e6f5d0\"],[0.7,\"#b8e186\"],[0.8,\"#7fbc41\"],[0.9,\"#4d9221\"],[1,\"#276419\"]]},\"xaxis\":{\"gridcolor\":\"white\",\"linecolor\":\"white\",\"ticks\":\"\",\"title\":{\"standoff\":15},\"zerolinecolor\":\"white\",\"automargin\":true,\"zerolinewidth\":2},\"yaxis\":{\"gridcolor\":\"white\",\"linecolor\":\"white\",\"ticks\":\"\",\"title\":{\"standoff\":15},\"zerolinecolor\":\"white\",\"automargin\":true,\"zerolinewidth\":2},\"scene\":{\"xaxis\":{\"backgroundcolor\":\"#E5ECF6\",\"gridcolor\":\"white\",\"linecolor\":\"white\",\"showbackground\":true,\"ticks\":\"\",\"zerolinecolor\":\"white\",\"gridwidth\":2},\"yaxis\":{\"backgroundcolor\":\"#E5ECF6\",\"gridcolor\":\"white\",\"linecolor\":\"white\",\"showbackground\":true,\"ticks\":\"\",\"zerolinecolor\":\"white\",\"gridwidth\":2},\"zaxis\":{\"backgroundcolor\":\"#E5ECF6\",\"gridcolor\":\"white\",\"linecolor\":\"white\",\"showbackground\":true,\"ticks\":\"\",\"zerolinecolor\":\"white\",\"gridwidth\":2}},\"shapedefaults\":{\"line\":{\"color\":\"#2a3f5f\"}},\"annotationdefaults\":{\"arrowcolor\":\"#2a3f5f\",\"arrowhead\":0,\"arrowwidth\":1},\"geo\":{\"bgcolor\":\"white\",\"landcolor\":\"#E5ECF6\",\"subunitcolor\":\"white\",\"showland\":true,\"showlakes\":true,\"lakecolor\":\"white\"},\"title\":{\"x\":0.05},\"mapbox\":{\"style\":\"light\"}}},\"title\":{\"text\":\"How often did users submit their solutions?\"},\"xaxis\":{\"title\":{\"text\":\"Time\"}},\"yaxis\":{\"title\":{\"text\":\"Participants name\\u002falias\"}},\"autosize\":false,\"width\":1000,\"height\":800},                        {\"responsive\": true}                    ).then(function(){\n",
       "                            \n",
       "var gd = document.getElementById('ee0e99cd-9258-4be9-943f-2267584ae08d');\n",
       "var x = new MutationObserver(function (mutations, observer) {{\n",
       "        var display = window.getComputedStyle(gd).display;\n",
       "        if (!display || display === 'none') {{\n",
       "            console.log([gd, 'removed!']);\n",
       "            Plotly.purge(gd);\n",
       "            observer.disconnect();\n",
       "        }}\n",
       "}});\n",
       "\n",
       "// Listen for the removal of the full notebook cells\n",
       "var notebookContainer = gd.closest('#notebook-container');\n",
       "if (notebookContainer) {{\n",
       "    x.observe(notebookContainer, {childList: true});\n",
       "}}\n",
       "\n",
       "// Listen for the clearing of the current output cell\n",
       "var outputEl = gd.closest('.output');\n",
       "if (outputEl) {{\n",
       "    x.observe(outputEl, {childList: true});\n",
       "}}\n",
       "\n",
       "                        })                };                });            </script>        </div>"
      ]
     },
     "metadata": {},
     "output_type": "display_data"
    }
   ],
   "source": [
    "df['normalized_score'] = (df['score'] - df['score'].min()) / (df['score'].max() - df['score'].min())\n",
    "fig = go.Figure()\n",
    "\n",
    "for user in df['user_name'].unique():\n",
    "    user_df = df[df['user_name'] == user]\n",
    "    fig.add_trace(go.Scatter(\n",
    "        x=user_df['timestamp'], \n",
    "        y=[user]*len(user_df),\n",
    "        mode='markers',\n",
    "        marker=dict(\n",
    "            size=user_df['normalized_score'] * 10,\n",
    "        ),\n",
    "        name=user\n",
    "    ))\n",
    "\n",
    "\n",
    "fig.update_layout(\n",
    "    title='How often did users submit their solutions?',\n",
    "    xaxis_title='Time',\n",
    "    yaxis_title='Participants name/alias',\n",
    "    autosize=False,\n",
    "    width=1000,\n",
    "    height=800,\n",
    ")\n",
    "\n",
    "fig.show()\n"
   ]
  },
  {
   "cell_type": "markdown",
   "id": "b35fe07c",
   "metadata": {
    "papermill": {
     "duration": 0.011151,
     "end_time": "2023-07-15T20:56:09.923536",
     "exception": false,
     "start_time": "2023-07-15T20:56:09.912385",
     "status": "completed"
    },
    "tags": []
   },
   "source": [
    "### It can be seen that the strategies for solving the task over time varied. Some participants had periods of very hard work, while others improved their solution in a more systematic way.\n"
   ]
  },
  {
   "cell_type": "markdown",
   "id": "5d39395b",
   "metadata": {
    "papermill": {
     "duration": 0.011314,
     "end_time": "2023-07-15T20:56:09.946559",
     "exception": false,
     "start_time": "2023-07-15T20:56:09.935245",
     "status": "completed"
    },
    "tags": []
   },
   "source": [
    "## Did score improved?"
   ]
  },
  {
   "cell_type": "markdown",
   "id": "f1796ab8",
   "metadata": {
    "execution": {
     "iopub.execute_input": "2023-07-15T20:48:00.204710Z",
     "iopub.status.busy": "2023-07-15T20:48:00.204275Z",
     "iopub.status.idle": "2023-07-15T20:48:00.210309Z",
     "shell.execute_reply": "2023-07-15T20:48:00.209006Z",
     "shell.execute_reply.started": "2023-07-15T20:48:00.204656Z"
    },
    "papermill": {
     "duration": 0.012075,
     "end_time": "2023-07-15T20:56:09.969975",
     "exception": false,
     "start_time": "2023-07-15T20:56:09.957900",
     "status": "completed"
    },
    "tags": []
   },
   "source": [
    "### The size of the point on the graph reflects the height of the achieved score (for normalized data), while the differences are so small that we need to look at the data in a different way. Let's first see what the height of the achieved \"score\" looked like over time for the various solutions submitted."
   ]
  },
  {
   "cell_type": "code",
   "execution_count": 12,
   "id": "f5a9a581",
   "metadata": {
    "_kg_hide-input": true,
    "execution": {
     "iopub.execute_input": "2023-07-15T20:56:09.994676Z",
     "iopub.status.busy": "2023-07-15T20:56:09.993688Z",
     "iopub.status.idle": "2023-07-15T20:56:10.072252Z",
     "shell.execute_reply": "2023-07-15T20:56:10.071491Z"
    },
    "papermill": {
     "duration": 0.093254,
     "end_time": "2023-07-15T20:56:10.074252",
     "exception": false,
     "start_time": "2023-07-15T20:56:09.980998",
     "status": "completed"
    },
    "tags": []
   },
   "outputs": [
    {
     "data": {
      "text/html": [
       "<div>                            <div id=\"32069a0c-29d7-421e-93c7-2bbf6e67a3d0\" class=\"plotly-graph-div\" style=\"height:525px; width:100%;\"></div>            <script type=\"text/javascript\">                require([\"plotly\"], function(Plotly) {                    window.PLOTLYENV=window.PLOTLYENV || {};                                    if (document.getElementById(\"32069a0c-29d7-421e-93c7-2bbf6e67a3d0\")) {                    Plotly.newPlot(                        \"32069a0c-29d7-421e-93c7-2bbf6e67a3d0\",                        [{\"hoverinfo\":\"text\",\"marker\":{\"color\":[0.9008187376930253,0.8181849587176567,0.8347324420492627,0.9256226897433243,0.9091097523059384,0.9338791584620167,0.8925622689743324,0.9008187376930253,0.7851245379486648,0.9091097523059384,0.8677928628182541,0.8512453794866481,0.9256226897433243,0.9256226897433243,0.9256226897433243,0.8925622689743324,0.9091097523059384,0.8347324420492627,0.8099284899989637,0.9008187376930253,0.9008187376930253,0.8181849587176567,0.8677928628182541,0.9091097523059384,0.9669395792310086,0.9173662210246314,0.9421701730749303,0.9586831105123157,0.9504266417936228,0.9421701730749303,0.9586831105123157,0.9008187376930253,0.9752305938439217,0.9091097523059384,0.9338791584620167,0.8925622689743324,0.9586831105123157,0.9586831105123157,0.9421701730749303,0.9834870625626146,1.0,0.9834870625626146,0.8677928628182541,0.9669395792310086,0.9338791584620167,0.9586831105123157,0.9421701730749303,0.9834870625626146,0.9256226897433243,0.0,0.9091097523059384,0.9091097523059384,0.8677928628182541,0.876049331536947,0.8347324420492627,0.9752305938439217,0.9752305938439217,0.9008187376930253,0.88430580025564,0.9504266417936228,0.9008187376930253,0.9256226897433243,0.8512453794866481,0.9338791584620167,0.859501848205341,0.8264414274363492,0.8347324420492627,0.9421701730749303,0.9173662210246314,0.9256226897433243,0.859501848205341,0.8347324420492627,0.88430580025564,0.9421701730749303,0.9338791584620167,0.9421701730749303,0.8677928628182541,0.9338791584620167,0.9752305938439217,0.9752305938439217,0.9586831105123157,0.9421701730749303,0.8677928628182541,0.876049331536947,0.9338791584620167,0.9752305938439217,0.8347324420492627,0.8264414274363492,0.9421701730749303,0.9421701730749303,0.9008187376930253,0.9338791584620167,0.9421701730749303,0.9256226897433243,0.9504266417936228,0.9091097523059384,0.8264414274363492,0.9091097523059384,0.9091097523059384,0.9091097523059384,0.9091097523059384,0.8429889107679551,0.9091097523059384,0.9091097523059384,0.8677928628182541,0.8677928628182541,0.9256226897433243,0.8925622689743324,0.611565965385014,0.8925622689743324,0.8347324420492627,0.47106781359035493,0.9173662210246314,0.34711714512730174,0.8016720212802708,0.8429889107679551,0.9008187376930253,0.8016720212802708,0.859501848205341,0.8347324420492627,0.9091097523059384,0.9091097523059384,0.8347324420492627,0.8347324420492627,0.8347324420492627,0.8347324420492627,0.9338791584620167,0.7355511797422876,0.8512453794866481],\"colorbar\":{\"title\":{\"text\":\"Normalized Score\"}},\"colorscale\":[[0.0,\"#440154\"],[0.1111111111111111,\"#482878\"],[0.2222222222222222,\"#3e4989\"],[0.3333333333333333,\"#31688e\"],[0.4444444444444444,\"#26828e\"],[0.5555555555555556,\"#1f9e89\"],[0.6666666666666666,\"#35b779\"],[0.7777777777777778,\"#6ece58\"],[0.8888888888888888,\"#b5de2b\"],[1.0,\"#fde725\"]],\"showscale\":true,\"size\":6},\"mode\":\"markers\",\"name\":\"Score\",\"text\":[\"Uczestnik 1\",\"Uczestnik 1\",\"Uczestnik 1\",\"Uczestnik 1\",\"Uczestnik 1\",\"Uczestnik 1\",\"Uczestnik 1\",\"Uczestnik 1\",\"Uczestnik 1\",\"Uczestnik 1\",\"Uczestnik 2\",\"Uczestnik 2\",\"Uczestnik 2\",\"Uczestnik 2\",\"Uczestnik 2\",\"Uczestnik 2\",\"Uczestnik 3\",\"Uczestnik 3\",\"Uczestnik 3\",\"Uczestnik 4\",\"Uczestnik 4\",\"Uczestnik 4\",\"Uczestnik 4\",\"Uczestnik 5\",\"Uczestnik 5\",\"Uczestnik 5\",\"Uczestnik 5\",\"Uczestnik 5\",\"Uczestnik 5\",\"Uczestnik 5\",\"Uczestnik 5\",\"Uczestnik 6\",\"Uczestnik 6\",\"Uczestnik 6\",\"Uczestnik 6\",\"Uczestnik 6\",\"Uczestnik 6\",\"Uczestnik 6\",\"Uczestnik 6\",\"Uczestnik 6\",\"Uczestnik 6\",\"Uczestnik 6\",\"Uczestnik 6\",\"Uczestnik 6\",\"Uczestnik 6\",\"Uczestnik 6\",\"Uczestnik 6\",\"Uczestnik 6\",\"Uczestnik 6\",\"Uczestnik 7\",\"Uczestnik 7\",\"Uczestnik 7\",\"Uczestnik 7\",\"Uczestnik 7\",\"Uczestnik 8\",\"Uczestnik 8\",\"Uczestnik 8\",\"Uczestnik 8\",\"Uczestnik 8\",\"Uczestnik 8\",\"Uczestnik 9\",\"Uczestnik 9\",\"Uczestnik 9\",\"Uczestnik 9\",\"Uczestnik 9\",\"Uczestnik 10\",\"Uczestnik 10\",\"Uczestnik 10\",\"Uczestnik 11\",\"Uczestnik 11\",\"Uczestnik 11\",\"Uczestnik 12\",\"Uczestnik 12\",\"Uczestnik 12\",\"Uczestnik 12\",\"Uczestnik 12\",\"Uczestnik 13\",\"Uczestnik 13\",\"Uczestnik 13\",\"Uczestnik 13\",\"Uczestnik 13\",\"Uczestnik 13\",\"Uczestnik 13\",\"Uczestnik 13\",\"Uczestnik 13\",\"Uczestnik 13\",\"Uczestnik 14\",\"Uczestnik 14\",\"Uczestnik 14\",\"Uczestnik 15\",\"Uczestnik 15\",\"Uczestnik 15\",\"Uczestnik 15\",\"Uczestnik 15\",\"Uczestnik 15\",\"Uczestnik 16\",\"Uczestnik 16\",\"Uczestnik 16\",\"Uczestnik 17\",\"Uczestnik 17\",\"Uczestnik 17\",\"Uczestnik 17\",\"Uczestnik 18\",\"Uczestnik 18\",\"Uczestnik 18\",\"Uczestnik 18\",\"Uczestnik 18\",\"Uczestnik 18\",\"Uczestnik 18\",\"Uczestnik 19\",\"Uczestnik 19\",\"Uczestnik 19\",\"Uczestnik 19\",\"Uczestnik 19\",\"Uczestnik 19\",\"Uczestnik 19\",\"Uczestnik 20\",\"Uczestnik 20\",\"Uczestnik 20\",\"Uczestnik 20\",\"Uczestnik 21\",\"Uczestnik 21\",\"Uczestnik 21\",\"Uczestnik 21\",\"Uczestnik 21\",\"Uczestnik 21\",\"Uczestnik 21\",\"Uczestnik 21\",\"Uczestnik 21\"],\"x\":[\"2023-07-13T11:29:31.140000\",\"2023-07-13T11:48:19.407000\",\"2023-07-13T11:49:38.642000\",\"2023-07-13T11:50:58.116000\",\"2023-07-13T11:52:03.361000\",\"2023-07-13T11:56:18.989000\",\"2023-07-13T11:57:59.956000\",\"2023-07-13T12:01:20.877000\",\"2023-07-13T12:02:57.895000\",\"2023-07-13T12:05:45.495000\",\"2023-07-13T11:48:46.571000\",\"2023-07-13T11:50:39.159000\",\"2023-07-13T11:53:05.533000\",\"2023-07-13T11:55:55.332000\",\"2023-07-13T11:59:28.944000\",\"2023-07-13T12:02:26.120000\",\"2023-07-13T11:24:54.016000\",\"2023-07-13T11:38:21.727000\",\"2023-07-13T11:53:35.120000\",\"2023-07-13T11:32:09.066000\",\"2023-07-13T11:49:45.858000\",\"2023-07-13T11:57:26.277000\",\"2023-07-13T12:00:27.343000\",\"2023-07-13T11:26:42.911000\",\"2023-07-13T11:40:52.300000\",\"2023-07-13T11:54:46.392000\",\"2023-07-13T12:05:00.524000\",\"2023-07-13T12:09:49.128000\",\"2023-07-13T12:29:01.735000\",\"2023-07-13T12:32:47.954000\",\"2023-07-13T12:47:16.834000\",\"2023-07-13T11:21:55.228000\",\"2023-07-13T11:32:04.955000\",\"2023-07-13T11:35:03.964000\",\"2023-07-13T11:38:15.228000\",\"2023-07-13T11:41:13.449000\",\"2023-07-13T11:49:09.383000\",\"2023-07-13T11:52:52.774000\",\"2023-07-13T11:57:06.690000\",\"2023-07-13T12:00:06.474000\",\"2023-07-13T12:03:30.379000\",\"2023-07-13T12:06:50.619000\",\"2023-07-13T12:13:42.256000\",\"2023-07-13T12:15:59.657000\",\"2023-07-13T12:23:08.930000\",\"2023-07-13T12:26:05.216000\",\"2023-07-13T12:28:48.344000\",\"2023-07-13T12:32:08.345000\",\"2023-07-13T12:49:02.936000\",\"2023-07-13T11:31:16.090000\",\"2023-07-13T11:32:26.419000\",\"2023-07-13T11:35:39.982000\",\"2023-07-13T11:59:28.667000\",\"2023-07-13T12:07:59.043000\",\"2023-07-13T11:30:05.494000\",\"2023-07-13T11:32:47.513000\",\"2023-07-13T11:33:28.948000\",\"2023-07-13T11:39:55.346000\",\"2023-07-13T11:50:58.379000\",\"2023-07-13T11:55:38.556000\",\"2023-07-13T11:21:17.294000\",\"2023-07-13T11:31:06.967000\",\"2023-07-13T11:48:26.030000\",\"2023-07-13T11:51:44.426000\",\"2023-07-13T12:02:40.245000\",\"2023-07-13T11:24:40.041000\",\"2023-07-13T11:26:37.676000\",\"2023-07-13T12:33:40.150000\",\"2023-07-13T11:48:46.188000\",\"2023-07-13T11:58:51.980000\",\"2023-07-13T12:03:02.275000\",\"2023-07-13T11:26:51.131000\",\"2023-07-13T11:49:58.213000\",\"2023-07-13T11:54:45.579000\",\"2023-07-13T11:58:29.596000\",\"2023-07-13T12:07:24.454000\",\"2023-07-13T11:29:53.679000\",\"2023-07-13T11:33:21.189000\",\"2023-07-13T11:36:57.382000\",\"2023-07-13T11:37:27.398000\",\"2023-07-13T11:48:04.686000\",\"2023-07-13T11:52:29.509000\",\"2023-07-13T11:55:33.826000\",\"2023-07-13T12:02:37.301000\",\"2023-07-13T12:07:24.190000\",\"2023-07-13T12:23:49.570000\",\"2023-07-13T11:52:16.113000\",\"2023-07-13T11:55:52.662000\",\"2023-07-13T12:22:53.836000\",\"2023-07-13T11:29:26.762000\",\"2023-07-13T11:49:57.970000\",\"2023-07-13T11:53:28.818000\",\"2023-07-13T11:58:08.985000\",\"2023-07-13T12:06:50.389000\",\"2023-07-13T12:08:57.973000\",\"2023-07-13T11:26:44.922000\",\"2023-07-13T11:32:11.639000\",\"2023-07-13T11:34:57.997000\",\"2023-07-13T11:32:42.599000\",\"2023-07-13T11:50:38.895000\",\"2023-07-13T11:51:44.625000\",\"2023-07-13T11:58:36.966000\",\"2023-07-13T11:36:05.892000\",\"2023-07-13T11:36:38.689000\",\"2023-07-13T11:50:55.784000\",\"2023-07-13T11:51:29.055000\",\"2023-07-13T11:58:09.236000\",\"2023-07-13T12:01:47.346000\",\"2023-07-13T12:04:57.574000\",\"2023-07-13T11:27:14.478000\",\"2023-07-13T11:28:40.012000\",\"2023-07-13T11:49:06.453000\",\"2023-07-13T11:49:58.165000\",\"2023-07-13T11:56:47.251000\",\"2023-07-13T11:59:39.789000\",\"2023-07-13T12:02:25.895000\",\"2023-07-13T11:25:16.267000\",\"2023-07-13T11:48:14.912000\",\"2023-07-13T11:50:06.972000\",\"2023-07-13T11:57:26.601000\",\"2023-07-13T11:27:25.891000\",\"2023-07-13T11:28:55.818000\",\"2023-07-13T11:31:16.518000\",\"2023-07-13T11:34:07.939000\",\"2023-07-13T11:48:25.760000\",\"2023-07-13T11:49:08.760000\",\"2023-07-13T11:51:12.910000\",\"2023-07-13T12:04:01.132000\",\"2023-07-13T12:07:39.907000\"],\"y\":[77.033,74.641,75.12,77.751,77.273,77.99,76.794,77.033,73.684,77.273,76.077,75.598,77.751,77.751,77.751,76.794,77.273,75.12,74.402,77.033,77.033,74.641,76.077,77.273,78.947,77.512,78.23,78.708,78.469,78.23,78.708,77.033,79.187,77.273,77.99,76.794,78.708,78.708,78.23,79.426,79.904,79.426,76.077,78.947,77.99,78.708,78.23,79.426,77.751,50.957,77.273,77.273,76.077,76.316,75.12,79.187,79.187,77.033,76.555,78.469,77.033,77.751,75.598,77.99,75.837,74.88,75.12,78.23,77.512,77.751,75.837,75.12,76.555,78.23,77.99,78.23,76.077,77.99,79.187,79.187,78.708,78.23,76.077,76.316,77.99,79.187,75.12,74.88,78.23,78.23,77.033,77.99,78.23,77.751,78.469,77.273,74.88,77.273,77.273,77.273,77.273,75.359,77.273,77.273,76.077,76.077,77.751,76.794,68.66,76.794,75.12,64.593,77.512,61.005,74.163,75.359,77.033,74.163,75.837,75.12,77.273,77.273,75.12,75.12,75.12,75.12,77.99,72.249,75.598],\"type\":\"scatter\"}],                        {\"template\":{\"data\":{\"histogram2dcontour\":[{\"type\":\"histogram2dcontour\",\"colorbar\":{\"outlinewidth\":0,\"ticks\":\"\"},\"colorscale\":[[0.0,\"#0d0887\"],[0.1111111111111111,\"#46039f\"],[0.2222222222222222,\"#7201a8\"],[0.3333333333333333,\"#9c179e\"],[0.4444444444444444,\"#bd3786\"],[0.5555555555555556,\"#d8576b\"],[0.6666666666666666,\"#ed7953\"],[0.7777777777777778,\"#fb9f3a\"],[0.8888888888888888,\"#fdca26\"],[1.0,\"#f0f921\"]]}],\"choropleth\":[{\"type\":\"choropleth\",\"colorbar\":{\"outlinewidth\":0,\"ticks\":\"\"}}],\"histogram2d\":[{\"type\":\"histogram2d\",\"colorbar\":{\"outlinewidth\":0,\"ticks\":\"\"},\"colorscale\":[[0.0,\"#0d0887\"],[0.1111111111111111,\"#46039f\"],[0.2222222222222222,\"#7201a8\"],[0.3333333333333333,\"#9c179e\"],[0.4444444444444444,\"#bd3786\"],[0.5555555555555556,\"#d8576b\"],[0.6666666666666666,\"#ed7953\"],[0.7777777777777778,\"#fb9f3a\"],[0.8888888888888888,\"#fdca26\"],[1.0,\"#f0f921\"]]}],\"heatmap\":[{\"type\":\"heatmap\",\"colorbar\":{\"outlinewidth\":0,\"ticks\":\"\"},\"colorscale\":[[0.0,\"#0d0887\"],[0.1111111111111111,\"#46039f\"],[0.2222222222222222,\"#7201a8\"],[0.3333333333333333,\"#9c179e\"],[0.4444444444444444,\"#bd3786\"],[0.5555555555555556,\"#d8576b\"],[0.6666666666666666,\"#ed7953\"],[0.7777777777777778,\"#fb9f3a\"],[0.8888888888888888,\"#fdca26\"],[1.0,\"#f0f921\"]]}],\"heatmapgl\":[{\"type\":\"heatmapgl\",\"colorbar\":{\"outlinewidth\":0,\"ticks\":\"\"},\"colorscale\":[[0.0,\"#0d0887\"],[0.1111111111111111,\"#46039f\"],[0.2222222222222222,\"#7201a8\"],[0.3333333333333333,\"#9c179e\"],[0.4444444444444444,\"#bd3786\"],[0.5555555555555556,\"#d8576b\"],[0.6666666666666666,\"#ed7953\"],[0.7777777777777778,\"#fb9f3a\"],[0.8888888888888888,\"#fdca26\"],[1.0,\"#f0f921\"]]}],\"contourcarpet\":[{\"type\":\"contourcarpet\",\"colorbar\":{\"outlinewidth\":0,\"ticks\":\"\"}}],\"contour\":[{\"type\":\"contour\",\"colorbar\":{\"outlinewidth\":0,\"ticks\":\"\"},\"colorscale\":[[0.0,\"#0d0887\"],[0.1111111111111111,\"#46039f\"],[0.2222222222222222,\"#7201a8\"],[0.3333333333333333,\"#9c179e\"],[0.4444444444444444,\"#bd3786\"],[0.5555555555555556,\"#d8576b\"],[0.6666666666666666,\"#ed7953\"],[0.7777777777777778,\"#fb9f3a\"],[0.8888888888888888,\"#fdca26\"],[1.0,\"#f0f921\"]]}],\"surface\":[{\"type\":\"surface\",\"colorbar\":{\"outlinewidth\":0,\"ticks\":\"\"},\"colorscale\":[[0.0,\"#0d0887\"],[0.1111111111111111,\"#46039f\"],[0.2222222222222222,\"#7201a8\"],[0.3333333333333333,\"#9c179e\"],[0.4444444444444444,\"#bd3786\"],[0.5555555555555556,\"#d8576b\"],[0.6666666666666666,\"#ed7953\"],[0.7777777777777778,\"#fb9f3a\"],[0.8888888888888888,\"#fdca26\"],[1.0,\"#f0f921\"]]}],\"mesh3d\":[{\"type\":\"mesh3d\",\"colorbar\":{\"outlinewidth\":0,\"ticks\":\"\"}}],\"scatter\":[{\"fillpattern\":{\"fillmode\":\"overlay\",\"size\":10,\"solidity\":0.2},\"type\":\"scatter\"}],\"parcoords\":[{\"type\":\"parcoords\",\"line\":{\"colorbar\":{\"outlinewidth\":0,\"ticks\":\"\"}}}],\"scatterpolargl\":[{\"type\":\"scatterpolargl\",\"marker\":{\"colorbar\":{\"outlinewidth\":0,\"ticks\":\"\"}}}],\"bar\":[{\"error_x\":{\"color\":\"#2a3f5f\"},\"error_y\":{\"color\":\"#2a3f5f\"},\"marker\":{\"line\":{\"color\":\"#E5ECF6\",\"width\":0.5},\"pattern\":{\"fillmode\":\"overlay\",\"size\":10,\"solidity\":0.2}},\"type\":\"bar\"}],\"scattergeo\":[{\"type\":\"scattergeo\",\"marker\":{\"colorbar\":{\"outlinewidth\":0,\"ticks\":\"\"}}}],\"scatterpolar\":[{\"type\":\"scatterpolar\",\"marker\":{\"colorbar\":{\"outlinewidth\":0,\"ticks\":\"\"}}}],\"histogram\":[{\"marker\":{\"pattern\":{\"fillmode\":\"overlay\",\"size\":10,\"solidity\":0.2}},\"type\":\"histogram\"}],\"scattergl\":[{\"type\":\"scattergl\",\"marker\":{\"colorbar\":{\"outlinewidth\":0,\"ticks\":\"\"}}}],\"scatter3d\":[{\"type\":\"scatter3d\",\"line\":{\"colorbar\":{\"outlinewidth\":0,\"ticks\":\"\"}},\"marker\":{\"colorbar\":{\"outlinewidth\":0,\"ticks\":\"\"}}}],\"scattermapbox\":[{\"type\":\"scattermapbox\",\"marker\":{\"colorbar\":{\"outlinewidth\":0,\"ticks\":\"\"}}}],\"scatterternary\":[{\"type\":\"scatterternary\",\"marker\":{\"colorbar\":{\"outlinewidth\":0,\"ticks\":\"\"}}}],\"scattercarpet\":[{\"type\":\"scattercarpet\",\"marker\":{\"colorbar\":{\"outlinewidth\":0,\"ticks\":\"\"}}}],\"carpet\":[{\"aaxis\":{\"endlinecolor\":\"#2a3f5f\",\"gridcolor\":\"white\",\"linecolor\":\"white\",\"minorgridcolor\":\"white\",\"startlinecolor\":\"#2a3f5f\"},\"baxis\":{\"endlinecolor\":\"#2a3f5f\",\"gridcolor\":\"white\",\"linecolor\":\"white\",\"minorgridcolor\":\"white\",\"startlinecolor\":\"#2a3f5f\"},\"type\":\"carpet\"}],\"table\":[{\"cells\":{\"fill\":{\"color\":\"#EBF0F8\"},\"line\":{\"color\":\"white\"}},\"header\":{\"fill\":{\"color\":\"#C8D4E3\"},\"line\":{\"color\":\"white\"}},\"type\":\"table\"}],\"barpolar\":[{\"marker\":{\"line\":{\"color\":\"#E5ECF6\",\"width\":0.5},\"pattern\":{\"fillmode\":\"overlay\",\"size\":10,\"solidity\":0.2}},\"type\":\"barpolar\"}],\"pie\":[{\"automargin\":true,\"type\":\"pie\"}]},\"layout\":{\"autotypenumbers\":\"strict\",\"colorway\":[\"#636efa\",\"#EF553B\",\"#00cc96\",\"#ab63fa\",\"#FFA15A\",\"#19d3f3\",\"#FF6692\",\"#B6E880\",\"#FF97FF\",\"#FECB52\"],\"font\":{\"color\":\"#2a3f5f\"},\"hovermode\":\"closest\",\"hoverlabel\":{\"align\":\"left\"},\"paper_bgcolor\":\"white\",\"plot_bgcolor\":\"#E5ECF6\",\"polar\":{\"bgcolor\":\"#E5ECF6\",\"angularaxis\":{\"gridcolor\":\"white\",\"linecolor\":\"white\",\"ticks\":\"\"},\"radialaxis\":{\"gridcolor\":\"white\",\"linecolor\":\"white\",\"ticks\":\"\"}},\"ternary\":{\"bgcolor\":\"#E5ECF6\",\"aaxis\":{\"gridcolor\":\"white\",\"linecolor\":\"white\",\"ticks\":\"\"},\"baxis\":{\"gridcolor\":\"white\",\"linecolor\":\"white\",\"ticks\":\"\"},\"caxis\":{\"gridcolor\":\"white\",\"linecolor\":\"white\",\"ticks\":\"\"}},\"coloraxis\":{\"colorbar\":{\"outlinewidth\":0,\"ticks\":\"\"}},\"colorscale\":{\"sequential\":[[0.0,\"#0d0887\"],[0.1111111111111111,\"#46039f\"],[0.2222222222222222,\"#7201a8\"],[0.3333333333333333,\"#9c179e\"],[0.4444444444444444,\"#bd3786\"],[0.5555555555555556,\"#d8576b\"],[0.6666666666666666,\"#ed7953\"],[0.7777777777777778,\"#fb9f3a\"],[0.8888888888888888,\"#fdca26\"],[1.0,\"#f0f921\"]],\"sequentialminus\":[[0.0,\"#0d0887\"],[0.1111111111111111,\"#46039f\"],[0.2222222222222222,\"#7201a8\"],[0.3333333333333333,\"#9c179e\"],[0.4444444444444444,\"#bd3786\"],[0.5555555555555556,\"#d8576b\"],[0.6666666666666666,\"#ed7953\"],[0.7777777777777778,\"#fb9f3a\"],[0.8888888888888888,\"#fdca26\"],[1.0,\"#f0f921\"]],\"diverging\":[[0,\"#8e0152\"],[0.1,\"#c51b7d\"],[0.2,\"#de77ae\"],[0.3,\"#f1b6da\"],[0.4,\"#fde0ef\"],[0.5,\"#f7f7f7\"],[0.6,\"#e6f5d0\"],[0.7,\"#b8e186\"],[0.8,\"#7fbc41\"],[0.9,\"#4d9221\"],[1,\"#276419\"]]},\"xaxis\":{\"gridcolor\":\"white\",\"linecolor\":\"white\",\"ticks\":\"\",\"title\":{\"standoff\":15},\"zerolinecolor\":\"white\",\"automargin\":true,\"zerolinewidth\":2},\"yaxis\":{\"gridcolor\":\"white\",\"linecolor\":\"white\",\"ticks\":\"\",\"title\":{\"standoff\":15},\"zerolinecolor\":\"white\",\"automargin\":true,\"zerolinewidth\":2},\"scene\":{\"xaxis\":{\"backgroundcolor\":\"#E5ECF6\",\"gridcolor\":\"white\",\"linecolor\":\"white\",\"showbackground\":true,\"ticks\":\"\",\"zerolinecolor\":\"white\",\"gridwidth\":2},\"yaxis\":{\"backgroundcolor\":\"#E5ECF6\",\"gridcolor\":\"white\",\"linecolor\":\"white\",\"showbackground\":true,\"ticks\":\"\",\"zerolinecolor\":\"white\",\"gridwidth\":2},\"zaxis\":{\"backgroundcolor\":\"#E5ECF6\",\"gridcolor\":\"white\",\"linecolor\":\"white\",\"showbackground\":true,\"ticks\":\"\",\"zerolinecolor\":\"white\",\"gridwidth\":2}},\"shapedefaults\":{\"line\":{\"color\":\"#2a3f5f\"}},\"annotationdefaults\":{\"arrowcolor\":\"#2a3f5f\",\"arrowhead\":0,\"arrowwidth\":1},\"geo\":{\"bgcolor\":\"white\",\"landcolor\":\"#E5ECF6\",\"subunitcolor\":\"white\",\"showland\":true,\"showlakes\":true,\"lakecolor\":\"white\"},\"title\":{\"x\":0.05},\"mapbox\":{\"style\":\"light\"}}},\"xaxis\":{\"title\":{\"text\":\"Time\"}},\"yaxis\":{\"title\":{\"text\":\"Score\"}},\"title\":{\"text\":\"The amount of results obtained (score) of the submitted solutions over time\"},\"showlegend\":true},                        {\"responsive\": true}                    ).then(function(){\n",
       "                            \n",
       "var gd = document.getElementById('32069a0c-29d7-421e-93c7-2bbf6e67a3d0');\n",
       "var x = new MutationObserver(function (mutations, observer) {{\n",
       "        var display = window.getComputedStyle(gd).display;\n",
       "        if (!display || display === 'none') {{\n",
       "            console.log([gd, 'removed!']);\n",
       "            Plotly.purge(gd);\n",
       "            observer.disconnect();\n",
       "        }}\n",
       "}});\n",
       "\n",
       "// Listen for the removal of the full notebook cells\n",
       "var notebookContainer = gd.closest('#notebook-container');\n",
       "if (notebookContainer) {{\n",
       "    x.observe(notebookContainer, {childList: true});\n",
       "}}\n",
       "\n",
       "// Listen for the clearing of the current output cell\n",
       "var outputEl = gd.closest('.output');\n",
       "if (outputEl) {{\n",
       "    x.observe(outputEl, {childList: true});\n",
       "}}\n",
       "\n",
       "                        })                };                });            </script>        </div>"
      ]
     },
     "metadata": {},
     "output_type": "display_data"
    }
   ],
   "source": [
    "fig = go.Figure()\n",
    "fig.add_trace(\n",
    "    go.Scatter(\n",
    "        x=df['timestamp'], \n",
    "        y=df['score'], \n",
    "        mode='markers',\n",
    "        marker=dict(\n",
    "            size=6,\n",
    "            color=df['normalized_score'],\n",
    "            colorscale='Viridis',\n",
    "            colorbar=dict(title=\"Normalized Score\"),\n",
    "            showscale=True\n",
    "        ),\n",
    "        text=df['user_name'],\n",
    "        hoverinfo='text',\n",
    "        name='Score',\n",
    "    )\n",
    ")\n",
    "\n",
    "fig.update_xaxes(title_text=\"Time\")\n",
    "fig.update_yaxes(title_text=\"Score\")\n",
    "fig.update_layout(\n",
    "    title=\"The amount of results obtained (score) of the submitted solutions over time\",\n",
    "    showlegend=True,\n",
    ")\n"
   ]
  },
  {
   "cell_type": "markdown",
   "id": "5e1ac9bf",
   "metadata": {
    "papermill": {
     "duration": 0.011804,
     "end_time": "2023-07-15T20:56:10.098531",
     "exception": false,
     "start_time": "2023-07-15T20:56:10.086727",
     "status": "completed"
    },
    "tags": []
   },
   "source": [
    "### When you try to improve your solutions, you will see a much larger point range in the score obtained than in your first attempts. What emerges is a picture of learning by trial and error! : )"
   ]
  },
  {
   "cell_type": "code",
   "execution_count": 13,
   "id": "611f81f3",
   "metadata": {
    "_kg_hide-input": true,
    "execution": {
     "iopub.execute_input": "2023-07-15T20:56:10.124171Z",
     "iopub.status.busy": "2023-07-15T20:56:10.123797Z",
     "iopub.status.idle": "2023-07-15T20:56:10.159283Z",
     "shell.execute_reply": "2023-07-15T20:56:10.158205Z"
    },
    "papermill": {
     "duration": 0.050999,
     "end_time": "2023-07-15T20:56:10.161519",
     "exception": false,
     "start_time": "2023-07-15T20:56:10.110520",
     "status": "completed"
    },
    "tags": []
   },
   "outputs": [
    {
     "data": {
      "text/html": [
       "<div>                            <div id=\"525106a4-c762-4232-83c1-c593eee5c77b\" class=\"plotly-graph-div\" style=\"height:600px; width:800px;\"></div>            <script type=\"text/javascript\">                require([\"plotly\"], function(Plotly) {                    window.PLOTLYENV=window.PLOTLYENV || {};                                    if (document.getElementById(\"525106a4-c762-4232-83c1-c593eee5c77b\")) {                    Plotly.newPlot(                        \"525106a4-c762-4232-83c1-c593eee5c77b\",                        [{\"mode\":\"lines+markers\",\"name\":\"Uczestnik 1\",\"x\":[\"Uczestnik 1\",\"Uczestnik 1\"],\"y\":[73.684,77.99],\"type\":\"scatter\"},{\"mode\":\"lines+markers\",\"name\":\"Uczestnik 10\",\"x\":[\"Uczestnik 10\",\"Uczestnik 10\"],\"y\":[74.88,78.23],\"type\":\"scatter\"},{\"mode\":\"lines+markers\",\"name\":\"Uczestnik 11\",\"x\":[\"Uczestnik 11\",\"Uczestnik 11\"],\"y\":[75.837,77.751],\"type\":\"scatter\"},{\"mode\":\"lines+markers\",\"name\":\"Uczestnik 12\",\"x\":[\"Uczestnik 12\",\"Uczestnik 12\"],\"y\":[75.12,78.23],\"type\":\"scatter\"},{\"mode\":\"lines+markers\",\"name\":\"Uczestnik 13\",\"x\":[\"Uczestnik 13\",\"Uczestnik 13\"],\"y\":[76.077,79.187],\"type\":\"scatter\"},{\"mode\":\"lines+markers\",\"name\":\"Uczestnik 14\",\"x\":[\"Uczestnik 14\",\"Uczestnik 14\"],\"y\":[74.88,78.23],\"type\":\"scatter\"},{\"mode\":\"lines+markers\",\"name\":\"Uczestnik 15\",\"x\":[\"Uczestnik 15\",\"Uczestnik 15\"],\"y\":[77.033,78.469],\"type\":\"scatter\"},{\"mode\":\"lines+markers\",\"name\":\"Uczestnik 16\",\"x\":[\"Uczestnik 16\",\"Uczestnik 16\"],\"y\":[74.88,77.273],\"type\":\"scatter\"},{\"mode\":\"lines+markers\",\"name\":\"Uczestnik 17\",\"x\":[\"Uczestnik 17\",\"Uczestnik 17\"],\"y\":[75.359,77.273],\"type\":\"scatter\"},{\"mode\":\"lines+markers\",\"name\":\"Uczestnik 18\",\"x\":[\"Uczestnik 18\",\"Uczestnik 18\"],\"y\":[68.66,77.751],\"type\":\"scatter\"},{\"mode\":\"lines+markers\",\"name\":\"Uczestnik 19\",\"x\":[\"Uczestnik 19\",\"Uczestnik 19\"],\"y\":[61.005,77.512],\"type\":\"scatter\"},{\"mode\":\"lines+markers\",\"name\":\"Uczestnik 2\",\"x\":[\"Uczestnik 2\",\"Uczestnik 2\"],\"y\":[75.598,77.751],\"type\":\"scatter\"},{\"mode\":\"lines+markers\",\"name\":\"Uczestnik 20\",\"x\":[\"Uczestnik 20\",\"Uczestnik 20\"],\"y\":[74.163,77.033],\"type\":\"scatter\"},{\"mode\":\"lines+markers\",\"name\":\"Uczestnik 21\",\"x\":[\"Uczestnik 21\",\"Uczestnik 21\"],\"y\":[72.249,77.99],\"type\":\"scatter\"},{\"mode\":\"lines+markers\",\"name\":\"Uczestnik 3\",\"x\":[\"Uczestnik 3\",\"Uczestnik 3\"],\"y\":[74.402,77.273],\"type\":\"scatter\"},{\"mode\":\"lines+markers\",\"name\":\"Uczestnik 4\",\"x\":[\"Uczestnik 4\",\"Uczestnik 4\"],\"y\":[74.641,77.033],\"type\":\"scatter\"},{\"mode\":\"lines+markers\",\"name\":\"Uczestnik 5\",\"x\":[\"Uczestnik 5\",\"Uczestnik 5\"],\"y\":[77.273,78.947],\"type\":\"scatter\"},{\"mode\":\"lines+markers\",\"name\":\"Uczestnik 6\",\"x\":[\"Uczestnik 6\",\"Uczestnik 6\"],\"y\":[76.077,79.904],\"type\":\"scatter\"},{\"mode\":\"lines+markers\",\"name\":\"Uczestnik 7\",\"x\":[\"Uczestnik 7\",\"Uczestnik 7\"],\"y\":[50.957,77.273],\"type\":\"scatter\"},{\"mode\":\"lines+markers\",\"name\":\"Uczestnik 8\",\"x\":[\"Uczestnik 8\",\"Uczestnik 8\"],\"y\":[75.12,79.187],\"type\":\"scatter\"},{\"mode\":\"lines+markers\",\"name\":\"Uczestnik 9\",\"x\":[\"Uczestnik 9\",\"Uczestnik 9\"],\"y\":[75.598,77.99],\"type\":\"scatter\"}],                        {\"template\":{\"data\":{\"histogram2dcontour\":[{\"type\":\"histogram2dcontour\",\"colorbar\":{\"outlinewidth\":0,\"ticks\":\"\"},\"colorscale\":[[0.0,\"#0d0887\"],[0.1111111111111111,\"#46039f\"],[0.2222222222222222,\"#7201a8\"],[0.3333333333333333,\"#9c179e\"],[0.4444444444444444,\"#bd3786\"],[0.5555555555555556,\"#d8576b\"],[0.6666666666666666,\"#ed7953\"],[0.7777777777777778,\"#fb9f3a\"],[0.8888888888888888,\"#fdca26\"],[1.0,\"#f0f921\"]]}],\"choropleth\":[{\"type\":\"choropleth\",\"colorbar\":{\"outlinewidth\":0,\"ticks\":\"\"}}],\"histogram2d\":[{\"type\":\"histogram2d\",\"colorbar\":{\"outlinewidth\":0,\"ticks\":\"\"},\"colorscale\":[[0.0,\"#0d0887\"],[0.1111111111111111,\"#46039f\"],[0.2222222222222222,\"#7201a8\"],[0.3333333333333333,\"#9c179e\"],[0.4444444444444444,\"#bd3786\"],[0.5555555555555556,\"#d8576b\"],[0.6666666666666666,\"#ed7953\"],[0.7777777777777778,\"#fb9f3a\"],[0.8888888888888888,\"#fdca26\"],[1.0,\"#f0f921\"]]}],\"heatmap\":[{\"type\":\"heatmap\",\"colorbar\":{\"outlinewidth\":0,\"ticks\":\"\"},\"colorscale\":[[0.0,\"#0d0887\"],[0.1111111111111111,\"#46039f\"],[0.2222222222222222,\"#7201a8\"],[0.3333333333333333,\"#9c179e\"],[0.4444444444444444,\"#bd3786\"],[0.5555555555555556,\"#d8576b\"],[0.6666666666666666,\"#ed7953\"],[0.7777777777777778,\"#fb9f3a\"],[0.8888888888888888,\"#fdca26\"],[1.0,\"#f0f921\"]]}],\"heatmapgl\":[{\"type\":\"heatmapgl\",\"colorbar\":{\"outlinewidth\":0,\"ticks\":\"\"},\"colorscale\":[[0.0,\"#0d0887\"],[0.1111111111111111,\"#46039f\"],[0.2222222222222222,\"#7201a8\"],[0.3333333333333333,\"#9c179e\"],[0.4444444444444444,\"#bd3786\"],[0.5555555555555556,\"#d8576b\"],[0.6666666666666666,\"#ed7953\"],[0.7777777777777778,\"#fb9f3a\"],[0.8888888888888888,\"#fdca26\"],[1.0,\"#f0f921\"]]}],\"contourcarpet\":[{\"type\":\"contourcarpet\",\"colorbar\":{\"outlinewidth\":0,\"ticks\":\"\"}}],\"contour\":[{\"type\":\"contour\",\"colorbar\":{\"outlinewidth\":0,\"ticks\":\"\"},\"colorscale\":[[0.0,\"#0d0887\"],[0.1111111111111111,\"#46039f\"],[0.2222222222222222,\"#7201a8\"],[0.3333333333333333,\"#9c179e\"],[0.4444444444444444,\"#bd3786\"],[0.5555555555555556,\"#d8576b\"],[0.6666666666666666,\"#ed7953\"],[0.7777777777777778,\"#fb9f3a\"],[0.8888888888888888,\"#fdca26\"],[1.0,\"#f0f921\"]]}],\"surface\":[{\"type\":\"surface\",\"colorbar\":{\"outlinewidth\":0,\"ticks\":\"\"},\"colorscale\":[[0.0,\"#0d0887\"],[0.1111111111111111,\"#46039f\"],[0.2222222222222222,\"#7201a8\"],[0.3333333333333333,\"#9c179e\"],[0.4444444444444444,\"#bd3786\"],[0.5555555555555556,\"#d8576b\"],[0.6666666666666666,\"#ed7953\"],[0.7777777777777778,\"#fb9f3a\"],[0.8888888888888888,\"#fdca26\"],[1.0,\"#f0f921\"]]}],\"mesh3d\":[{\"type\":\"mesh3d\",\"colorbar\":{\"outlinewidth\":0,\"ticks\":\"\"}}],\"scatter\":[{\"fillpattern\":{\"fillmode\":\"overlay\",\"size\":10,\"solidity\":0.2},\"type\":\"scatter\"}],\"parcoords\":[{\"type\":\"parcoords\",\"line\":{\"colorbar\":{\"outlinewidth\":0,\"ticks\":\"\"}}}],\"scatterpolargl\":[{\"type\":\"scatterpolargl\",\"marker\":{\"colorbar\":{\"outlinewidth\":0,\"ticks\":\"\"}}}],\"bar\":[{\"error_x\":{\"color\":\"#2a3f5f\"},\"error_y\":{\"color\":\"#2a3f5f\"},\"marker\":{\"line\":{\"color\":\"#E5ECF6\",\"width\":0.5},\"pattern\":{\"fillmode\":\"overlay\",\"size\":10,\"solidity\":0.2}},\"type\":\"bar\"}],\"scattergeo\":[{\"type\":\"scattergeo\",\"marker\":{\"colorbar\":{\"outlinewidth\":0,\"ticks\":\"\"}}}],\"scatterpolar\":[{\"type\":\"scatterpolar\",\"marker\":{\"colorbar\":{\"outlinewidth\":0,\"ticks\":\"\"}}}],\"histogram\":[{\"marker\":{\"pattern\":{\"fillmode\":\"overlay\",\"size\":10,\"solidity\":0.2}},\"type\":\"histogram\"}],\"scattergl\":[{\"type\":\"scattergl\",\"marker\":{\"colorbar\":{\"outlinewidth\":0,\"ticks\":\"\"}}}],\"scatter3d\":[{\"type\":\"scatter3d\",\"line\":{\"colorbar\":{\"outlinewidth\":0,\"ticks\":\"\"}},\"marker\":{\"colorbar\":{\"outlinewidth\":0,\"ticks\":\"\"}}}],\"scattermapbox\":[{\"type\":\"scattermapbox\",\"marker\":{\"colorbar\":{\"outlinewidth\":0,\"ticks\":\"\"}}}],\"scatterternary\":[{\"type\":\"scatterternary\",\"marker\":{\"colorbar\":{\"outlinewidth\":0,\"ticks\":\"\"}}}],\"scattercarpet\":[{\"type\":\"scattercarpet\",\"marker\":{\"colorbar\":{\"outlinewidth\":0,\"ticks\":\"\"}}}],\"carpet\":[{\"aaxis\":{\"endlinecolor\":\"#2a3f5f\",\"gridcolor\":\"white\",\"linecolor\":\"white\",\"minorgridcolor\":\"white\",\"startlinecolor\":\"#2a3f5f\"},\"baxis\":{\"endlinecolor\":\"#2a3f5f\",\"gridcolor\":\"white\",\"linecolor\":\"white\",\"minorgridcolor\":\"white\",\"startlinecolor\":\"#2a3f5f\"},\"type\":\"carpet\"}],\"table\":[{\"cells\":{\"fill\":{\"color\":\"#EBF0F8\"},\"line\":{\"color\":\"white\"}},\"header\":{\"fill\":{\"color\":\"#C8D4E3\"},\"line\":{\"color\":\"white\"}},\"type\":\"table\"}],\"barpolar\":[{\"marker\":{\"line\":{\"color\":\"#E5ECF6\",\"width\":0.5},\"pattern\":{\"fillmode\":\"overlay\",\"size\":10,\"solidity\":0.2}},\"type\":\"barpolar\"}],\"pie\":[{\"automargin\":true,\"type\":\"pie\"}]},\"layout\":{\"autotypenumbers\":\"strict\",\"colorway\":[\"#636efa\",\"#EF553B\",\"#00cc96\",\"#ab63fa\",\"#FFA15A\",\"#19d3f3\",\"#FF6692\",\"#B6E880\",\"#FF97FF\",\"#FECB52\"],\"font\":{\"color\":\"#2a3f5f\"},\"hovermode\":\"closest\",\"hoverlabel\":{\"align\":\"left\"},\"paper_bgcolor\":\"white\",\"plot_bgcolor\":\"#E5ECF6\",\"polar\":{\"bgcolor\":\"#E5ECF6\",\"angularaxis\":{\"gridcolor\":\"white\",\"linecolor\":\"white\",\"ticks\":\"\"},\"radialaxis\":{\"gridcolor\":\"white\",\"linecolor\":\"white\",\"ticks\":\"\"}},\"ternary\":{\"bgcolor\":\"#E5ECF6\",\"aaxis\":{\"gridcolor\":\"white\",\"linecolor\":\"white\",\"ticks\":\"\"},\"baxis\":{\"gridcolor\":\"white\",\"linecolor\":\"white\",\"ticks\":\"\"},\"caxis\":{\"gridcolor\":\"white\",\"linecolor\":\"white\",\"ticks\":\"\"}},\"coloraxis\":{\"colorbar\":{\"outlinewidth\":0,\"ticks\":\"\"}},\"colorscale\":{\"sequential\":[[0.0,\"#0d0887\"],[0.1111111111111111,\"#46039f\"],[0.2222222222222222,\"#7201a8\"],[0.3333333333333333,\"#9c179e\"],[0.4444444444444444,\"#bd3786\"],[0.5555555555555556,\"#d8576b\"],[0.6666666666666666,\"#ed7953\"],[0.7777777777777778,\"#fb9f3a\"],[0.8888888888888888,\"#fdca26\"],[1.0,\"#f0f921\"]],\"sequentialminus\":[[0.0,\"#0d0887\"],[0.1111111111111111,\"#46039f\"],[0.2222222222222222,\"#7201a8\"],[0.3333333333333333,\"#9c179e\"],[0.4444444444444444,\"#bd3786\"],[0.5555555555555556,\"#d8576b\"],[0.6666666666666666,\"#ed7953\"],[0.7777777777777778,\"#fb9f3a\"],[0.8888888888888888,\"#fdca26\"],[1.0,\"#f0f921\"]],\"diverging\":[[0,\"#8e0152\"],[0.1,\"#c51b7d\"],[0.2,\"#de77ae\"],[0.3,\"#f1b6da\"],[0.4,\"#fde0ef\"],[0.5,\"#f7f7f7\"],[0.6,\"#e6f5d0\"],[0.7,\"#b8e186\"],[0.8,\"#7fbc41\"],[0.9,\"#4d9221\"],[1,\"#276419\"]]},\"xaxis\":{\"gridcolor\":\"white\",\"linecolor\":\"white\",\"ticks\":\"\",\"title\":{\"standoff\":15},\"zerolinecolor\":\"white\",\"automargin\":true,\"zerolinewidth\":2},\"yaxis\":{\"gridcolor\":\"white\",\"linecolor\":\"white\",\"ticks\":\"\",\"title\":{\"standoff\":15},\"zerolinecolor\":\"white\",\"automargin\":true,\"zerolinewidth\":2},\"scene\":{\"xaxis\":{\"backgroundcolor\":\"#E5ECF6\",\"gridcolor\":\"white\",\"linecolor\":\"white\",\"showbackground\":true,\"ticks\":\"\",\"zerolinecolor\":\"white\",\"gridwidth\":2},\"yaxis\":{\"backgroundcolor\":\"#E5ECF6\",\"gridcolor\":\"white\",\"linecolor\":\"white\",\"showbackground\":true,\"ticks\":\"\",\"zerolinecolor\":\"white\",\"gridwidth\":2},\"zaxis\":{\"backgroundcolor\":\"#E5ECF6\",\"gridcolor\":\"white\",\"linecolor\":\"white\",\"showbackground\":true,\"ticks\":\"\",\"zerolinecolor\":\"white\",\"gridwidth\":2}},\"shapedefaults\":{\"line\":{\"color\":\"#2a3f5f\"}},\"annotationdefaults\":{\"arrowcolor\":\"#2a3f5f\",\"arrowhead\":0,\"arrowwidth\":1},\"geo\":{\"bgcolor\":\"white\",\"landcolor\":\"#E5ECF6\",\"subunitcolor\":\"white\",\"showland\":true,\"showlakes\":true,\"lakecolor\":\"white\"},\"title\":{\"x\":0.05},\"mapbox\":{\"style\":\"light\"}}},\"title\":{\"text\":\"Range of results obtained by each user\"},\"xaxis\":{\"title\":{\"text\":\"Name\\u002falias of participant\"}},\"yaxis\":{\"title\":{\"text\":\"Score\"}},\"autosize\":false,\"width\":800,\"height\":600},                        {\"responsive\": true}                    ).then(function(){\n",
       "                            \n",
       "var gd = document.getElementById('525106a4-c762-4232-83c1-c593eee5c77b');\n",
       "var x = new MutationObserver(function (mutations, observer) {{\n",
       "        var display = window.getComputedStyle(gd).display;\n",
       "        if (!display || display === 'none') {{\n",
       "            console.log([gd, 'removed!']);\n",
       "            Plotly.purge(gd);\n",
       "            observer.disconnect();\n",
       "        }}\n",
       "}});\n",
       "\n",
       "// Listen for the removal of the full notebook cells\n",
       "var notebookContainer = gd.closest('#notebook-container');\n",
       "if (notebookContainer) {{\n",
       "    x.observe(notebookContainer, {childList: true});\n",
       "}}\n",
       "\n",
       "// Listen for the clearing of the current output cell\n",
       "var outputEl = gd.closest('.output');\n",
       "if (outputEl) {{\n",
       "    x.observe(outputEl, {childList: true});\n",
       "}}\n",
       "\n",
       "                        })                };                });            </script>        </div>"
      ]
     },
     "metadata": {},
     "output_type": "display_data"
    }
   ],
   "source": [
    "user_scores = df.groupby('user_name')['score'].agg(['min', 'max']).reset_index()\n",
    "fig = go.Figure()\n",
    "for i in range(len(user_scores)):\n",
    "    fig.add_trace(go.Scatter(\n",
    "        x=[user_scores['user_name'][i], user_scores['user_name'][i]], \n",
    "        y=[user_scores['min'][i], user_scores['max'][i]], \n",
    "        mode='lines+markers',\n",
    "        name=user_scores['user_name'][i]\n",
    "    ))\n",
    "\n",
    "fig.update_layout(\n",
    "    title=\"Range of results obtained by each user\",\n",
    "    xaxis_title=\"Name/alias of participant\",\n",
    "    yaxis_title=\"Score\",\n",
    "    autosize=False,\n",
    "    width=800,\n",
    "    height=600,\n",
    ")\n",
    "\n",
    "fig.show()"
   ]
  },
  {
   "cell_type": "markdown",
   "id": "1783fc9c",
   "metadata": {
    "papermill": {
     "duration": 0.01171,
     "end_time": "2023-07-15T20:56:10.185929",
     "exception": false,
     "start_time": "2023-07-15T20:56:10.174219",
     "status": "completed"
    },
    "tags": []
   },
   "source": [
    "### For most users, the difference in the scores obtained was not large. For some, however, RNG(random number generator) proved less merciful. :)"
   ]
  },
  {
   "cell_type": "markdown",
   "id": "97c7af20",
   "metadata": {
    "papermill": {
     "duration": 0.012265,
     "end_time": "2023-07-15T20:56:10.210350",
     "exception": false,
     "start_time": "2023-07-15T20:56:10.198085",
     "status": "completed"
    },
    "tags": []
   },
   "source": [
    "### Let's see what the overall trend of the average score obtained over time looked like for the 10-minute interval."
   ]
  },
  {
   "cell_type": "code",
   "execution_count": 14,
   "id": "e7112077",
   "metadata": {
    "_kg_hide-input": true,
    "execution": {
     "iopub.execute_input": "2023-07-15T20:56:10.237277Z",
     "iopub.status.busy": "2023-07-15T20:56:10.236272Z",
     "iopub.status.idle": "2023-07-15T20:56:10.257939Z",
     "shell.execute_reply": "2023-07-15T20:56:10.256945Z"
    },
    "papermill": {
     "duration": 0.037446,
     "end_time": "2023-07-15T20:56:10.260173",
     "exception": false,
     "start_time": "2023-07-15T20:56:10.222727",
     "status": "completed"
    },
    "tags": []
   },
   "outputs": [
    {
     "data": {
      "text/html": [
       "<div>                            <div id=\"ff24d197-dfbf-4440-9bcf-c5905c419df5\" class=\"plotly-graph-div\" style=\"height:600px; width:800px;\"></div>            <script type=\"text/javascript\">                require([\"plotly\"], function(Plotly) {                    window.PLOTLYENV=window.PLOTLYENV || {};                                    if (document.getElementById(\"ff24d197-dfbf-4440-9bcf-c5905c419df5\")) {                    Plotly.newPlot(                        \"ff24d197-dfbf-4440-9bcf-c5905c419df5\",                        [{\"mode\":\"lines\",\"name\":\"Tredn wyniku\",\"x\":[\"2023-07-13T11:20:00\",\"2023-07-13T11:30:00\",\"2023-07-13T11:40:00\",\"2023-07-13T11:50:00\",\"2023-07-13T12:00:00\",\"2023-07-13T12:10:00\",\"2023-07-13T12:20:00\",\"2023-07-13T12:30:00\",\"2023-07-13T12:40:00\"],\"y\":[76.614875,76.12869565217392,75.83729411764705,76.47745945945947,76.607,77.512,78.469,78.62866666666667,78.2295],\"type\":\"scatter\"}],                        {\"template\":{\"data\":{\"histogram2dcontour\":[{\"type\":\"histogram2dcontour\",\"colorbar\":{\"outlinewidth\":0,\"ticks\":\"\"},\"colorscale\":[[0.0,\"#0d0887\"],[0.1111111111111111,\"#46039f\"],[0.2222222222222222,\"#7201a8\"],[0.3333333333333333,\"#9c179e\"],[0.4444444444444444,\"#bd3786\"],[0.5555555555555556,\"#d8576b\"],[0.6666666666666666,\"#ed7953\"],[0.7777777777777778,\"#fb9f3a\"],[0.8888888888888888,\"#fdca26\"],[1.0,\"#f0f921\"]]}],\"choropleth\":[{\"type\":\"choropleth\",\"colorbar\":{\"outlinewidth\":0,\"ticks\":\"\"}}],\"histogram2d\":[{\"type\":\"histogram2d\",\"colorbar\":{\"outlinewidth\":0,\"ticks\":\"\"},\"colorscale\":[[0.0,\"#0d0887\"],[0.1111111111111111,\"#46039f\"],[0.2222222222222222,\"#7201a8\"],[0.3333333333333333,\"#9c179e\"],[0.4444444444444444,\"#bd3786\"],[0.5555555555555556,\"#d8576b\"],[0.6666666666666666,\"#ed7953\"],[0.7777777777777778,\"#fb9f3a\"],[0.8888888888888888,\"#fdca26\"],[1.0,\"#f0f921\"]]}],\"heatmap\":[{\"type\":\"heatmap\",\"colorbar\":{\"outlinewidth\":0,\"ticks\":\"\"},\"colorscale\":[[0.0,\"#0d0887\"],[0.1111111111111111,\"#46039f\"],[0.2222222222222222,\"#7201a8\"],[0.3333333333333333,\"#9c179e\"],[0.4444444444444444,\"#bd3786\"],[0.5555555555555556,\"#d8576b\"],[0.6666666666666666,\"#ed7953\"],[0.7777777777777778,\"#fb9f3a\"],[0.8888888888888888,\"#fdca26\"],[1.0,\"#f0f921\"]]}],\"heatmapgl\":[{\"type\":\"heatmapgl\",\"colorbar\":{\"outlinewidth\":0,\"ticks\":\"\"},\"colorscale\":[[0.0,\"#0d0887\"],[0.1111111111111111,\"#46039f\"],[0.2222222222222222,\"#7201a8\"],[0.3333333333333333,\"#9c179e\"],[0.4444444444444444,\"#bd3786\"],[0.5555555555555556,\"#d8576b\"],[0.6666666666666666,\"#ed7953\"],[0.7777777777777778,\"#fb9f3a\"],[0.8888888888888888,\"#fdca26\"],[1.0,\"#f0f921\"]]}],\"contourcarpet\":[{\"type\":\"contourcarpet\",\"colorbar\":{\"outlinewidth\":0,\"ticks\":\"\"}}],\"contour\":[{\"type\":\"contour\",\"colorbar\":{\"outlinewidth\":0,\"ticks\":\"\"},\"colorscale\":[[0.0,\"#0d0887\"],[0.1111111111111111,\"#46039f\"],[0.2222222222222222,\"#7201a8\"],[0.3333333333333333,\"#9c179e\"],[0.4444444444444444,\"#bd3786\"],[0.5555555555555556,\"#d8576b\"],[0.6666666666666666,\"#ed7953\"],[0.7777777777777778,\"#fb9f3a\"],[0.8888888888888888,\"#fdca26\"],[1.0,\"#f0f921\"]]}],\"surface\":[{\"type\":\"surface\",\"colorbar\":{\"outlinewidth\":0,\"ticks\":\"\"},\"colorscale\":[[0.0,\"#0d0887\"],[0.1111111111111111,\"#46039f\"],[0.2222222222222222,\"#7201a8\"],[0.3333333333333333,\"#9c179e\"],[0.4444444444444444,\"#bd3786\"],[0.5555555555555556,\"#d8576b\"],[0.6666666666666666,\"#ed7953\"],[0.7777777777777778,\"#fb9f3a\"],[0.8888888888888888,\"#fdca26\"],[1.0,\"#f0f921\"]]}],\"mesh3d\":[{\"type\":\"mesh3d\",\"colorbar\":{\"outlinewidth\":0,\"ticks\":\"\"}}],\"scatter\":[{\"fillpattern\":{\"fillmode\":\"overlay\",\"size\":10,\"solidity\":0.2},\"type\":\"scatter\"}],\"parcoords\":[{\"type\":\"parcoords\",\"line\":{\"colorbar\":{\"outlinewidth\":0,\"ticks\":\"\"}}}],\"scatterpolargl\":[{\"type\":\"scatterpolargl\",\"marker\":{\"colorbar\":{\"outlinewidth\":0,\"ticks\":\"\"}}}],\"bar\":[{\"error_x\":{\"color\":\"#2a3f5f\"},\"error_y\":{\"color\":\"#2a3f5f\"},\"marker\":{\"line\":{\"color\":\"#E5ECF6\",\"width\":0.5},\"pattern\":{\"fillmode\":\"overlay\",\"size\":10,\"solidity\":0.2}},\"type\":\"bar\"}],\"scattergeo\":[{\"type\":\"scattergeo\",\"marker\":{\"colorbar\":{\"outlinewidth\":0,\"ticks\":\"\"}}}],\"scatterpolar\":[{\"type\":\"scatterpolar\",\"marker\":{\"colorbar\":{\"outlinewidth\":0,\"ticks\":\"\"}}}],\"histogram\":[{\"marker\":{\"pattern\":{\"fillmode\":\"overlay\",\"size\":10,\"solidity\":0.2}},\"type\":\"histogram\"}],\"scattergl\":[{\"type\":\"scattergl\",\"marker\":{\"colorbar\":{\"outlinewidth\":0,\"ticks\":\"\"}}}],\"scatter3d\":[{\"type\":\"scatter3d\",\"line\":{\"colorbar\":{\"outlinewidth\":0,\"ticks\":\"\"}},\"marker\":{\"colorbar\":{\"outlinewidth\":0,\"ticks\":\"\"}}}],\"scattermapbox\":[{\"type\":\"scattermapbox\",\"marker\":{\"colorbar\":{\"outlinewidth\":0,\"ticks\":\"\"}}}],\"scatterternary\":[{\"type\":\"scatterternary\",\"marker\":{\"colorbar\":{\"outlinewidth\":0,\"ticks\":\"\"}}}],\"scattercarpet\":[{\"type\":\"scattercarpet\",\"marker\":{\"colorbar\":{\"outlinewidth\":0,\"ticks\":\"\"}}}],\"carpet\":[{\"aaxis\":{\"endlinecolor\":\"#2a3f5f\",\"gridcolor\":\"white\",\"linecolor\":\"white\",\"minorgridcolor\":\"white\",\"startlinecolor\":\"#2a3f5f\"},\"baxis\":{\"endlinecolor\":\"#2a3f5f\",\"gridcolor\":\"white\",\"linecolor\":\"white\",\"minorgridcolor\":\"white\",\"startlinecolor\":\"#2a3f5f\"},\"type\":\"carpet\"}],\"table\":[{\"cells\":{\"fill\":{\"color\":\"#EBF0F8\"},\"line\":{\"color\":\"white\"}},\"header\":{\"fill\":{\"color\":\"#C8D4E3\"},\"line\":{\"color\":\"white\"}},\"type\":\"table\"}],\"barpolar\":[{\"marker\":{\"line\":{\"color\":\"#E5ECF6\",\"width\":0.5},\"pattern\":{\"fillmode\":\"overlay\",\"size\":10,\"solidity\":0.2}},\"type\":\"barpolar\"}],\"pie\":[{\"automargin\":true,\"type\":\"pie\"}]},\"layout\":{\"autotypenumbers\":\"strict\",\"colorway\":[\"#636efa\",\"#EF553B\",\"#00cc96\",\"#ab63fa\",\"#FFA15A\",\"#19d3f3\",\"#FF6692\",\"#B6E880\",\"#FF97FF\",\"#FECB52\"],\"font\":{\"color\":\"#2a3f5f\"},\"hovermode\":\"closest\",\"hoverlabel\":{\"align\":\"left\"},\"paper_bgcolor\":\"white\",\"plot_bgcolor\":\"#E5ECF6\",\"polar\":{\"bgcolor\":\"#E5ECF6\",\"angularaxis\":{\"gridcolor\":\"white\",\"linecolor\":\"white\",\"ticks\":\"\"},\"radialaxis\":{\"gridcolor\":\"white\",\"linecolor\":\"white\",\"ticks\":\"\"}},\"ternary\":{\"bgcolor\":\"#E5ECF6\",\"aaxis\":{\"gridcolor\":\"white\",\"linecolor\":\"white\",\"ticks\":\"\"},\"baxis\":{\"gridcolor\":\"white\",\"linecolor\":\"white\",\"ticks\":\"\"},\"caxis\":{\"gridcolor\":\"white\",\"linecolor\":\"white\",\"ticks\":\"\"}},\"coloraxis\":{\"colorbar\":{\"outlinewidth\":0,\"ticks\":\"\"}},\"colorscale\":{\"sequential\":[[0.0,\"#0d0887\"],[0.1111111111111111,\"#46039f\"],[0.2222222222222222,\"#7201a8\"],[0.3333333333333333,\"#9c179e\"],[0.4444444444444444,\"#bd3786\"],[0.5555555555555556,\"#d8576b\"],[0.6666666666666666,\"#ed7953\"],[0.7777777777777778,\"#fb9f3a\"],[0.8888888888888888,\"#fdca26\"],[1.0,\"#f0f921\"]],\"sequentialminus\":[[0.0,\"#0d0887\"],[0.1111111111111111,\"#46039f\"],[0.2222222222222222,\"#7201a8\"],[0.3333333333333333,\"#9c179e\"],[0.4444444444444444,\"#bd3786\"],[0.5555555555555556,\"#d8576b\"],[0.6666666666666666,\"#ed7953\"],[0.7777777777777778,\"#fb9f3a\"],[0.8888888888888888,\"#fdca26\"],[1.0,\"#f0f921\"]],\"diverging\":[[0,\"#8e0152\"],[0.1,\"#c51b7d\"],[0.2,\"#de77ae\"],[0.3,\"#f1b6da\"],[0.4,\"#fde0ef\"],[0.5,\"#f7f7f7\"],[0.6,\"#e6f5d0\"],[0.7,\"#b8e186\"],[0.8,\"#7fbc41\"],[0.9,\"#4d9221\"],[1,\"#276419\"]]},\"xaxis\":{\"gridcolor\":\"white\",\"linecolor\":\"white\",\"ticks\":\"\",\"title\":{\"standoff\":15},\"zerolinecolor\":\"white\",\"automargin\":true,\"zerolinewidth\":2},\"yaxis\":{\"gridcolor\":\"white\",\"linecolor\":\"white\",\"ticks\":\"\",\"title\":{\"standoff\":15},\"zerolinecolor\":\"white\",\"automargin\":true,\"zerolinewidth\":2},\"scene\":{\"xaxis\":{\"backgroundcolor\":\"#E5ECF6\",\"gridcolor\":\"white\",\"linecolor\":\"white\",\"showbackground\":true,\"ticks\":\"\",\"zerolinecolor\":\"white\",\"gridwidth\":2},\"yaxis\":{\"backgroundcolor\":\"#E5ECF6\",\"gridcolor\":\"white\",\"linecolor\":\"white\",\"showbackground\":true,\"ticks\":\"\",\"zerolinecolor\":\"white\",\"gridwidth\":2},\"zaxis\":{\"backgroundcolor\":\"#E5ECF6\",\"gridcolor\":\"white\",\"linecolor\":\"white\",\"showbackground\":true,\"ticks\":\"\",\"zerolinecolor\":\"white\",\"gridwidth\":2}},\"shapedefaults\":{\"line\":{\"color\":\"#2a3f5f\"}},\"annotationdefaults\":{\"arrowcolor\":\"#2a3f5f\",\"arrowhead\":0,\"arrowwidth\":1},\"geo\":{\"bgcolor\":\"white\",\"landcolor\":\"#E5ECF6\",\"subunitcolor\":\"white\",\"showland\":true,\"showlakes\":true,\"lakecolor\":\"white\"},\"title\":{\"x\":0.05},\"mapbox\":{\"style\":\"light\"}}},\"title\":{\"text\":\"Average score over time, 10 minute time interval\"},\"xaxis\":{\"title\":{\"text\":\"Time\"}},\"yaxis\":{\"title\":{\"text\":\"Score\"}},\"autosize\":false,\"width\":800,\"height\":600},                        {\"responsive\": true}                    ).then(function(){\n",
       "                            \n",
       "var gd = document.getElementById('ff24d197-dfbf-4440-9bcf-c5905c419df5');\n",
       "var x = new MutationObserver(function (mutations, observer) {{\n",
       "        var display = window.getComputedStyle(gd).display;\n",
       "        if (!display || display === 'none') {{\n",
       "            console.log([gd, 'removed!']);\n",
       "            Plotly.purge(gd);\n",
       "            observer.disconnect();\n",
       "        }}\n",
       "}});\n",
       "\n",
       "// Listen for the removal of the full notebook cells\n",
       "var notebookContainer = gd.closest('#notebook-container');\n",
       "if (notebookContainer) {{\n",
       "    x.observe(notebookContainer, {childList: true});\n",
       "}}\n",
       "\n",
       "// Listen for the clearing of the current output cell\n",
       "var outputEl = gd.closest('.output');\n",
       "if (outputEl) {{\n",
       "    x.observe(outputEl, {childList: true});\n",
       "}}\n",
       "\n",
       "                        })                };                });            </script>        </div>"
      ]
     },
     "metadata": {},
     "output_type": "display_data"
    }
   ],
   "source": [
    "df['timestamp'] = pd.to_datetime(df['timestamp'])\n",
    "df = df.sort_values('timestamp')\n",
    "df_time_indexed = df.set_index('timestamp')\n",
    "df_resampled = df_time_indexed['score'].resample('10T').mean()\n",
    "fig = go.Figure()\n",
    "fig.add_trace(go.Scatter(\n",
    "    x=df_resampled.index, \n",
    "    y=df_resampled, \n",
    "    mode='lines',\n",
    "    name='Tredn wyniku'\n",
    "))\n",
    "fig.update_layout(\n",
    "    title='Average score over time, 10 minute time interval',\n",
    "    xaxis_title='Time',\n",
    "    yaxis_title='Score',\n",
    "    autosize=False,\n",
    "    width=800,\n",
    "    height=600,\n",
    ")\n",
    "\n",
    "fig.show()"
   ]
  },
  {
   "cell_type": "markdown",
   "id": "3b958d74",
   "metadata": {
    "papermill": {
     "duration": 0.011667,
     "end_time": "2023-07-15T20:56:10.284425",
     "exception": false,
     "start_time": "2023-07-15T20:56:10.272758",
     "status": "completed"
    },
    "tags": []
   },
   "source": [
    "### You can see a definite improvement in the results obtained while struggling with the classification task."
   ]
  },
  {
   "cell_type": "markdown",
   "id": "96319103",
   "metadata": {
    "papermill": {
     "duration": 0.012336,
     "end_time": "2023-07-15T20:56:10.308750",
     "exception": false,
     "start_time": "2023-07-15T20:56:10.296414",
     "status": "completed"
    },
    "tags": []
   },
   "source": [
    "## Fighting for a place on the leaderboard."
   ]
  },
  {
   "cell_type": "markdown",
   "id": "3463b95f",
   "metadata": {
    "papermill": {
     "duration": 0.012076,
     "end_time": "2023-07-15T20:56:10.333038",
     "exception": false,
     "start_time": "2023-07-15T20:56:10.320962",
     "status": "completed"
    },
    "tags": []
   },
   "source": [
    "### Let's see how the battle for first place looked on the scoreboard."
   ]
  },
  {
   "cell_type": "code",
   "execution_count": 15,
   "id": "b6828814",
   "metadata": {
    "_kg_hide-input": true,
    "execution": {
     "iopub.execute_input": "2023-07-15T20:56:10.359552Z",
     "iopub.status.busy": "2023-07-15T20:56:10.359129Z",
     "iopub.status.idle": "2023-07-15T20:56:10.410187Z",
     "shell.execute_reply": "2023-07-15T20:56:10.409481Z"
    },
    "papermill": {
     "duration": 0.06666,
     "end_time": "2023-07-15T20:56:10.412269",
     "exception": false,
     "start_time": "2023-07-15T20:56:10.345609",
     "status": "completed"
    },
    "tags": []
   },
   "outputs": [
    {
     "data": {
      "text/html": [
       "<div>                            <div id=\"c36b9653-1fd0-462e-9a4f-4c024ea351dc\" class=\"plotly-graph-div\" style=\"height:600px; width:1200px;\"></div>            <script type=\"text/javascript\">                require([\"plotly\"], function(Plotly) {                    window.PLOTLYENV=window.PLOTLYENV || {};                                    if (document.getElementById(\"c36b9653-1fd0-462e-9a4f-4c024ea351dc\")) {                    Plotly.newPlot(                        \"c36b9653-1fd0-462e-9a4f-4c024ea351dc\",                        [{\"mode\":\"lines+markers\",\"name\":\"Uczestnik 9\",\"x\":[\"2023-07-13T11:21:17.294000\",\"2023-07-13T11:31:06.967000\",\"2023-07-13T11:48:26.030000\",\"2023-07-13T11:51:44.426000\",\"2023-07-13T12:02:40.245000\"],\"y\":[77.033,77.751,77.751,77.99,77.99],\"type\":\"scatter\"},{\"mode\":\"lines+markers\",\"name\":\"Uczestnik 6\",\"x\":[\"2023-07-13T11:21:55.228000\",\"2023-07-13T11:32:04.955000\",\"2023-07-13T11:35:03.964000\",\"2023-07-13T11:38:15.228000\",\"2023-07-13T11:41:13.449000\",\"2023-07-13T11:49:09.383000\",\"2023-07-13T11:52:52.774000\",\"2023-07-13T11:57:06.690000\",\"2023-07-13T12:00:06.474000\",\"2023-07-13T12:03:30.379000\",\"2023-07-13T12:06:50.619000\",\"2023-07-13T12:13:42.256000\",\"2023-07-13T12:15:59.657000\",\"2023-07-13T12:23:08.930000\",\"2023-07-13T12:26:05.216000\",\"2023-07-13T12:28:48.344000\",\"2023-07-13T12:32:08.345000\",\"2023-07-13T12:49:02.936000\"],\"y\":[77.033,79.187,79.187,79.187,79.187,79.187,79.187,79.187,79.426,79.904,79.904,79.904,79.904,79.904,79.904,79.904,79.904,79.904],\"type\":\"scatter\"},{\"mode\":\"lines+markers\",\"name\":\"Uczestnik 10\",\"x\":[\"2023-07-13T11:24:40.041000\",\"2023-07-13T11:26:37.676000\",\"2023-07-13T12:33:40.150000\"],\"y\":[74.88,75.12,78.23],\"type\":\"scatter\"},{\"mode\":\"lines+markers\",\"name\":\"Uczestnik 3\",\"x\":[\"2023-07-13T11:24:54.016000\",\"2023-07-13T11:38:21.727000\",\"2023-07-13T11:53:35.120000\"],\"y\":[77.273,77.273,77.273],\"type\":\"scatter\"},{\"mode\":\"lines+markers\",\"name\":\"Uczestnik 20\",\"x\":[\"2023-07-13T11:25:16.267000\",\"2023-07-13T11:48:14.912000\",\"2023-07-13T11:50:06.972000\",\"2023-07-13T11:57:26.601000\"],\"y\":[77.033,77.033,77.033,77.033],\"type\":\"scatter\"},{\"mode\":\"lines+markers\",\"name\":\"Uczestnik 5\",\"x\":[\"2023-07-13T11:26:42.911000\",\"2023-07-13T11:40:52.300000\",\"2023-07-13T11:54:46.392000\",\"2023-07-13T12:05:00.524000\",\"2023-07-13T12:09:49.128000\",\"2023-07-13T12:29:01.735000\",\"2023-07-13T12:32:47.954000\",\"2023-07-13T12:47:16.834000\"],\"y\":[77.273,78.947,78.947,78.947,78.947,78.947,78.947,78.947],\"type\":\"scatter\"},{\"mode\":\"lines+markers\",\"name\":\"Uczestnik 16\",\"x\":[\"2023-07-13T11:26:44.922000\",\"2023-07-13T11:32:11.639000\",\"2023-07-13T11:34:57.997000\"],\"y\":[77.273,77.273,77.273],\"type\":\"scatter\"},{\"mode\":\"lines+markers\",\"name\":\"Uczestnik 12\",\"x\":[\"2023-07-13T11:26:51.131000\",\"2023-07-13T11:49:58.213000\",\"2023-07-13T11:54:45.579000\",\"2023-07-13T11:58:29.596000\",\"2023-07-13T12:07:24.454000\"],\"y\":[75.12,76.555,78.23,78.23,78.23],\"type\":\"scatter\"},{\"mode\":\"lines+markers\",\"name\":\"Uczestnik 19\",\"x\":[\"2023-07-13T11:27:14.478000\",\"2023-07-13T11:28:40.012000\",\"2023-07-13T11:49:06.453000\",\"2023-07-13T11:49:58.165000\",\"2023-07-13T11:56:47.251000\",\"2023-07-13T11:59:39.789000\",\"2023-07-13T12:02:25.895000\"],\"y\":[76.794,76.794,76.794,77.512,77.512,77.512,77.512],\"type\":\"scatter\"},{\"mode\":\"lines+markers\",\"name\":\"Uczestnik 21\",\"x\":[\"2023-07-13T11:27:25.891000\",\"2023-07-13T11:28:55.818000\",\"2023-07-13T11:31:16.518000\",\"2023-07-13T11:34:07.939000\",\"2023-07-13T11:48:25.760000\",\"2023-07-13T11:49:08.760000\",\"2023-07-13T11:51:12.910000\",\"2023-07-13T12:04:01.132000\",\"2023-07-13T12:07:39.907000\"],\"y\":[77.273,77.273,77.273,77.273,77.273,77.273,77.99,77.99,77.99],\"type\":\"scatter\"},{\"mode\":\"lines+markers\",\"name\":\"Uczestnik 15\",\"x\":[\"2023-07-13T11:29:26.762000\",\"2023-07-13T11:49:57.970000\",\"2023-07-13T11:53:28.818000\",\"2023-07-13T11:58:08.985000\",\"2023-07-13T12:06:50.389000\",\"2023-07-13T12:08:57.973000\"],\"y\":[78.23,78.23,78.23,78.23,78.23,78.469],\"type\":\"scatter\"},{\"mode\":\"lines+markers\",\"name\":\"Uczestnik 1\",\"x\":[\"2023-07-13T11:29:31.140000\",\"2023-07-13T11:48:19.407000\",\"2023-07-13T11:49:38.642000\",\"2023-07-13T11:50:58.116000\",\"2023-07-13T11:52:03.361000\",\"2023-07-13T11:56:18.989000\",\"2023-07-13T11:57:59.956000\",\"2023-07-13T12:01:20.877000\",\"2023-07-13T12:02:57.895000\",\"2023-07-13T12:05:45.495000\"],\"y\":[77.033,77.033,77.033,77.751,77.751,77.99,77.99,77.99,77.99,77.99],\"type\":\"scatter\"},{\"mode\":\"lines+markers\",\"name\":\"Uczestnik 13\",\"x\":[\"2023-07-13T11:29:53.679000\",\"2023-07-13T11:33:21.189000\",\"2023-07-13T11:36:57.382000\",\"2023-07-13T11:37:27.398000\",\"2023-07-13T11:48:04.686000\",\"2023-07-13T11:52:29.509000\",\"2023-07-13T11:55:33.826000\",\"2023-07-13T12:02:37.301000\",\"2023-07-13T12:07:24.190000\",\"2023-07-13T12:23:49.570000\"],\"y\":[76.077,77.99,79.187,79.187,79.187,79.187,79.187,79.187,79.187,79.187],\"type\":\"scatter\"},{\"mode\":\"lines+markers\",\"name\":\"Uczestnik 8\",\"x\":[\"2023-07-13T11:30:05.494000\",\"2023-07-13T11:32:47.513000\",\"2023-07-13T11:33:28.948000\",\"2023-07-13T11:39:55.346000\",\"2023-07-13T11:50:58.379000\",\"2023-07-13T11:55:38.556000\"],\"y\":[75.12,79.187,79.187,79.187,79.187,79.187],\"type\":\"scatter\"},{\"mode\":\"lines+markers\",\"name\":\"Uczestnik 7\",\"x\":[\"2023-07-13T11:31:16.090000\",\"2023-07-13T11:32:26.419000\",\"2023-07-13T11:35:39.982000\",\"2023-07-13T11:59:28.667000\",\"2023-07-13T12:07:59.043000\"],\"y\":[50.957,77.273,77.273,77.273,77.273],\"type\":\"scatter\"},{\"mode\":\"lines+markers\",\"name\":\"Uczestnik 4\",\"x\":[\"2023-07-13T11:32:09.066000\",\"2023-07-13T11:49:45.858000\",\"2023-07-13T11:57:26.277000\",\"2023-07-13T12:00:27.343000\"],\"y\":[77.033,77.033,77.033,77.033],\"type\":\"scatter\"},{\"mode\":\"lines+markers\",\"name\":\"Uczestnik 17\",\"x\":[\"2023-07-13T11:32:42.599000\",\"2023-07-13T11:50:38.895000\",\"2023-07-13T11:51:44.625000\",\"2023-07-13T11:58:36.966000\"],\"y\":[77.273,77.273,77.273,77.273],\"type\":\"scatter\"},{\"mode\":\"lines+markers\",\"name\":\"Uczestnik 18\",\"x\":[\"2023-07-13T11:36:05.892000\",\"2023-07-13T11:36:38.689000\",\"2023-07-13T11:50:55.784000\",\"2023-07-13T11:51:29.055000\",\"2023-07-13T11:58:09.236000\",\"2023-07-13T12:01:47.346000\",\"2023-07-13T12:04:57.574000\"],\"y\":[77.273,77.273,77.273,77.273,77.751,77.751,77.751],\"type\":\"scatter\"},{\"mode\":\"lines+markers\",\"name\":\"Uczestnik 11\",\"x\":[\"2023-07-13T11:48:46.188000\",\"2023-07-13T11:58:51.980000\",\"2023-07-13T12:03:02.275000\"],\"y\":[77.512,77.751,77.751],\"type\":\"scatter\"},{\"mode\":\"lines+markers\",\"name\":\"Uczestnik 2\",\"x\":[\"2023-07-13T11:48:46.571000\",\"2023-07-13T11:50:39.159000\",\"2023-07-13T11:53:05.533000\",\"2023-07-13T11:55:55.332000\",\"2023-07-13T11:59:28.944000\",\"2023-07-13T12:02:26.120000\"],\"y\":[76.077,76.077,77.751,77.751,77.751,77.751],\"type\":\"scatter\"},{\"mode\":\"lines+markers\",\"name\":\"Uczestnik 14\",\"x\":[\"2023-07-13T11:52:16.113000\",\"2023-07-13T11:55:52.662000\",\"2023-07-13T12:22:53.836000\"],\"y\":[75.12,75.12,78.23],\"type\":\"scatter\"}],                        {\"template\":{\"data\":{\"histogram2dcontour\":[{\"type\":\"histogram2dcontour\",\"colorbar\":{\"outlinewidth\":0,\"ticks\":\"\"},\"colorscale\":[[0.0,\"#0d0887\"],[0.1111111111111111,\"#46039f\"],[0.2222222222222222,\"#7201a8\"],[0.3333333333333333,\"#9c179e\"],[0.4444444444444444,\"#bd3786\"],[0.5555555555555556,\"#d8576b\"],[0.6666666666666666,\"#ed7953\"],[0.7777777777777778,\"#fb9f3a\"],[0.8888888888888888,\"#fdca26\"],[1.0,\"#f0f921\"]]}],\"choropleth\":[{\"type\":\"choropleth\",\"colorbar\":{\"outlinewidth\":0,\"ticks\":\"\"}}],\"histogram2d\":[{\"type\":\"histogram2d\",\"colorbar\":{\"outlinewidth\":0,\"ticks\":\"\"},\"colorscale\":[[0.0,\"#0d0887\"],[0.1111111111111111,\"#46039f\"],[0.2222222222222222,\"#7201a8\"],[0.3333333333333333,\"#9c179e\"],[0.4444444444444444,\"#bd3786\"],[0.5555555555555556,\"#d8576b\"],[0.6666666666666666,\"#ed7953\"],[0.7777777777777778,\"#fb9f3a\"],[0.8888888888888888,\"#fdca26\"],[1.0,\"#f0f921\"]]}],\"heatmap\":[{\"type\":\"heatmap\",\"colorbar\":{\"outlinewidth\":0,\"ticks\":\"\"},\"colorscale\":[[0.0,\"#0d0887\"],[0.1111111111111111,\"#46039f\"],[0.2222222222222222,\"#7201a8\"],[0.3333333333333333,\"#9c179e\"],[0.4444444444444444,\"#bd3786\"],[0.5555555555555556,\"#d8576b\"],[0.6666666666666666,\"#ed7953\"],[0.7777777777777778,\"#fb9f3a\"],[0.8888888888888888,\"#fdca26\"],[1.0,\"#f0f921\"]]}],\"heatmapgl\":[{\"type\":\"heatmapgl\",\"colorbar\":{\"outlinewidth\":0,\"ticks\":\"\"},\"colorscale\":[[0.0,\"#0d0887\"],[0.1111111111111111,\"#46039f\"],[0.2222222222222222,\"#7201a8\"],[0.3333333333333333,\"#9c179e\"],[0.4444444444444444,\"#bd3786\"],[0.5555555555555556,\"#d8576b\"],[0.6666666666666666,\"#ed7953\"],[0.7777777777777778,\"#fb9f3a\"],[0.8888888888888888,\"#fdca26\"],[1.0,\"#f0f921\"]]}],\"contourcarpet\":[{\"type\":\"contourcarpet\",\"colorbar\":{\"outlinewidth\":0,\"ticks\":\"\"}}],\"contour\":[{\"type\":\"contour\",\"colorbar\":{\"outlinewidth\":0,\"ticks\":\"\"},\"colorscale\":[[0.0,\"#0d0887\"],[0.1111111111111111,\"#46039f\"],[0.2222222222222222,\"#7201a8\"],[0.3333333333333333,\"#9c179e\"],[0.4444444444444444,\"#bd3786\"],[0.5555555555555556,\"#d8576b\"],[0.6666666666666666,\"#ed7953\"],[0.7777777777777778,\"#fb9f3a\"],[0.8888888888888888,\"#fdca26\"],[1.0,\"#f0f921\"]]}],\"surface\":[{\"type\":\"surface\",\"colorbar\":{\"outlinewidth\":0,\"ticks\":\"\"},\"colorscale\":[[0.0,\"#0d0887\"],[0.1111111111111111,\"#46039f\"],[0.2222222222222222,\"#7201a8\"],[0.3333333333333333,\"#9c179e\"],[0.4444444444444444,\"#bd3786\"],[0.5555555555555556,\"#d8576b\"],[0.6666666666666666,\"#ed7953\"],[0.7777777777777778,\"#fb9f3a\"],[0.8888888888888888,\"#fdca26\"],[1.0,\"#f0f921\"]]}],\"mesh3d\":[{\"type\":\"mesh3d\",\"colorbar\":{\"outlinewidth\":0,\"ticks\":\"\"}}],\"scatter\":[{\"fillpattern\":{\"fillmode\":\"overlay\",\"size\":10,\"solidity\":0.2},\"type\":\"scatter\"}],\"parcoords\":[{\"type\":\"parcoords\",\"line\":{\"colorbar\":{\"outlinewidth\":0,\"ticks\":\"\"}}}],\"scatterpolargl\":[{\"type\":\"scatterpolargl\",\"marker\":{\"colorbar\":{\"outlinewidth\":0,\"ticks\":\"\"}}}],\"bar\":[{\"error_x\":{\"color\":\"#2a3f5f\"},\"error_y\":{\"color\":\"#2a3f5f\"},\"marker\":{\"line\":{\"color\":\"#E5ECF6\",\"width\":0.5},\"pattern\":{\"fillmode\":\"overlay\",\"size\":10,\"solidity\":0.2}},\"type\":\"bar\"}],\"scattergeo\":[{\"type\":\"scattergeo\",\"marker\":{\"colorbar\":{\"outlinewidth\":0,\"ticks\":\"\"}}}],\"scatterpolar\":[{\"type\":\"scatterpolar\",\"marker\":{\"colorbar\":{\"outlinewidth\":0,\"ticks\":\"\"}}}],\"histogram\":[{\"marker\":{\"pattern\":{\"fillmode\":\"overlay\",\"size\":10,\"solidity\":0.2}},\"type\":\"histogram\"}],\"scattergl\":[{\"type\":\"scattergl\",\"marker\":{\"colorbar\":{\"outlinewidth\":0,\"ticks\":\"\"}}}],\"scatter3d\":[{\"type\":\"scatter3d\",\"line\":{\"colorbar\":{\"outlinewidth\":0,\"ticks\":\"\"}},\"marker\":{\"colorbar\":{\"outlinewidth\":0,\"ticks\":\"\"}}}],\"scattermapbox\":[{\"type\":\"scattermapbox\",\"marker\":{\"colorbar\":{\"outlinewidth\":0,\"ticks\":\"\"}}}],\"scatterternary\":[{\"type\":\"scatterternary\",\"marker\":{\"colorbar\":{\"outlinewidth\":0,\"ticks\":\"\"}}}],\"scattercarpet\":[{\"type\":\"scattercarpet\",\"marker\":{\"colorbar\":{\"outlinewidth\":0,\"ticks\":\"\"}}}],\"carpet\":[{\"aaxis\":{\"endlinecolor\":\"#2a3f5f\",\"gridcolor\":\"white\",\"linecolor\":\"white\",\"minorgridcolor\":\"white\",\"startlinecolor\":\"#2a3f5f\"},\"baxis\":{\"endlinecolor\":\"#2a3f5f\",\"gridcolor\":\"white\",\"linecolor\":\"white\",\"minorgridcolor\":\"white\",\"startlinecolor\":\"#2a3f5f\"},\"type\":\"carpet\"}],\"table\":[{\"cells\":{\"fill\":{\"color\":\"#EBF0F8\"},\"line\":{\"color\":\"white\"}},\"header\":{\"fill\":{\"color\":\"#C8D4E3\"},\"line\":{\"color\":\"white\"}},\"type\":\"table\"}],\"barpolar\":[{\"marker\":{\"line\":{\"color\":\"#E5ECF6\",\"width\":0.5},\"pattern\":{\"fillmode\":\"overlay\",\"size\":10,\"solidity\":0.2}},\"type\":\"barpolar\"}],\"pie\":[{\"automargin\":true,\"type\":\"pie\"}]},\"layout\":{\"autotypenumbers\":\"strict\",\"colorway\":[\"#636efa\",\"#EF553B\",\"#00cc96\",\"#ab63fa\",\"#FFA15A\",\"#19d3f3\",\"#FF6692\",\"#B6E880\",\"#FF97FF\",\"#FECB52\"],\"font\":{\"color\":\"#2a3f5f\"},\"hovermode\":\"closest\",\"hoverlabel\":{\"align\":\"left\"},\"paper_bgcolor\":\"white\",\"plot_bgcolor\":\"#E5ECF6\",\"polar\":{\"bgcolor\":\"#E5ECF6\",\"angularaxis\":{\"gridcolor\":\"white\",\"linecolor\":\"white\",\"ticks\":\"\"},\"radialaxis\":{\"gridcolor\":\"white\",\"linecolor\":\"white\",\"ticks\":\"\"}},\"ternary\":{\"bgcolor\":\"#E5ECF6\",\"aaxis\":{\"gridcolor\":\"white\",\"linecolor\":\"white\",\"ticks\":\"\"},\"baxis\":{\"gridcolor\":\"white\",\"linecolor\":\"white\",\"ticks\":\"\"},\"caxis\":{\"gridcolor\":\"white\",\"linecolor\":\"white\",\"ticks\":\"\"}},\"coloraxis\":{\"colorbar\":{\"outlinewidth\":0,\"ticks\":\"\"}},\"colorscale\":{\"sequential\":[[0.0,\"#0d0887\"],[0.1111111111111111,\"#46039f\"],[0.2222222222222222,\"#7201a8\"],[0.3333333333333333,\"#9c179e\"],[0.4444444444444444,\"#bd3786\"],[0.5555555555555556,\"#d8576b\"],[0.6666666666666666,\"#ed7953\"],[0.7777777777777778,\"#fb9f3a\"],[0.8888888888888888,\"#fdca26\"],[1.0,\"#f0f921\"]],\"sequentialminus\":[[0.0,\"#0d0887\"],[0.1111111111111111,\"#46039f\"],[0.2222222222222222,\"#7201a8\"],[0.3333333333333333,\"#9c179e\"],[0.4444444444444444,\"#bd3786\"],[0.5555555555555556,\"#d8576b\"],[0.6666666666666666,\"#ed7953\"],[0.7777777777777778,\"#fb9f3a\"],[0.8888888888888888,\"#fdca26\"],[1.0,\"#f0f921\"]],\"diverging\":[[0,\"#8e0152\"],[0.1,\"#c51b7d\"],[0.2,\"#de77ae\"],[0.3,\"#f1b6da\"],[0.4,\"#fde0ef\"],[0.5,\"#f7f7f7\"],[0.6,\"#e6f5d0\"],[0.7,\"#b8e186\"],[0.8,\"#7fbc41\"],[0.9,\"#4d9221\"],[1,\"#276419\"]]},\"xaxis\":{\"gridcolor\":\"white\",\"linecolor\":\"white\",\"ticks\":\"\",\"title\":{\"standoff\":15},\"zerolinecolor\":\"white\",\"automargin\":true,\"zerolinewidth\":2},\"yaxis\":{\"gridcolor\":\"white\",\"linecolor\":\"white\",\"ticks\":\"\",\"title\":{\"standoff\":15},\"zerolinecolor\":\"white\",\"automargin\":true,\"zerolinewidth\":2},\"scene\":{\"xaxis\":{\"backgroundcolor\":\"#E5ECF6\",\"gridcolor\":\"white\",\"linecolor\":\"white\",\"showbackground\":true,\"ticks\":\"\",\"zerolinecolor\":\"white\",\"gridwidth\":2},\"yaxis\":{\"backgroundcolor\":\"#E5ECF6\",\"gridcolor\":\"white\",\"linecolor\":\"white\",\"showbackground\":true,\"ticks\":\"\",\"zerolinecolor\":\"white\",\"gridwidth\":2},\"zaxis\":{\"backgroundcolor\":\"#E5ECF6\",\"gridcolor\":\"white\",\"linecolor\":\"white\",\"showbackground\":true,\"ticks\":\"\",\"zerolinecolor\":\"white\",\"gridwidth\":2}},\"shapedefaults\":{\"line\":{\"color\":\"#2a3f5f\"}},\"annotationdefaults\":{\"arrowcolor\":\"#2a3f5f\",\"arrowhead\":0,\"arrowwidth\":1},\"geo\":{\"bgcolor\":\"white\",\"landcolor\":\"#E5ECF6\",\"subunitcolor\":\"white\",\"showland\":true,\"showlakes\":true,\"lakecolor\":\"white\"},\"title\":{\"x\":0.05},\"mapbox\":{\"style\":\"light\"}}},\"yaxis\":{\"range\":[74.5,80.5],\"title\":{\"text\":\"Score\"}},\"title\":{\"text\":\"The maximum score obtained by the participant during the time\"},\"xaxis\":{\"title\":{\"text\":\"Time\"}},\"autosize\":false,\"width\":1200,\"height\":600},                        {\"responsive\": true}                    ).then(function(){\n",
       "                            \n",
       "var gd = document.getElementById('c36b9653-1fd0-462e-9a4f-4c024ea351dc');\n",
       "var x = new MutationObserver(function (mutations, observer) {{\n",
       "        var display = window.getComputedStyle(gd).display;\n",
       "        if (!display || display === 'none') {{\n",
       "            console.log([gd, 'removed!']);\n",
       "            Plotly.purge(gd);\n",
       "            observer.disconnect();\n",
       "        }}\n",
       "}});\n",
       "\n",
       "// Listen for the removal of the full notebook cells\n",
       "var notebookContainer = gd.closest('#notebook-container');\n",
       "if (notebookContainer) {{\n",
       "    x.observe(notebookContainer, {childList: true});\n",
       "}}\n",
       "\n",
       "// Listen for the clearing of the current output cell\n",
       "var outputEl = gd.closest('.output');\n",
       "if (outputEl) {{\n",
       "    x.observe(outputEl, {childList: true});\n",
       "}}\n",
       "\n",
       "                        })                };                });            </script>        </div>"
      ]
     },
     "metadata": {},
     "output_type": "display_data"
    }
   ],
   "source": [
    "df['cumulative_max_score'] = df.groupby('user_name')['score'].cummax()\n",
    "fig = go.Figure()\n",
    "\n",
    "for user in df['user_name'].unique():\n",
    "    user_df = df[df['user_name'] == user]\n",
    "    fig.add_trace(go.Scatter(\n",
    "        x=user_df['timestamp'], \n",
    "        y=user_df['cumulative_max_score'], \n",
    "        mode='lines+markers',\n",
    "        name=user\n",
    "    ))\n",
    "fig.update_yaxes(range=[74.5, 80.5])\n",
    "\n",
    "fig.update_layout(\n",
    "    title='The maximum score obtained by the participant during the time',\n",
    "    xaxis_title='Time',\n",
    "    yaxis_title='Score',\n",
    "    autosize=False,\n",
    "    width=1200,\n",
    "    height=600,\n",
    ")\n",
    "\n",
    "fig.show()"
   ]
  },
  {
   "cell_type": "markdown",
   "id": "730bf451",
   "metadata": {
    "papermill": {
     "duration": 0.012972,
     "end_time": "2023-07-15T20:56:10.437628",
     "exception": false,
     "start_time": "2023-07-15T20:56:10.424656",
     "status": "completed"
    },
    "tags": []
   },
   "source": [
    "### The winners of the first five places fought among themselves from the beginning of the struggle. The final shape of the front runners did not change from 12 o'clock. The runners in the middle of the pile improved their results usually until 12 o'clock, while some In the final moments of the struggle significantly improved the scores obtained."
   ]
  },
  {
   "cell_type": "markdown",
   "id": "797ccd6b",
   "metadata": {
    "papermill": {
     "duration": 0.012064,
     "end_time": "2023-07-15T20:56:10.462499",
     "exception": false,
     "start_time": "2023-07-15T20:56:10.450435",
     "status": "completed"
    },
    "tags": []
   },
   "source": [
    "## Thank you. It will be my pleasure to hear your feedback : )"
   ]
  }
 ],
 "metadata": {
  "kernelspec": {
   "display_name": "Python 3",
   "language": "python",
   "name": "python3"
  },
  "language_info": {
   "codemirror_mode": {
    "name": "ipython",
    "version": 3
   },
   "file_extension": ".py",
   "mimetype": "text/x-python",
   "name": "python",
   "nbconvert_exporter": "python",
   "pygments_lexer": "ipython3",
   "version": "3.10.12"
  },
  "papermill": {
   "default_parameters": {},
   "duration": 14.473053,
   "end_time": "2023-07-15T20:56:11.396784",
   "environment_variables": {},
   "exception": null,
   "input_path": "__notebook__.ipynb",
   "output_path": "__notebook__.ipynb",
   "parameters": {},
   "start_time": "2023-07-15T20:55:56.923731",
   "version": "2.4.0"
  }
 },
 "nbformat": 4,
 "nbformat_minor": 5
}
